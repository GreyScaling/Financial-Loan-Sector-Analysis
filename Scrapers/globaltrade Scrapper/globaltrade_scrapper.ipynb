{
 "cells": [
  {
   "cell_type": "code",
   "execution_count": 26,
   "metadata": {},
   "outputs": [],
   "source": [
    "import requests\n",
    "from bs4 import BeautifulSoup\n",
    "import pandas as pd\n",
    "import re"
   ]
  },
  {
   "cell_type": "code",
   "execution_count": 27,
   "metadata": {},
   "outputs": [],
   "source": [
    "headers = {\"User-Agent\" : \"Mozilla/5.0 (Windows NT 10.0; Win64; x64; rv:99.0) Gecko/20100101 Firefox/99.0\"}"
   ]
  },
  {
   "cell_type": "code",
   "execution_count": 28,
   "metadata": {},
   "outputs": [],
   "source": [
    "urls = ['https://www.globaltrademag.com/b2c-ecommerce-in-malaysia-supported-by-developed-logistics-and-internet-infrastructure/' ,\n",
    "        'https://www.globaltrademag.com/australias-toll-group-to-build-logistics-hub-in-singapore/']"
   ]
  },
  {
   "cell_type": "code",
   "execution_count": 29,
   "metadata": {},
   "outputs": [],
   "source": [
    "def get_soup(link):\n",
    "    \"\"\"\n",
    "    Returns html soup.\n",
    "    \"\"\"\n",
    "    html = requests.get(link , headers=headers).text\n",
    "    soup = BeautifulSoup(html, \"html.parser\")\n",
    "\n",
    "\n",
    "    return(soup)"
   ]
  },
  {
   "cell_type": "code",
   "execution_count": 30,
   "metadata": {},
   "outputs": [],
   "source": [
    "def get_allcontent(site):\n",
    "    return site.find(class_='singlearticle').find_all('p')"
   ]
  },
  {
   "cell_type": "code",
   "execution_count": 31,
   "metadata": {},
   "outputs": [],
   "source": [
    "def get_content(texts):\n",
    "    content= ' '.join(text.get_text() for text in texts)\n",
    "    content = re.sub('Related.*' , '' , content , flags=re.DOTALL)\n",
    "    return content"
   ]
  },
  {
   "cell_type": "code",
   "execution_count": 32,
   "metadata": {},
   "outputs": [],
   "source": [
    "def get_title(site):\n",
    "    return site.find(class_ = 'entry-title').get_text()\n",
    "    "
   ]
  },
  {
   "cell_type": "code",
   "execution_count": 33,
   "metadata": {},
   "outputs": [],
   "source": [
    "headlines = []\n",
    "main_contents = []"
   ]
  },
  {
   "cell_type": "code",
   "execution_count": 34,
   "metadata": {},
   "outputs": [
    {
     "name": "stdout",
     "output_type": "stream",
     "text": [
      "done\n",
      "done\n"
     ]
    }
   ],
   "source": [
    "for url in urls:\n",
    "    soup = get_soup(url)\n",
    "    all_content = get_allcontent(soup)\n",
    "    main_contents.append(get_content(all_content))\n",
    "    headlines.append(get_title(soup))\n",
    "    print('done')"
   ]
  },
  {
   "cell_type": "code",
   "execution_count": 35,
   "metadata": {},
   "outputs": [],
   "source": [
    "df = pd.DataFrame({'Title' : headlines , 'Content': main_contents  })\n",
    "df['Site-Name'] = 'globaltrade'\n",
    "df['Sector'] = 'Logistics'\n",
    "df['Country'] = ['Malaysia','Singapore']"
   ]
  },
  {
   "cell_type": "code",
   "execution_count": 36,
   "metadata": {},
   "outputs": [],
   "source": [
    "df.to_csv('globaltrade.csv')"
   ]
  }
 ],
 "metadata": {
  "kernelspec": {
   "display_name": "base",
   "language": "python",
   "name": "python3"
  },
  "language_info": {
   "codemirror_mode": {
    "name": "ipython",
    "version": 3
   },
   "file_extension": ".py",
   "mimetype": "text/x-python",
   "name": "python",
   "nbconvert_exporter": "python",
   "pygments_lexer": "ipython3",
   "version": "3.11.4"
  }
 },
 "nbformat": 4,
 "nbformat_minor": 2
}
