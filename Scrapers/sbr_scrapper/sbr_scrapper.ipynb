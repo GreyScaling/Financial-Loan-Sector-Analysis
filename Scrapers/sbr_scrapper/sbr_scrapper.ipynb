{
 "cells": [
  {
   "cell_type": "code",
   "execution_count": 27,
   "metadata": {},
   "outputs": [],
   "source": [
    "import requests\n",
    "from bs4 import BeautifulSoup\n",
    "import pandas as pd"
   ]
  },
  {
   "cell_type": "code",
   "execution_count": 28,
   "metadata": {},
   "outputs": [],
   "source": [
    "urls = [['https://sbr.com.sg/building-engineering/news/construction-sector-remain-below-pre-pandemic-levels-amidst-labour-shortage' , 'Construction sector to remain below pre-pandemic levels amidst labour shortage'] ,\n",
    "        ['https://sbr.com.sg/building-engineering/news/hong-leong-asias-earnings-grow-52-year' , 'Hong Leong Asia’s earnings to grow 52% this year'] , \n",
    "        ['https://sbr.com.sg/retail/news/singapores-technical-consumer-goods-market-grows-24-in-2022' , 'Singapore’s technical consumer goods market grows 2.4% in 2022'] ,\n",
    "        ['https://sbr.com.sg/food-beverage/exclusive/why-tim-hortons-bets-third-place-be-first-in-singapores-coffee-market' , 'Why Tim Hortons bets on ‘third-place’ to be first in Singapore’s coffee market']]"
   ]
  },
  {
   "cell_type": "code",
   "execution_count": 29,
   "metadata": {},
   "outputs": [],
   "source": [
    "headers = {\"User-Agent\" : \"Mozilla/5.0 (Windows NT 10.0; Win64; x64; rv:99.0) Gecko/20100101 Firefox/99.0\"}"
   ]
  },
  {
   "cell_type": "code",
   "execution_count": 30,
   "metadata": {},
   "outputs": [],
   "source": [
    "def get_soup(link):\n",
    "    \"\"\"\n",
    "    Returns html soup.\n",
    "    \"\"\"\n",
    "    html = requests.get(link , headers=headers).text\n",
    "    soup = BeautifulSoup(html, \"html.parser\")\n",
    "\n",
    "    return soup"
   ]
  },
  {
   "cell_type": "code",
   "execution_count": 31,
   "metadata": {},
   "outputs": [],
   "source": [
    "def get_allcontent(site):\n",
    "    return site.find(class_ = 'nf__description').get_text()"
   ]
  },
  {
   "cell_type": "code",
   "execution_count": 32,
   "metadata": {},
   "outputs": [],
   "source": [
    "all_content = []\n",
    "headlines = []"
   ]
  },
  {
   "cell_type": "code",
   "execution_count": 33,
   "metadata": {},
   "outputs": [
    {
     "name": "stdout",
     "output_type": "stream",
     "text": [
      "done\n",
      "done\n",
      "done\n",
      "done\n"
     ]
    }
   ],
   "source": [
    "for url in urls:\n",
    "    soup = get_soup(url[0])\n",
    "    all_content.append(get_allcontent(soup))\n",
    "    headlines.append(url[1])\n",
    "    print('done')\n"
   ]
  },
  {
   "cell_type": "code",
   "execution_count": 34,
   "metadata": {},
   "outputs": [],
   "source": [
    "df = pd.DataFrame({'Title': headlines , 'Content' : all_content })\n",
    "df['Site-Name'] = 'sbr'\n",
    "df['Sector'] = ['Construction', 'Construction' , 'Consumer Goods' , 'Consumer Goods']"
   ]
  },
  {
   "cell_type": "code",
   "execution_count": 35,
   "metadata": {},
   "outputs": [],
   "source": [
    "df.to_csv('sbr.csv')"
   ]
  }
 ],
 "metadata": {
  "kernelspec": {
   "display_name": "base",
   "language": "python",
   "name": "python3"
  },
  "language_info": {
   "codemirror_mode": {
    "name": "ipython",
    "version": 3
   },
   "file_extension": ".py",
   "mimetype": "text/x-python",
   "name": "python",
   "nbconvert_exporter": "python",
   "pygments_lexer": "ipython3",
   "version": "3.11.4"
  }
 },
 "nbformat": 4,
 "nbformat_minor": 2
}
