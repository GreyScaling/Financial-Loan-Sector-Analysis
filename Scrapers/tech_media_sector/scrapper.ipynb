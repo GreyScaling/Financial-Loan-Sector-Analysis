{
 "cells": [
  {
   "cell_type": "code",
   "execution_count": 2,
   "metadata": {},
   "outputs": [],
   "source": [
    "import requests\n",
    "from bs4 import BeautifulSoup\n",
    "import pandas as pd\n",
    "import re"
   ]
  },
  {
   "cell_type": "code",
   "execution_count": 3,
   "metadata": {},
   "outputs": [],
   "source": [
    "headers = {\"User-Agent\" : \"Mozilla/5.0 (Windows NT 10.0; Win64; x64; rv:99.0) Gecko/20100101 Firefox/99.0\"}"
   ]
  },
  {
   "cell_type": "code",
   "execution_count": 4,
   "metadata": {},
   "outputs": [],
   "source": [
    "urls = ['https://www.malaymail.com/news/money/mediaoutreach/2023/12/12/imda-fuels-media-industry-with-fresh-funding-of-s55-million-to-support-international-co-productions-and-enhance-local-virtual-production-capabilities/266842',\n",
    "        'https://telecom.economictimes.indiatimes.com/news/industry/singtel-profit-jumps-83-in-first-half-on-indonesia-gain/105081690',\n",
    "        'https://simplywall.st/markets/my/tech',\n",
    "        'https://www.temasek.com.sg/en/news-and-resources/news-room/news/2023/e-Conomy-SEA-2023-report']"
   ]
  },
  {
   "cell_type": "code",
   "execution_count": 5,
   "metadata": {},
   "outputs": [],
   "source": [
    "def get_soup(link):\n",
    "    \"\"\"\n",
    "    Returns html soup.\n",
    "    \"\"\"\n",
    "    html = requests.get(link , headers=headers).text\n",
    "    soup = BeautifulSoup(html, \"html.parser\")\n",
    "\n",
    "\n",
    "    return(soup)"
   ]
  },
  {
   "cell_type": "code",
   "execution_count": 6,
   "metadata": {},
   "outputs": [],
   "source": [
    "def get_allcontent(site ):\n",
    "    return site.find(class_ = re.compile('news-detail_newsTextDataWrap')).find_all('p')"
   ]
  },
  {
   "cell_type": "code",
   "execution_count": 7,
   "metadata": {},
   "outputs": [],
   "source": [
    "def get_content(texts):\n",
    "    return ' '.join(text.get_text() for text in texts)"
   ]
  },
  {
   "cell_type": "code",
   "execution_count": null,
   "metadata": {},
   "outputs": [],
   "source": [
    "headlines = []\n",
    "main_contents = []"
   ]
  },
  {
   "cell_type": "code",
   "execution_count": null,
   "metadata": {},
   "outputs": [
    {
     "name": "stdout",
     "output_type": "stream",
     "text": [
      "done\n",
      "done\n"
     ]
    }
   ],
   "source": [
    "for url in urls:\n",
    "    soup = get_soup(url)\n",
    "    all_content = get_allcontent(soup)\n",
    "    main_contents.append(get_content(all_content ))\n",
    "    headlines.append(url)\n",
    "    print('done')\n"
   ]
  },
  {
   "cell_type": "code",
   "execution_count": null,
   "metadata": {},
   "outputs": [],
   "source": [
    "# df = pd.DataFrame({'Title' : headlines , 'Content': main_contents  })\n",
    "# df['Site-Name'] = 'constructionbrief'\n",
    "# df['Sector'] = ['Construction','Logistics']\n",
    "# df['Country'] = 'Malaysia'"
   ]
  },
  {
   "cell_type": "code",
   "execution_count": 15,
   "metadata": {},
   "outputs": [],
   "source": [
    "html = requests.get(urls[0] , headers=headers).text\n",
    "soup = BeautifulSoup(html, \"html.parser\")"
   ]
  },
  {
   "cell_type": "code",
   "execution_count": 21,
   "metadata": {},
   "outputs": [],
   "source": [
    "def get_allcontent(site ):\n",
    "    content = site.find(class_ = 'article-body').find_all('p')\n",
    "    \n",
    "    content = re.sub('For more.*\\.' , '' , content , flags=re.DOTALL)\n",
    "    return content"
   ]
  },
  {
   "cell_type": "code",
   "execution_count": 22,
   "metadata": {},
   "outputs": [
    {
     "data": {
      "text/plain": [
       "' New S$30 million International Co-Production Fund to spur local collaboration with international partners to create globally appealing dramas with a distinct Singapore flavour. Another S$25 million to be injected into the Virtual Production Innovation Fund over the next three years to further develop local virtual production talent and enhance technical capabilities. SINGAPORE - Media OutReach Newswire - 12 December 2023 - The Infocomm Media Development Authority (IMDA) announced a S$30 million International Co-Production Fund to support the creation of high-quality drama series with a local flavour and international appeal, as well as a S$25 million top-up to the Virtual Production Innovation Fund to further develop the industry’s virtual production (VP) capabilities. The two funds were announced by Senior Minister of State for Communications and Information Tan Kiat How at the opening of the Asia TV Forum and Market (ATF) today, an event of the Singapore Media Festival (SMF). Hosted by IMDA, the SMF celebrates its 10th edition with the theme “Make It Here”, inspiring the region’s media talents to continue making a decade’s worth of dreams, content, and connections come true.   A call to create globally appealing Singapore stories with international partners    2. The International Co-Production Fund empowers media companies in Singapore to pursue co-productions with international partners to create content with a distinct local flavour for the Singapore story to reach global audiences through streaming platforms. Singapore’s diverse media talent pool can use the fund to deepen its proficiency by collaborating with international counterparts in creative roles such as producers, directors, and scriptwriters. The fund will be open to Singapore media companies with a track record in long-form content production. Local media companies with upcoming co-production projects to create Singapore stories that appeal to both Singaporeans and global audiences are welcome to submit their proposals to IMDA between 11 December 2023 and 31 January 2024.  3. The new International Co-Production Fund complements the range of existing overseas co-production initiatives. Alongside the International Co-Production Fund which is focused on showcasing Singapore stories for international audiences, media companies can tap on IMDA’s Media Talent Progression Programme to help local talent build their portfolios and experience, or the Singapore On-Screen Fund to spotlight Singapore as a destination through content. IMDA’s past co-production initiatives have produced successful films in the region like Ajoomma, the first Singapore-South Korea co-production film selected as Singapore’s submission to the 2023 Academy Awards and nominated for four Golden Horse Awards in 2022.   Enabling virtual production innovation to meet industry demands   4. IMDA also announced the injection of an additional S$25 million into the Virtual Production Innovation Fund over the next three years. This intensifies efforts to develop more local virtual production talent to meet the increasing demand for virtual productions in the industry.   Fresh funds to upskill virtual production talents and strengthen capabilities   5. The fund will grow the local virtual production talent pool by tapping on overseas trainers to deliver higher quality training, extending training to Institutes of Higher Learning (IHL) lecturers, and introducing VP modules into the existing media curriculum. For example, Ngee Ann Polytechnic and Republic Polytechnic, will run VP curriculums from April 2024. Local virtual production studio, Aux Media Group (Aux) will also partner with XON Studios, one of the pioneer VP studios in South Korea, to train and mentor local filmmakers to use VP for their storytelling.  6. The Virtual Production Innovation Fund was first announced in December 2022 with a S$5 million tranche to encourage local media companies to experiment with VP, and has seen remarkable success in improving the industry’s capabilities and opportunities with this emerging technology. To date, more than 20 creative projects have been made possible through the Virtual Production Innovation Fund and have exposed more than 300 media professionals with hands-on experience in virtual production. For example, Mediacorp applied VP in one of its upcoming Chinese drama series Once Upon A New Year’s Eve, to recreate historical monuments such as the Singapore National Theatre and the old National Library at Stamford Road to awaken a sense of nostalgia amongst Singaporeans. Local production company Refinery Media used VP to create a dense forest environment and a mythical dragon in Sleeping Beauty, a project that was selected through IMDA’s Virtual Production Innovation Call (Short-form).  7. Local companies and talent with VP projects that were supported by IMDA in the past year, recognised the value of the use of VP in production and how this technology has helped unlock new dimensions to their storytelling. The injection of fresh funds will enable more local media companies and talent to hone their capabilities with this emerging technology while working on projects that utilise VP.  8. As IMDA strengthens its support for media companies adopting emerging technologies, local VP studios such as Oceanus Media Global and Aux are already investing in the upgrading of their VP studios to meet the growing demand. Nanyang Polytechnic will also be stepping up to build local capabilities in VP.   The future of film and content production at ATF   9. International showcases and in-depth discussions on the role of technologies will be on ATF’s agenda this year, which runs from now until 8 December. Attendees can attend the Virtual Production Afternoon at the Singapore Pavilion, where panellists from Mediacorp and local production houses Weiyu Films and Ajacent Media, will showcase a teaser of their latest VP works and delve into their experiences working with virtual production. A panel of industry experts and creatives from Mediacorp, Viddsee and Scrawl Animation as well as a legal expert from the National University of Singapore, will also be present to discuss generative AI’s impact on the Media sector.  10. To find out more about the Singapore Media Festival and the Asia TV Forum & Market, please visit https://www.imda.gov.sg/sgmediafest. Media materials are available in this digital kit here.    '"
      ]
     },
     "execution_count": 22,
     "metadata": {},
     "output_type": "execute_result"
    }
   ],
   "source": [
    "get_allcontent(soup)"
   ]
  }
 ],
 "metadata": {
  "kernelspec": {
   "display_name": "base",
   "language": "python",
   "name": "python3"
  },
  "language_info": {
   "codemirror_mode": {
    "name": "ipython",
    "version": 3
   },
   "file_extension": ".py",
   "mimetype": "text/x-python",
   "name": "python",
   "nbconvert_exporter": "python",
   "pygments_lexer": "ipython3",
   "version": "3.11.4"
  }
 },
 "nbformat": 4,
 "nbformat_minor": 2
}
