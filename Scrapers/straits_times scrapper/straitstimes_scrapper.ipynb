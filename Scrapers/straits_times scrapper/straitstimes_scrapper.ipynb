{
 "cells": [
  {
   "cell_type": "code",
   "execution_count": 1,
   "metadata": {},
   "outputs": [],
   "source": [
    "from bs4 import BeautifulSoup\n",
    "from urllib import request\n",
    "import pandas as pd"
   ]
  },
  {
   "cell_type": "code",
   "execution_count": 2,
   "metadata": {},
   "outputs": [],
   "source": [
    "urls = ['https://www.straitstimes.com/business/economy/prices-of-food-electricity-and-gas-to-continue-rising-in-singapore-mas' ,\n",
    "       'https://www.straitstimes.com/singapore/between-32-billion-to-38-billion-in-construction-contracts-to-be-awarded-in-2024-bca' , \n",
    "       'https://www.straitstimes.com/business/singapore-companies-banks-remain-financially-resilient-even-as-borrowing-cost-rise-mas',\n",
    "       'https://www.straitstimes.com/business/singapore-logistics-growth-slows-with-red-sea-attacks-panama-drought']"
   ]
  },
  {
   "cell_type": "code",
   "execution_count": 3,
   "metadata": {},
   "outputs": [],
   "source": [
    "def get_soup(url):\n",
    "    \"\"\"\n",
    "    Returns html soup.\n",
    "    \"\"\"\n",
    "    html = request.urlopen(url).read().decode(\"utf8\")\n",
    "    soup = BeautifulSoup(html, \"html.parser\")\n",
    "\n",
    "\n",
    "    return(soup)"
   ]
  },
  {
   "cell_type": "code",
   "execution_count": 4,
   "metadata": {},
   "outputs": [],
   "source": [
    "def get_allcontent(site):\n",
    "    return site.find(class_ = 'ds-wrapper article-content-rawhtml').find_all('p')"
   ]
  },
  {
   "cell_type": "code",
   "execution_count": 5,
   "metadata": {},
   "outputs": [],
   "source": [
    "def get_headline(all_content):\n",
    "    return all_content.pop(0).get_text()"
   ]
  },
  {
   "cell_type": "code",
   "execution_count": 6,
   "metadata": {},
   "outputs": [],
   "source": [
    "def get_content(texts):\n",
    "    return ' '.join(text.get_text() for text in texts)"
   ]
  },
  {
   "cell_type": "code",
   "execution_count": 7,
   "metadata": {},
   "outputs": [],
   "source": [
    "headlines = []\n",
    "main_contents = []"
   ]
  },
  {
   "cell_type": "code",
   "execution_count": 8,
   "metadata": {},
   "outputs": [],
   "source": [
    "for url in urls:\n",
    "    soup = get_soup(url)\n",
    "    all_content = get_allcontent(soup)\n",
    "    headlines.append(get_headline(all_content))\n",
    "    main_contents.append(get_content(all_content))\n",
    "\n"
   ]
  },
  {
   "cell_type": "code",
   "execution_count": 9,
   "metadata": {},
   "outputs": [],
   "source": [
    "df = pd.DataFrame({'Title' : headlines , 'Content': main_contents  })\n"
   ]
  },
  {
   "cell_type": "code",
   "execution_count": 10,
   "metadata": {},
   "outputs": [],
   "source": [
    "df['Site-Name'] = 'straitstimes'\n",
    "df['Sector'] = ['Consumer Goods' , 'Construction' , 'Financials' , 'Logistics']\n",
    "df['Country'] = 'Singapore'"
   ]
  },
  {
   "cell_type": "code",
   "execution_count": 11,
   "metadata": {},
   "outputs": [],
   "source": [
    "df.to_csv('straits_contents.csv')"
   ]
  }
 ],
 "metadata": {
  "kernelspec": {
   "display_name": "base",
   "language": "python",
   "name": "python3"
  },
  "language_info": {
   "codemirror_mode": {
    "name": "ipython",
    "version": 3
   },
   "file_extension": ".py",
   "mimetype": "text/x-python",
   "name": "python",
   "nbconvert_exporter": "python",
   "pygments_lexer": "ipython3",
   "version": "3.11.4"
  }
 },
 "nbformat": 4,
 "nbformat_minor": 2
}
