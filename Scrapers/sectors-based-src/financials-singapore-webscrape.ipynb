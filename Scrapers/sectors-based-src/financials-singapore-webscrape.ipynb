{
 "cells": [
  {
   "cell_type": "code",
   "execution_count": 34,
   "metadata": {},
   "outputs": [],
   "source": [
    "from selenium import webdriver\n",
    "from selenium.webdriver.common.keys import Keys\n",
    "from selenium.webdriver.support.ui import WebDriverWait\n",
    "from selenium.webdriver.support import expected_conditions as EC\n",
    "from selenium.webdriver.common.by import By\n",
    "import pandas as pd"
   ]
  },
  {
   "cell_type": "code",
   "execution_count": 35,
   "metadata": {},
   "outputs": [],
   "source": [
    "def export(title:str, content:str, fileName:str, DataFrame:pd.DataFrame): \n",
    "  path = f'../sectors-based-txt/financials-singapore/{fileName}'\n",
    "  \n",
    "  siteName = fileName.replace('.txt', '')\n",
    "  siteName = ''.join([i for i in siteName if not i.isdigit()])\n",
    "  \n",
    "  content = content.split('\\n')\n",
    "  for _ in content:\n",
    "    if _.strip() == '':\n",
    "      content.remove(_)\n",
    "  \n",
    "  content = '\\n'.join(content)\n",
    "  \n",
    "  with open(path, 'w') as f:\n",
    "    f.write(title + '\\n\\n')\n",
    "    f.write(content)\n",
    "    \n",
    "  new_data = pd.DataFrame({\n",
    "    'Title': [title],\n",
    "    'Content': [content],\n",
    "    'Site-Name': [siteName]\n",
    "  })\n",
    "\n",
    "  DataFrame = pd.concat([DataFrame, new_data], ignore_index=True)\n",
    "  return DataFrame\n",
    "\n",
    "def export_to_csv(df:pd.DataFrame):\n",
    "  df[\"Sector\"] = \"Financials\"\n",
    "  df[\"Country\"] = \"Singapore\"\n",
    "  df.to_csv('../../csvs/financials-singapore.csv', index=False)  "
   ]
  },
  {
   "cell_type": "code",
   "execution_count": 36,
   "metadata": {},
   "outputs": [],
   "source": [
    "df = pd.DataFrame(columns=['Title', 'Content', 'Site-Name'])"
   ]
  },
  {
   "cell_type": "code",
   "execution_count": 37,
   "metadata": {},
   "outputs": [],
   "source": [
    "options = webdriver.ChromeOptions()\n",
    "\n",
    "user_agent = 'Mozilla/5.0 (Windows NT 10.0; Win64; x64) AppleWebKit/537.36 (KHTML, like Gecko) Chrome/83.0.4103.116 Safari/537.36'\n",
    "options.add_argument('--headless')\n",
    "options.add_argument(f'user-agent={user_agent}')\n",
    "\n",
    "driver = webdriver.Chrome(options=options)"
   ]
  },
  {
   "cell_type": "markdown",
   "metadata": {},
   "source": [
    "<h2>Article # 1</h2>\n",
    "Title : The next wave of Finance: Singapore’s growing Fintech market<br>\n",
    " <a href=\"https://www.v-key.com/resource/the-next-wave-of-finance-singapores-growing-fintech-market/\"> Link </a>\n"
   ]
  },
  {
   "cell_type": "code",
   "execution_count": 38,
   "metadata": {},
   "outputs": [],
   "source": [
    "path = 'https://www.v-key.com/resource/the-next-wave-of-finance-singapores-growing-fintech-market/'\n",
    "driver.get(path)"
   ]
  },
  {
   "cell_type": "code",
   "execution_count": 39,
   "metadata": {},
   "outputs": [
    {
     "name": "stdout",
     "output_type": "stream",
     "text": [
      "The next wave of Finance: Singapore’s growing Fintech market\n"
     ]
    }
   ],
   "source": [
    "site_title = driver.find_element('xpath', '//div[@class=\"section-content\"]/h2')\n",
    "print(site_title.text)"
   ]
  },
  {
   "cell_type": "code",
   "execution_count": 40,
   "metadata": {},
   "outputs": [
    {
     "name": "stdout",
     "output_type": "stream",
     "text": [
      "1\n"
     ]
    }
   ],
   "source": [
    "contentsElement = driver.find_elements('xpath', '//div[@class=\"section-content\"]/article')\n",
    "print(len(contentsElement))\n",
    "content = contentsElement[0].text"
   ]
  },
  {
   "cell_type": "code",
   "execution_count": 41,
   "metadata": {},
   "outputs": [],
   "source": [
    "df = export(site_title.text, content, 'v-key.txt', df)"
   ]
  },
  {
   "cell_type": "markdown",
   "metadata": {},
   "source": [
    "<h1>Article #2</h1>\n",
    "\n",
    "Title : Singapore insurance, finance sector down 0.9% in first quarter<br>\n",
    "<a href='https://www.insurancebusinessmag.com/asia/news/breaking-news/singapore-insurance-finance-sector-down-0-9-in-first-quarter-447348.aspx'>Link</a>\n"
   ]
  },
  {
   "cell_type": "code",
   "execution_count": 42,
   "metadata": {},
   "outputs": [],
   "source": [
    "path = 'https://www.insurancebusinessmag.com/asia/news/breaking-news/singapore-insurance-finance-sector-down-0-9-in-first-quarter-447348.aspx'\n",
    "driver.get(path)"
   ]
  },
  {
   "cell_type": "code",
   "execution_count": 43,
   "metadata": {},
   "outputs": [
    {
     "name": "stdout",
     "output_type": "stream",
     "text": [
      "Singapore insurance, finance sector down 0.9% in first quarter\n"
     ]
    }
   ],
   "source": [
    "site_title = driver.find_element('xpath', '//section[@class=\"wrapper wrapper--detail-title\"]/h1')\n",
    "print(site_title.text)"
   ]
  },
  {
   "cell_type": "code",
   "execution_count": 44,
   "metadata": {},
   "outputs": [
    {
     "name": "stdout",
     "output_type": "stream",
     "text": [
      "6\n"
     ]
    }
   ],
   "source": [
    "contentElement = driver.find_elements('xpath', '//div[@class=\"wrapper--detail__body\"]/p')\n",
    "print(len(contentElement))\n",
    "\n",
    "content = []\n",
    "\n",
    "for _ in contentElement:\n",
    "  content.append(_.text)\n"
   ]
  },
  {
   "cell_type": "code",
   "execution_count": 45,
   "metadata": {},
   "outputs": [],
   "source": [
    "df = export(site_title.text, '\\n'.join(content), 'insurancebusinessmag.txt', df)"
   ]
  },
  {
   "cell_type": "markdown",
   "metadata": {},
   "source": [
    "<h1>Article #3</h1>\n",
    "Title: MAS sees budding recovery in Singapore’s electronics, financial sectors as global environment turns<br>\n",
    "<a href='https://www.straitstimes.com/business/mas-sees-budding-recovery-in-singapore-s-electronics-financial-sectors-as-global-environment-turns'>Link</a>"
   ]
  },
  {
   "cell_type": "code",
   "execution_count": 46,
   "metadata": {},
   "outputs": [],
   "source": [
    "path = 'https://www.straitstimes.com/business/mas-sees-budding-recovery-in-singapore-s-electronics-financial-sectors-as-global-environment-turns'\n",
    "driver.get(path)"
   ]
  },
  {
   "cell_type": "code",
   "execution_count": 47,
   "metadata": {},
   "outputs": [
    {
     "name": "stdout",
     "output_type": "stream",
     "text": [
      "MAS sees budding recovery in Singapore’s electronics, financial sectors as global environment turns\n"
     ]
    }
   ],
   "source": [
    "site_title = driver.find_element('xpath', '//h1[@class=\"headline node-title\"]')\n",
    "print(site_title.text)"
   ]
  },
  {
   "cell_type": "code",
   "execution_count": 48,
   "metadata": {},
   "outputs": [
    {
     "name": "stdout",
     "output_type": "stream",
     "text": [
      "['SINGAPORE - The Republic’s 2024 economic outlook is contingent on global demand for goods made here, in particular electronic devices and components, the central bank said on Monday.', 'While the global electronics industry is showing signs of improvement, it could still experience challenging conditions, the Monetary Authority of Singapore (MAS) said in its biannual macroeconomic review report.', 'After two years of strong growth in 2021 and 2022, the global electronics industry has faced an extended slump in demand for goods ranging from mobile phones to PCs amid several rounds of interest rate hikes triggered by persistently high inflation.', 'Global semiconductor sales recorded its 14th consecutive month of year-on-year contraction in August, although the pace of decline slowed to 7.1 per cent in the July-August period, from 19 per cent in the first half of 2023.', 'The nascent pickup was led mainly by fabless semiconductor companies, which design and develop semiconductor chips and integrated circuits but do not own or operate their own semiconductor fabrication facilities. These include the designers of graphic processing units used in servers for generative artificial intelligence (AI) applications, said MAS, referring to chipmakers such as Nvidia, Qualcomm and Broadcom, which contract foundries such as Taiwan Semiconductor Manufacturing Company and GlobalFoundries to make their chips.', 'In contrast, most memory and logic chipmakers remained in the doldrums, as producers of information technology (IT) products such as smartphones and PCs opted to use chips and other parts stored in inventory in favour of new orders.', 'On the whole, demand for IT products has been tepid in Singapore’s top two final demand markets – China and the United States, MAS said. Hence, while there are signs of sustained demand from expansions in generative AI, electric vehicles (EVs), the Internet of Things and 5G networks, a recovery in the wider sector may take longer than expected.', 'MAS noted that major chip companies are forecasting a cautiously optimistic revenue outlook for the coming quarters.', 'It said research houses such as Nomura, Semiconductor Intelligence and Gartner are anticipating a modest pickup in global chip sales for the rest of 2023, bringing their median full-year forecast to minus 10.3 per cent, compared with minus 15.9 per cent in the first eight months of 2023, implying slower growth declines than previously expected.', 'By 2024, the decline in sales is projected to reverse and show growth of 11.8 per cent.', 'MAS warned, though, that there could be continued headwinds to the near-term prospects of the global tech sector. “First, a broader slowdown in the major economies could restrain end-demand for consumer and enterprise IT products and therefore chip orders.”', 'In particular, China – the world’s largest chip market – has posed a significant drag on global chip sales since the third quarter of 2022.', 'MAS added that the tech war between the US and China remains a risk. “From the initial focus on leading-edge chips for advanced technologies such as AI and supercomputing in October 2022, restrictions imposed by both sides have since broadened to the equipment and materials to manufacture chips for a wider range of strategic applications such as 5G network infrastructure, smartphones and EVs.”', 'Consequently, “some domestic players could be adversely affected by disruptions to the supply of materials or export markets if the current restrictions were to broaden and become more stringent and prolonged than anticipated”, MAS said.', 'The other industry that could benefit from an improvement in the overall global macro environment would be the financial sector, MAS said.', 'With inflation coming off its peak in Singapore and elsewhere, the local financial sector is showing early signs of a pickup and may post a modest recovery through 2024, MAS said.', 'The central bank said that the actual, inflation-adjusted value added by the financial sector has been lacklustre so far in 2023.', '“Amid the high interest rate environment, loans to both residents and non-residents have continued to decline. Likewise, fees and commission income among the banks, insurers and fund managers has been tepid.”', 'The central bank added that demand for relatively riskier investments such as unit trusts and insurance savings products has fallen as investor preferences have shifted towards lower risk and lower duration – almost cash equivalent – products, such as fixed deposits and treasury bills, MAS said.', 'While sluggish external demand and restrictive financial conditions will continue to weigh on the financial sector, fee incomes could see an uptick in 2024 with interest rates set to peak by the end of 2023.', 'Given that Singapore uses its currency as its main monetary policy tool, interest rates here follow the lead of US rates, which are predicted to ease through the next two years.', 'Based on the US Federal Reserve’s median projections as at September 2023, the federal funds rate is projected to peak at 5.6 per cent at the end of 2023, before moderating to 5.1 per cent in 2024 and 3.9 per cent in 2025.', '“The moderation in interest rates could induce shifts in asset allocation behaviour, with increased rotations into bond and equity funds from short-term cash equivalent assets. This will support fee incomes in the banks and fund management segments,” MAS said.']\n"
     ]
    }
   ],
   "source": [
    "contentElement = driver.find_elements('xpath', '//div[@class=\"clearfix text-formatted field field--name-field-paragraph-text field--type-text-long field--label-hidden field__item\"]/p')\n",
    "content = []\n",
    "for _ in contentElement:\n",
    "  content.append(_.text)\n",
    "\n",
    "print(content)"
   ]
  },
  {
   "cell_type": "code",
   "execution_count": 49,
   "metadata": {},
   "outputs": [],
   "source": [
    "df = export(site_title.text, '\\n'.join(content), 'straitstimes.txt', df)"
   ]
  },
  {
   "cell_type": "markdown",
   "metadata": {},
   "source": [
    "<h1>Article # 4</h1>\n",
    "Title : Total outstanding debt arranged by financial institutions in Singapore down 2% in 2022: MAS <br>\n",
    "<a href='https://www.straitstimes.com/business/total-outstanding-debt-arranged-by-financial-institutions-in-singapore-down-2-in-2022-mas'>Link</a>"
   ]
  },
  {
   "cell_type": "code",
   "execution_count": 50,
   "metadata": {},
   "outputs": [],
   "source": [
    "path = 'https://www.straitstimes.com/business/total-outstanding-debt-arranged-by-financial-institutions-in-singapore-down-2-in-2022-mas'\n",
    "driver.get(path)"
   ]
  },
  {
   "cell_type": "code",
   "execution_count": 51,
   "metadata": {},
   "outputs": [
    {
     "name": "stdout",
     "output_type": "stream",
     "text": [
      "Total outstanding debt arranged by financial institutions in Singapore down 2% in 2022: MAS\n"
     ]
    }
   ],
   "source": [
    "site_title = driver.find_element('xpath', '//h1[@class=\"headline node-title\"]')\n",
    "print(site_title.text)"
   ]
  },
  {
   "cell_type": "code",
   "execution_count": 52,
   "metadata": {},
   "outputs": [
    {
     "name": "stdout",
     "output_type": "stream",
     "text": [
      "27\n",
      "['SINGAPORE - The total outstanding debt arranged by financial institutions in Singapore stood at $512 billion at the end of 2022, down 2 per cent from $523 billion in 2021, as major central banks raised interest rates to rein in inflation.', 'New debt issuances tumbled 18 per cent to $190 billion in 2022 from $232 billion in 2021, according to the Singapore Corporate Debt Market Development Report 2023 released by the Monetary Authority of Singapore (MAS) on Monday.', 'In Asia excluding Japan, the issuance volume of G-3 bonds – which represent bonds denominated in US dollars, yen or euros – halved to US$192 billion (S$263 billion) from US$391 billion in 2021.', 'The US dollar was the most favoured currency for corporate debt issuances in Singapore in 2022, accounting for 73.4 per cent of the currency denominations.', 'This was followed by the Singapore dollar at 15.3 per cent, the euro and the Hong Kong dollar at 2.6 per cent each, and the Australian dollar at 2.5 per cent.', 'Financial institutions were the key issuers in 2022. This was driven by banks’ funding activity to strengthen capital buffers in anticipation of further interest rate hikes by the US Federal Reserve.', 'Their share of Singapore dollar issuances stood at 44.3 per cent. Statutory boards accounted for 28.1 per cent of the share of Singapore-dollar issuances, corporates excluding properties and special purpose vehicles at 10.7 per cent each, and property firms at 6.2 per cent.', \"By signing up, I accept SPH Media's Terms & Conditions and Privacy Policy as amended from time to time.\", 'Financial institutions accounted for 83.9 per cent of the non-Singapore dollar issuances. Corporations excluding property comprised 10.8 per cent, special purpose vehicles 4.7 per cent, supranational 0.3 per cent and property 0.3 per cent.', '“Financial institutions continued to tap our multi-currency bond market and raised funding in various currencies such as the US dollar, Australian dollar, yuan, Hong Kong dollar and euro in anticipation that funding costs were likely to rise further in the near term,” MAS said.\\xa0', 'On the other hand, the number of corporate issuers halved in 2022, as those with strong balance sheets cut back on fund-raising efforts as borrowing costs increased.', 'Issuance of green, social, sustainability, sustainability-linked and transition bonds (GSS+) in Singapore fell to $10.1 billion in 2022 from $14.4 billion in 2021. However, this remained higher than the $8.6 billion worth of issuances for\\xa02019 and 2020 combined, signalling “a continuing mainstreaming” of GSS+ bonds, MAS said.', 'In 2022, the Housing Board, National Environment Agency and national water agency PUB raised a total of $8.2 billion, half of which were green bonds.', 'The financial regulator said public sector green bond issuances are a key part of Singapore’s sustainability strategy and its efforts to develop the country as a green finance hub in Asia.', '“These issuances spur the development of a high-quality green bond market in Singapore by serving as a reference for the corporate green bond market, deepening market liquidity for green bonds, attracting green issuers, capital, and investors,” MAS said.', 'The Singapore Government issued its inaugural $2.4 billion sovereign green bond in August 2022. Proceeds from the 50-year bond were used to fund the Cross Island Line and Jurong Region Line.', 'Real estate investment trusts, such as First Reit, Ascendas Reit and Ascott Reit, issued a total of $500 million of social, green and sustainability-linked bonds in 2022 as well.', 'Also of note was an offshore US$500 million green bond issued by the Singapore branch of Bank of China in April 2022 as part of its sustainability series of bonds issued in various jurisdictions. The proceeds were used to fund electrified metro projects and green building projects.', 'MAS said global financial conditions continued to be less accommodative, with interest rates expected to remain higher for longer in 2023.', 'It said that Asian bond markets would be driven by the refinancing needs of corporate issuers as interest rate conditions stabilise and, over the medium term, financing needs to support Asia’s net-zero transition.', '“Singapore’s ecosystem of banks, investors, and professional service firms, as well as the digitalisation of bond market infrastructure, will support fund-raising efforts in the region and help channel international capital to support Asia’s growth and net-zero transition needs,” MAS said.', 'Year to date, the total volume of Singapore dollar-denominated issuances stood at $16.9 billion, compared with $21.3 billion in the same period last year, according to Bloomberg data.', 'Mr Wong Di Ming, research analyst of the bond research team at Bondsupermart, told The Straits Times that this was expected, given the challenging economic outlook. The higher interest rate environment had made it difficult for corporates to issue debt in 2023, notably in the first half of the year.', '“We continue to expect fewer issuances overall for 2023, underpinned by our view of higher-for-longer interest rates,” he said.', 'Corporates are expected to continue to tap the larger US dollar debt market, which provides more options to choose from.', '“That said, for investors who prefer to avoid foreign exchange risk, we recommend sticking to the currency they hold,” Mr Wong said.', 'The financial sector is expected to continue dominating debt issuances, given that banks benefit from the ongoing high interest rates.\\xa0Banks are incentivised to raise capital through the debt market to provide for more loans, while at the same time tapping various sources of capital beyond the traditional deposits.']\n"
     ]
    }
   ],
   "source": [
    "contentElement = driver.find_elements('xpath', '//div[@class=\"layout__region layout__region--content\"]/div[@class=\"clearfix text-formatted field field--name-field-paragraph-text field--type-text-long field--label-hidden field__item\"]//p')\n",
    "print(len(contentElement))\n",
    "content = []\n",
    "for _ in contentElement:\n",
    "  content.append(_.get_attribute('innerText'))\n",
    "\n",
    "print(content)"
   ]
  },
  {
   "cell_type": "code",
   "execution_count": 53,
   "metadata": {},
   "outputs": [],
   "source": [
    "df = export(site_title.text, '\\n'.join(content), 'straitstimes2.txt', df)"
   ]
  },
  {
   "cell_type": "markdown",
   "metadata": {},
   "source": [
    "<h1>Article # 5</h1>\n",
    "Title : Singapore banks face challenging outlook as loan demand slows <br>\n",
    "<a href='https://www.spglobal.com/marketintelligence/en/news-insights/latest-news-headlines/singapore-banks-face-challenging-outlook-as-loan-demand-slows-76919787'>Link</a>"
   ]
  },
  {
   "cell_type": "code",
   "execution_count": 54,
   "metadata": {},
   "outputs": [],
   "source": [
    "path='https://www.spglobal.com/marketintelligence/en/news-insights/latest-news-headlines/singapore-banks-face-challenging-outlook-as-loan-demand-slows-76919787'\n",
    "driver.get(path)"
   ]
  },
  {
   "cell_type": "code",
   "execution_count": 55,
   "metadata": {},
   "outputs": [
    {
     "name": "stdout",
     "output_type": "stream",
     "text": [
      "Singapore banks face challenging outlook as loan demand slows\n"
     ]
    }
   ],
   "source": [
    "site_title = driver.find_element('xpath', '//h2[@class=\"article__title\"]')\n",
    "print(site_title.text)"
   ]
  },
  {
   "cell_type": "code",
   "execution_count": 56,
   "metadata": {},
   "outputs": [
    {
     "name": "stdout",
     "output_type": "stream",
     "text": [
      "20\n",
      "['Singapore banks are likely to face muted results in the second half of 2023 after higher interest rates boosted profits in the first six months of the year.', 'DBS Group Holdings Ltd., Oversea-Chinese Banking Corp. Ltd. and United Overseas Bank Ltd. recently reported double-digit year-over-year increases in net profit for the second quarter, driven by strong net interest income growth. However, loan growth has slowed. The Monetary Authority of Singapore reported a decrease in bank loans to S$799.292 trillion in June from S$841.525 trillion a year earlier.', 'Loan growth has \"been disappointing,\" reflecting weaker customer demand due to high loan repricing, Thilan Wickramasinghe, head of equity research at Maybank Securities, told S&P Global Market Intelligence in an email. \"Unless there is a significant increase in credit demand, we anticipate that earnings will decrease in the second half of the year.\"', 'Singaporean banks have benefited from rising interest rates since early 2022, when most central banks began tightening policy to combat inflation. Lenders were able to pass higher rates on to their borrowers as economies emerged from the COVID-19 pandemic. Tightening has slowed in recent months, and most economists believe that interest rates are about to peak.', '', '\"The banks\\' earnings in the first half exceeded expectations. Interest income was stronger than anticipated, primarily due to net interest margins holding up. However, there are indications that this trend may be weakening,\" Wickramasinghe said.', 'Challenges ahead', 'Bank chiefs have also flagged a more challenging second half of the year.', \"DBS' total loans in the first six months of 2023 stood at S$415.71 billion, down from S$424.53 billion in the first half of 2022. OCBC's total loans for the first half totaled S$297 billion, compared to S$298 billion in the prior-year period. UOB's net customer loans for the first half dropped to S$314.65 billion from S$317.53 billion in the first half of 2022.\", 'DBS CEO Piyush Gupta expects \"low single-digit loan growth\" for the full year. \"Our pipelines through the second half of the year are looking reasonable, so I think for the full year we could still get low single-digit loan growth, but it will not be the earlier guidance of 3% to 5%,\" Gupta said during the bank\\'s Aug. 3 media briefing.', 'OCBC and UOB also expect single-digit loan growth for 2023.', 'At OCBC\\'s Aug. 4 earnings briefing, CEO Helen Wong predicted \"low to mid-single-digit loan growth potentially at the lower end,\" even as the bank still sees opportunities to increase its loan portfolio in segments such as energy, power and utilities. UOB also expects \"low to mid-single-digit loan growth\" and will focus on high-quality customers, CEO Ee Cheong Wee said in a July 27 briefing.', 'All three banks reported second-quarter net profit growth as interest rates boosted income. Net interest margins (NIMs) also improved due to unexpected rate hikes from the US Federal Reserve in July.', 'Margin surprise', \"In the second quarter, DBS Group's NIM increased to 2.16% from 1.58% a year ago. OCBC's NIM rose to 2.28% from 1.71%, while UOB's NIM went up to 2.13% from 1.63% a year ago.\", 'DBS\\' Gupta said the NIM growth was a \"bit of a surprise\" as the CEO had previously predicted NIMs may peak between 2.05% and 2.10% this year.', 'The higher NIMs could help banks maintain profit growth for the rest of 2023 as margins are higher than they were in the second half of 2022, Michael Makdad, equity analyst at Morningstar, told Market Intelligence.', '\"It\\'s sufficient for profit growth year on year even without loan growth and feeble recovery in fee income. Hopefully, the recovery in fee income gains pace, but that probably depends on market sentiment, as wealth management fees are sensitive to market conditions,\" Makdad said.', 'Makdad, however, expects flat NIMs in the second half and margins to eventually narrow in early 2024. Banks can maintain their \"double-digit profit growth overall in the second half, but not in 2024 as year-earlier comparisons get progressively more challenging,\" Makdad said.', 'As of Aug. 11, US$1 was equivalent to S$1.35.']\n"
     ]
    }
   ],
   "source": [
    "contentElement = driver.find_elements('xpath', '//p[@class=\"MsoNormal\"]')\n",
    "print(len(contentElement))\n",
    "\n",
    "content = []\n",
    "for _ in contentElement:\n",
    "  content.append(_.text)\n",
    "print(content)"
   ]
  },
  {
   "cell_type": "code",
   "execution_count": 57,
   "metadata": {},
   "outputs": [],
   "source": [
    "df = export(site_title.text, '\\n'.join(content), 'spglobal.txt', df)"
   ]
  },
  {
   "cell_type": "markdown",
   "metadata": {},
   "source": [
    "<h1>Article # 6</h1>\n",
    "Title : Singapore banks face uphill task to repeat 2023 profit growth <br>\n",
    "<a href='https://www.spglobal.com/marketintelligence/en/news-insights/latest-news-headlines/singapore-banks-face-uphill-task-to-repeat-2023-profit-growth-79694498'>Link</a>"
   ]
  },
  {
   "cell_type": "code",
   "execution_count": 58,
   "metadata": {},
   "outputs": [],
   "source": [
    "path='https://www.spglobal.com/marketintelligence/en/news-insights/latest-news-headlines/singapore-banks-face-uphill-task-to-repeat-2023-profit-growth-79694498'\n",
    "driver.get(path)"
   ]
  },
  {
   "cell_type": "code",
   "execution_count": 59,
   "metadata": {},
   "outputs": [
    {
     "name": "stdout",
     "output_type": "stream",
     "text": [
      "Singapore banks face uphill task to repeat 2023 profit growth\n"
     ]
    }
   ],
   "source": [
    "site_title = driver.find_element('xpath', '//h2[@class=\"article__title\"]')\n",
    "print(site_title.text)"
   ]
  },
  {
   "cell_type": "code",
   "execution_count": 60,
   "metadata": {},
   "outputs": [
    {
     "name": "stdout",
     "output_type": "stream",
     "text": [
      "21\n",
      "[\"Singapore's biggest lenders face an uphill battle to replicate 2024's strong profits due to tepid loan growth in an environment of higher-for-longer interest rates.\", 'DBS Group Holdings Ltd., Oversea-Chinese Banking Corp. Ltd. and United Overseas Bank Ltd. are expected to see significant jumps in net income in 2023 compared to previous years, as the increase in global interest rates boosted net interest margins amid post-pandemic economic recovery. DBS will hit S$10.20 billion in net income in 2023 compared to S$8.19 billion in 2022, according to analyst estimates compiled by S&P Global Market Intelligence. OCBC is expected to hit S$7.07 billion in 2023 against S$5.75 billion at the end of 2022, while UOB is forecast to reach S$5.79 billion at the end of this year from S$4.82 billion a year earlier, the analyst estimates show.', 'But as interest rates have seemingly plateaued and are expected to start easing in 2024, maintaining this strong performance will be a challenge. At the same time, lenders face a weak outlook for new loans as higher rates mean companies have a general reluctance to take on debt.', 'DBS could see its net income drop in 2024 from 2023, while OCBC and UOB will see only marginal gains, according to the analyst estimates.', '\"The banks had a strong year with core-earnings growing 33% YOY in the first 9-months,\" Thilan Wickramasinghe head of research Singapore at Maybank Securities, told S&P Global Market Intelligence in an email. The lenders overcame challenges — including the negative impacts of the US banking crisis in March and a slide in wealth management income as customers chose to reduce risk — as higher net interest margins and benign nonperforming loans supported profits, Wickramasinghe said.', 'Other challengers will emerge in 2024. With the US Fed has indicating that interest rates have peaked, further loan yield hikes will be tougher and funding costs will rise. \"We think profitability growth could flatten out or marginally retreat in 2024,\" Wickramasinghe said.', '', '', '', 'Positive outlook', \"Singapore was among the first central banks in Asia-Pacific to start tightening its monetary policy in October 2021 as inflationary pressures started to build. The central bank, which uses currency as its monetary policy tool since external trade dwarfs the island nation's economy, held steady at its last review in October, an indication that it was in a wait-and-watch mode for further action. Singapore is among the Asian nations most closely tied to global trends as its banks have significant operations across the region and because its economy relies heavily on trade.\", \"Banks' CEOs are, however, positive on the outlook for 2024.\", 'DBS will be able to \"wind up holding net profits around this year\\'s level, which we are fairly confident will cross S$10 billion,\" CEO Piyush Gupta said during the bank\\'s Nov. 6 earnings call. \"The challenge was loans. At the beginning of the year, I had thought we might be able to get mid-single-digit growth. By the middle of the year, I said it would be low-single-digits. As it turned out, loan growth has been even more subdued,\" Gupta said.', 'Loans may grow at a \"tepid\" rate of around 3% for 2023 and 2024, according to Ivan Tan, an analyst at S&P Global Ratings. \"Companies have become more circumspect about taking on loans as borrowing costs have gone up, with some paying down their obligations.\"', '', '', 'Noninterest income', 'UOB CEO Ee Cheong Wee expects mid-single-digit loan growth and margins to stay at current levels. \"The macroeconomic environment ahead should remain bumpy, but our strong balance sheets and diversified revenue drivers will help smoothen the ride,\" Wee said during the bank\\'s Oct. 26 earnings call. The bank\\'s fee income, however, may see double-digit growth in 2024.', 'Fee income has garnered more attention as loan growth has stalled among banks. Wee said UOB has sought to diversify its income sources. \"Today, fees become very important; wealth management fees, credit card fees and all these related fees that we are focusing on. You don\\'t just focus on one single loan, right? The capability is there,\" Wee said.', 'Rival OCBC also reported a rebound in fee income in the third quarter. Still, the bank\\'s CEO, Helen Wong, had a word of caution. \"We need to see that momentum [in fee incomes] going. I think investors are still sitting a bit on the bank as regards to whether they would go actively into more wealth management activities,\" Wong said during the bank\\'s Nov. 10 earnings call.', 'Despite the challenges, Singaporean banks are quite resilient, said Michael Makdad, equity analyst at Morningstar. \"Profit performance has been somewhat better than expected ... because net interest margins have stayed wide amid \\'higher-for-longer\\' interest rates. Fee income didn’t rebound as strongly as hoped, but I think cost control has been somewhat better than expected given the high rate of global inflation. A period of low profit growth is more likely than any outright decline,\" Makdad said.']\n"
     ]
    }
   ],
   "source": [
    "contentElement = driver.find_elements('xpath', '//p[@class=\"MsoNormal\"]')\n",
    "print(len(contentElement))\n",
    "\n",
    "content = []\n",
    "for _ in contentElement:\n",
    "  content.append(_.text)\n",
    "print(content)"
   ]
  },
  {
   "cell_type": "markdown",
   "metadata": {},
   "source": [
    "<h1>Article # 7</h1>\n",
    "Title : Singapore banks' margins may level off in 2023 as policy tightening nears end<br>\n",
    "<a href='https://www.spglobal.com/marketintelligence/en/news-insights/latest-news-headlines/singapore-banks-margins-may-level-off-in-2023-as-policy-tightening-nears-end-74522999'>Link</a>"
   ]
  },
  {
   "cell_type": "code",
   "execution_count": 61,
   "metadata": {},
   "outputs": [],
   "source": [
    "path = 'https://www.spglobal.com/marketintelligence/en/news-insights/latest-news-headlines/singapore-banks-margins-may-level-off-in-2023-as-policy-tightening-nears-end-74522999'\n",
    "driver.get(path)"
   ]
  },
  {
   "cell_type": "code",
   "execution_count": 62,
   "metadata": {},
   "outputs": [
    {
     "name": "stdout",
     "output_type": "stream",
     "text": [
      "Singapore banks' margins may level off in 2023 as policy tightening nears end\n"
     ]
    }
   ],
   "source": [
    "site_title = driver.find_element('xpath', '//h2[@class=\"article__title\"]')\n",
    "print(site_title.text)"
   ]
  },
  {
   "cell_type": "code",
   "execution_count": 63,
   "metadata": {},
   "outputs": [
    {
     "name": "stdout",
     "output_type": "stream",
     "text": [
      "16\n",
      "[\"Singapore's largest banks may see their net interest margins expand at a slower pace in 2023 as central banks approach the limits of monetary policy tightening, bringing the lenders' fee income into focus.\", \"Although the U.S. Federal Reserve indicated that its tightening cycle may last a bit longer, most analysts believe interest rates may be nearing a peak as global economic growth grinds lower. This could affect the profits of Singapore's three largest banks by assets — DBS Group Holdings Ltd.; Oversea-Chinese Banking Corp. Ltd., or OCBC; and United Overseas Bank Ltd., or UOB — in 2023 after rising interest rates boosted their margins in 2022, pushing their full-year net profits to record highs.\", '\"We saw some strong improvements to NIMs. However, expect the trajectory of growth to decelerate in 2023 as funding costs catch up,\" Thilan Wickramasinghe, Maybank Securities Singapore\\'s head of research, told S&P Global Market Intelligence. \"Asset quality remains benign. Provisioning costs could have upside risks going forward, especially as the full impact of higher interest rates and slower global growth starts to bite.\"', \"Singapore was one of the first Asian countries to embark on a tightening cycle as early as October 2021. While rising policy rates boosted banks' NIMs, they have also pushed their cost of borrowing higher.\", '', 'Improved margins', \"Margins at the banks rose year over year for full year 2022. DBS Group reported a NIM of 1.75% in 2022, up from 1.45% in 2021. OCBC posted a year-over year increase in its NIM for the period to 1.91% from 1.54%, while UOB's NIM rose to 1.86% from 1.56%.\", '\"Net interest margin may be peaking out but unlikely to narrow much if at all in 2023, assuming there is no sudden development prompting the U.S. Fed to cut interest rates aggressively,\" Michael Makdad, senior equity analyst at Morningstar, told Market Intelligence via email.', \"Analysts expect the major banks to continue to see strong earnings in 2023. The mean consensus estimate for DBS Group's net income for full year 2023 was S$9.90 billion, according to data compiled by Market Intelligence on March 1. OCBC's net income is estimated to come to S$6.95 billion for full year 2023, while UOB's net income is expected to be S$5.63 billion.\", '', 'Wild card', 'As the margins of the three large Singapore banks may have little room to rise further, fees from wealth management could be a growth engine for the lenders in 2023.', '\"The contribution from wealth management, which has seen major contraction, remains a wild card,\" Wickramasinghe said. \"On one hand, all three banks have seen credible [assets under management] inflows, but on the other hand, for clients to deploy these to higher fee paying products, the outlook for interest rates needs to be clearer.\"', \"Piyush Gupta, CEO of DBS Group, said during the bank's Feb. 13 earnings call that the lender can expect an increase in revenue as its AUM keeps increasing. The bank's reported wealth management AUM increased 3% in constant currency terms to S$297 billion in 2022 from S$291 billion in 2021.\", '\"There is a dependent benefit because, for example, a lot of the AUMs that are coming in are now ultra high net worth, family office kind of stuff and that allows us to create two, three additional ecosystems,\" Gupta said.', '']\n"
     ]
    }
   ],
   "source": [
    "contentElement = driver.find_elements('xpath', '//p[@class=\"MsoNormal\"]')\n",
    "print(len(contentElement))\n",
    "\n",
    "content = []\n",
    "for _ in contentElement:\n",
    "  content.append(_.text)\n",
    "print(content)"
   ]
  },
  {
   "cell_type": "code",
   "execution_count": 64,
   "metadata": {},
   "outputs": [],
   "source": [
    "df = export(site_title.text, '\\n'.join(content), 'spglobal2.txt', df)"
   ]
  },
  {
   "cell_type": "code",
   "execution_count": 65,
   "metadata": {},
   "outputs": [],
   "source": [
    "export_to_csv(df)"
   ]
  }
 ],
 "metadata": {
  "kernelspec": {
   "display_name": "DACenv",
   "language": "python",
   "name": "python3"
  },
  "language_info": {
   "codemirror_mode": {
    "name": "ipython",
    "version": 3
   },
   "file_extension": ".py",
   "mimetype": "text/x-python",
   "name": "python",
   "nbconvert_exporter": "python",
   "pygments_lexer": "ipython3",
   "version": "3.10.13"
  }
 },
 "nbformat": 4,
 "nbformat_minor": 2
}
