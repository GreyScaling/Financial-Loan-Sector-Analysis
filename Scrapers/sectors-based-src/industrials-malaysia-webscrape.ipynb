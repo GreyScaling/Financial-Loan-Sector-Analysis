{
 "cells": [
  {
   "cell_type": "code",
   "execution_count": 1,
   "metadata": {},
   "outputs": [],
   "source": [
    "from selenium import webdriver\n",
    "from selenium.webdriver.common.keys import Keys\n",
    "from selenium.webdriver.support.ui import WebDriverWait\n",
    "from selenium.webdriver.support import expected_conditions as EC\n",
    "from selenium.webdriver.common.by import By\n",
    "import pandas as pd"
   ]
  },
  {
   "cell_type": "code",
   "execution_count": 2,
   "metadata": {},
   "outputs": [],
   "source": [
    "def export(title:str, content:str, fileName:str, DataFrame:pd.DataFrame): \n",
    "  path = f'../sectors-based-txt/industrials-malaysia/{fileName}'\n",
    "  \n",
    "  siteName = fileName.replace('.txt', '')\n",
    "  siteName = ''.join([i for i in siteName if not i.isdigit()])\n",
    "  \n",
    "  content = content.split('\\n')\n",
    "  for _ in content:\n",
    "    if _.strip() == '':\n",
    "      content.remove(_)\n",
    "  \n",
    "  content = '\\n'.join(content)\n",
    "  \n",
    "  with open(path, 'w') as f:\n",
    "    f.write(title + '\\n\\n')\n",
    "    f.write(content)\n",
    "    \n",
    "  new_data = pd.DataFrame({\n",
    "    'Title': [title],\n",
    "    'Content': [content],\n",
    "    'Site-Name': [siteName]\n",
    "  })\n",
    "\n",
    "  DataFrame = pd.concat([DataFrame, new_data], ignore_index=True)\n",
    "  return DataFrame\n",
    "\n",
    "def export_to_csv(df:pd.DataFrame):\n",
    "  df.to_csv('../../csvs/industrials-malaysia.csv', index=False)  "
   ]
  },
  {
   "cell_type": "code",
   "execution_count": 3,
   "metadata": {},
   "outputs": [],
   "source": [
    "df = pd.DataFrame(columns=['Title', 'Content', 'Site-Name'])"
   ]
  },
  {
   "cell_type": "code",
   "execution_count": 4,
   "metadata": {},
   "outputs": [],
   "source": [
    "options = webdriver.ChromeOptions()\n",
    "\n",
    "user_agent = 'Mozilla/5.0 (Windows NT 10.0; Win64; x64) AppleWebKit/537.36 (KHTML, like Gecko) Chrome/83.0.4103.116 Safari/537.36'\n",
    "options.add_argument('--headless')\n",
    "options.add_argument(f'user-agent={user_agent}')\n",
    "\n",
    "driver = webdriver.Chrome(options=options)"
   ]
  },
  {
   "cell_type": "markdown",
   "metadata": {},
   "source": [
    "## Article # 1"
   ]
  },
  {
   "cell_type": "code",
   "execution_count": 5,
   "metadata": {},
   "outputs": [],
   "source": [
    "path = 'https://www.channelnewsasia.com/business/malaysia-allocate-us18-billion-fund-national-industrial-masterplan-3739831'\n",
    "driver.get(path)"
   ]
  },
  {
   "cell_type": "code",
   "execution_count": 6,
   "metadata": {},
   "outputs": [
    {
     "name": "stdout",
     "output_type": "stream",
     "text": [
      "Malaysia to allocate US$1.8 billion to fund national industrial masterplan\n"
     ]
    }
   ],
   "source": [
    "site_title = driver.find_element('xpath', '//h1[@class=\"h1 h1--page-title\"]')\n",
    "print(site_title.text)"
   ]
  },
  {
   "cell_type": "code",
   "execution_count": 7,
   "metadata": {},
   "outputs": [
    {
     "name": "stdout",
     "output_type": "stream",
     "text": [
      "[\"KUALA LUMPUR: Malaysia's trade ministry said on Friday (Sep 1) that the government will allocate RM8.2 billion (US$1.77 billion) to fund a national industrial masterplan to be implemented by 2030.\", 'The plan aims to develop a more robust manufacturing sector, by boosting the competitiveness of small and medium-sized businesses and through the creation of high-skilled jobs, the ministry said in a statement.', \"Malaysia's Prime Minister Anwar Ibrahim said the plan would require an estimated total investment of RM95 billion, predominantly from the private sector.\", '\"This creation of high-value job opportunities is crucial to uplift and expand the middle-class society,\" Anwar said at the launch of the masterplan.', \"The plan aims to increase the manufacturing sector's value by 6.5 per cent in seven years and projects employment growth in the sector at 2.3 per cent from 2023, Anwar said.\"]\n"
     ]
    }
   ],
   "source": [
    "contentElement = driver.find_elements('xpath', '//div[@class=\"text-long\"]//p | //div[@class=\"text-long\"]//h2')\n",
    "\n",
    "content = []\n",
    "for i in range(len(contentElement)):\n",
    "  content.append(contentElement[i].text)\n",
    "  \n",
    "content = [item for item in content if \"ADVERTISEMENT\" not in item]\n",
    "print(content)"
   ]
  },
  {
   "cell_type": "code",
   "execution_count": 8,
   "metadata": {},
   "outputs": [],
   "source": [
    "df = export(site_title.text, '\\n'.join(content), 'channelnewsasia.txt', df)"
   ]
  },
  {
   "cell_type": "markdown",
   "metadata": {},
   "source": [
    "## Article # 2"
   ]
  },
  {
   "cell_type": "code",
   "execution_count": 9,
   "metadata": {},
   "outputs": [],
   "source": [
    "path = 'https://www.thestar.com.my/business/business-news/2023/03/10/utilities-sector-continues-to-see-resilient-earnings'\n",
    "driver.get(path)"
   ]
  },
  {
   "cell_type": "code",
   "execution_count": 10,
   "metadata": {},
   "outputs": [
    {
     "name": "stdout",
     "output_type": "stream",
     "text": [
      "Utilities sector continues to see resilient earnings\n"
     ]
    }
   ],
   "source": [
    "site_title = driver.find_element('xpath', '//div[@class=\"headline story-pg\"]/h1')\n",
    "print(site_title.text)"
   ]
  },
  {
   "cell_type": "code",
   "execution_count": 11,
   "metadata": {},
   "outputs": [
    {
     "name": "stdout",
     "output_type": "stream",
     "text": [
      "['KUALA LUMPUR: The utilities sector continues to be attractive for its earnings defensiveness, which is backed by resilient earnings from regulated assets, while recurring cash flows also anchor decent yields of 4% to 5%, according to Kenanga Research.', '“The fourth quarter of 2022 (4Q22) results season spoke eloquently yet again for earnings resilience of regulated assets while variances (both upside and downside) came largely from non-regulated assets,” said the research house.', 'Regarding 4Q22 results season, Kenanga Research said YTL Power International Bhd was the only outperformer with its first half ended Dec 31, 2022 (1H23) results beating its forecasts yet again.', '“This was due to stronger-than-expected performance of its Singapore independent power producers and consistently higher associate income, primarily from its 20% stake in PT Jawa Power, which owns a 1,220MW coal-fired power plant in East Java, Indonesia,” it added.', 'However, it said Tenaga Nasional Bhd’s (TNB) 2022 results was disappointing due to higher interest costs as its total debt rose to partly finance the rising imbalance cost pass-through (ICPT) receivables.', 'While TNB’s ballooning under-recovery of fuel costs with ICPT receivables hit a record high of RM16.9bil from RM15.5bil in 3Q22, the research house is not perturbed as this will eventually be recovered under the incentive-based regulatory (IBR) framework.', 'TNB will fully recover the net imbalance cost via the ICPT surcharge of 20 sen per kWh pass-through to non-domestic customers, and RM10.4bil cost recovery from the government.', 'Similarly, over 90% of Petronas Gas Bhd’s earnings are safeguarded by the IBR framework, while Gas Malaysia Bhd will continue to benefit from the high gas prices at its non-regulated retail unit.', '“We also expect better earnings stability at YTL Power, given more sustained profitability at subsidiary PowerSeraya, the second-largest power generation company in Singapore in terms of installed capacity, and Malakoff Corp Bhd as the 1,000MW coal-fired plant under Tanjung Bin Energy is back online after repair works,” it said.', 'Meanwhile, Samaiden Group Bhd is a poster child of the renewable energy adoption in Malaysia as the recent electricity tariff hikes have significantly increased the viability of solar power as an alternative energy source, boosting investment in solar infrastructure.', 'Kenanga Research said while the bigger caps are largely rated “neutral”, YTL Power is its sector top pick, backed by the turnaround of PowerSeraya and earnings defensiveness of subsidiary Wessex Water, one of the most efficient water and sewerage operators in the United Kingdom.', 'Wessex Water is a utility concession in perpetuity.']\n"
     ]
    }
   ],
   "source": [
    "contentElement = driver.find_elements('xpath', '//div[@id=\"story-body\"]/p')\n",
    "content = []\n",
    "\n",
    "for i in range (0, len(contentElement)):\n",
    "  content.append(contentElement[i].text)\n",
    "print(content)"
   ]
  },
  {
   "cell_type": "code",
   "execution_count": 12,
   "metadata": {},
   "outputs": [],
   "source": [
    "df = export(site_title.text, '\\n'.join(content), 'thestar.txt', df)"
   ]
  },
  {
   "cell_type": "markdown",
   "metadata": {},
   "source": [
    "## Article # 3"
   ]
  },
  {
   "cell_type": "code",
   "execution_count": 13,
   "metadata": {},
   "outputs": [],
   "source": [
    "path = 'https://www.freemalaysiatoday.com/category/business/2023/09/11/manufacturing-sector-to-remain-lacklustre-in-second-half-says-fmm/'\n",
    "driver.get(path)"
   ]
  },
  {
   "cell_type": "code",
   "execution_count": 14,
   "metadata": {},
   "outputs": [
    {
     "name": "stdout",
     "output_type": "stream",
     "text": [
      "Manufacturing sector to remain lacklustre in second half, says FMM\n"
     ]
    }
   ],
   "source": [
    "site_title = driver.find_element('xpath', '//*[@id=\"__next\"]/main/div[2]/div/div/div[1]/section/h1')\n",
    "# <h1 class=\"sc-fPXMVe iWDaXK pb-4 mb-0 fw-bold\">Kenanga stays optimistic with telco sector following Jendela 1’s success</h1>\n",
    "print(site_title.text)"
   ]
  },
  {
   "cell_type": "code",
   "execution_count": 15,
   "metadata": {},
   "outputs": [
    {
     "name": "stdout",
     "output_type": "stream",
     "text": [
      "['PETALING JAYA: The manufacturing sector in Malaysia has continued to slow down in the first half of 2023 (H1 FY2023), according to a survey by the Federation of Malaysian Manufacturers (FMM).', 'FMM said with the global economy tilted towards the downside, the outlook for the sector in the second half (H2 FY2023) remains cautious.', '“Looking ahead, the sector is likely in anticipation of the persistently weak external conditions and (waiting for) clearer domestic economic policies and directions from the government to help spur higher investments and Malaysia’s growth momentum,” it said.', 'This was gleaned from its FMM Business Conditions survey conducted from July 5 to Aug 18, which drew 351 respondents nationwide.', 'The survey tracked business confidence via the FMM Business Conditions Index (FMM BCI) and covered the actual performance in H1 FY2023 and the outlook for H2 FY2023.', 'The survey showed that all indicators had declined from the previous survey, except for production cost, said FMM in a statement.', 'FMM said in terms of sales, 27% are considering streamlining their production lines, 18% will likely engage in high-growth projects and only 8% are interested in digitalising their businesses.', 'The survey indicated most respondents were “cautiously optimistic” about the 2024 economic outlook, 35% said the economy would improve in 2024, 39% were neutral and 25% were pessimistic.', 'FMM also noted that companies are exploring the use of alternative currencies for their imports and exports to reduce US dollar reliance with the Chinese renminbi as their top choice, followed by the euro and Japanese yen.', 'On the impact of the fifth rise in the overnight policy rate (OPR) by another 25 basis points (bps) to 3% in May by Bank Negara Malaysia, FMM said 41% of the respondents saw a rise of between 1% and 3% in operating costs while 19% said costs rose by 4% to 6%.', 'Only 25% were not affected by the May OPR rise.', 'Should the OPR increase further by 25bps by year-end, the impact on most business revenues and profits is “expected to be minimal”, that is, less than 30% as indicated by between 35% and 44% of the respondents, FMM added.']\n"
     ]
    }
   ],
   "source": [
    "contentElement = driver.find_elements('xpath', '//div[@itemprop=\"articleBody\"]/p')\n",
    "\n",
    "content = []\n",
    "for i in range (0, len(contentElement)):\n",
    "  content.append(contentElement[i].text)\n",
    "print(content)"
   ]
  },
  {
   "cell_type": "code",
   "execution_count": 16,
   "metadata": {},
   "outputs": [],
   "source": [
    "df = export(site_title.text, '\\n'.join(content), 'freemalaysiatoday.txt', df)"
   ]
  },
  {
   "cell_type": "markdown",
   "metadata": {},
   "source": [
    "## Article # 4"
   ]
  },
  {
   "cell_type": "code",
   "execution_count": 17,
   "metadata": {},
   "outputs": [],
   "source": [
    "path = 'https://themalaysianreserve.com/2023/03/02/positive-response-from-transport-sector/'\n",
    "driver.get(path)"
   ]
  },
  {
   "cell_type": "code",
   "execution_count": 18,
   "metadata": {},
   "outputs": [
    {
     "name": "stdout",
     "output_type": "stream",
     "text": [
      "Positive response from transport sector\n"
     ]
    }
   ],
   "source": [
    "site_title = driver.find_element('xpath', '//div[@class=\"single-post\"]//h2')\n",
    "print(site_title.text)"
   ]
  },
  {
   "cell_type": "code",
   "execution_count": 19,
   "metadata": {},
   "outputs": [
    {
     "name": "stdout",
     "output_type": "stream",
     "text": [
      "['Most industry players and subject matter experts applaud Anwar’s budget for its fairness, transparency and comprehensiveness', 'by AUFA MARDHIAH', 'THE revised Budget 2023 tabled by Prime Minister (PM) Datuk Seri Anwar Ibrahim, who is also the finance minister, received a favourable response from the transport sector.', 'Most industry players and subject matter experts applauded Anwar’s budget for its fairness, transparency and comprehensiveness.', 'To hear further comments, The Malaysian Reserve (TMR) contacted several players and experts to get their views on the Malaysia Madani budget.', 'Universiti Putra Malaysia (UPM) head of the Road Safety Research Centre from the Faculty of Engineering Prof Dr Law Teik Hua was pleased with the allocation for the transport sector.', 'He said it is quite positive in the sense that it helps and contributes to solving many of the country’s transport problems, particularly the three to four items on public transport that the budget highlighted.', '“I have always said that public transport is our future. Having a more efficient high-level service of public transport will solve many transport problems in the country, especially road safety problems,” he said to TMR last Friday.', 'He praised the government’s assistance for the Mass Rapid Transit 3 (MRT3) project in ensuring that it is completed on time.', 'He believed that the construction of MRT3 will attract more passengers, particularly young people, and this will reduce traffic congestion.', 'Law also noted that the continuation of the My50 monthly pass is highly encouraging and will become a high priority on improving the country’s public transit.', 'For East Malaysia, he also praised the government’s subsidies for air services, adding that aviation transport is critical for Sabah and Sarawak due to the geography there and the routes being insufficient.', 'Hence, in the short term, he admired the government’s effort to provide flight ticket subsidies for the people in East Malaysia.', 'Law also applauded the government’s allocation of RM20 billion to continue developing the Sabah and Sarawak Pan Borneo Highway and Sarawak-Sabah Link Road spanning over 1,000km.', '“That road (highway) is very important. In the near future, Indonesia will move its capital to Kalimantan, hence we have to prepare ourselves to connect with the new capital.”', 'Commenting on the driving test allocation for e-hailing licences, Law said many people rely on e-hailing services to buy food, for delivery and for transport, and he did not see this trend decreasing anytime soon.', '“It will even increase more in the future. Of course, obtaining a licence has always been difficult because the majority of gig economy labourers are from the bottom 40% income (B40) community,” he said.', 'Lastly, he applauded the government’s allocation on road safety to upgrade roads such as by providing better lighting and fixing potholes.', '“Of course, the allocation is not that big, and it is certainly not enough to cover all the roads; but it is better than nothing,” he said.', 'On the other hand, road safety activist and former Malaysian Institute of Road Safety Research (Miros) board of directors member Shahrim Tamrin said the allocations for new road and road widening projects means the budget is still very much road-oriented and it does not spur the transport sector.', '“It is a huge disappointment to see there is no budget allocation on road safety effort under the Transport Ministry (MoT) except for incentives to use public transport, which are also actually a reduction for MRT projects,” he told TMR.', 'Commenting on the driving test allocation for class B2 motorcycle, taxi, bus and e-hailing licences, he described it as a regressive move.', '“I do not welcome it. I really hope this is not a start to lower the age of p-hailing riders to 18 years old because if that is the case, it would be bad news for road safety,” he said.', 'He believed that obtaining a driving or riding licence is something worth working for because it requires good driving habits and the implementation of safety precautions.', '“It should not be given easy passage by the establishment,” Shahrim said, adding that the government should make the requirements more stringent.', '“The nation needs to produce and nurture quality drivers and riders, and not just give out goodies for people to obtain licences,” he further said.', 'On the other hand, Malaysia’s public transport operator, Prasarana (M) Bhd welcomed and fully supported the revised Budget 2023.', 'It said the budget is in line with the emphasis placed by the government on rail and bus transport services which are important and provide great benefits to the people.', '“It is also evident that the government is very concerned with the welfare and wellbeing of the people in line with the aspirations of Malaysia Madani — which is also in line with the direction of the agenda to dignify public transport,” said Prasarana in a statement.', 'Under the budget, the government made provision for the My50 monthly pass initiative for public transport users, which will benefit nearly 180,000 users.', 'The My50 initiative is an unlimited travel pass worth RM50 per month for unlimited use of rail and bus services operated by Prasarana.', 'Meanwhile, Gabungan e-Hailing Malaysia chairman Jose Rizal was pleased with the positive and inclusive budget and saw it as a booster for the Malaysian hailing community.', 'He said although it could not satisfy all parties, at least it could provide some relief to the Malaysian hailing community.', '“In the future, we hope that there will be provisions so that every budget setting for the Malaysian e-hailing community can be allocated directly and transparently,” he said in his social media post last Friday.', 'Meanwhile, Pan Malaysian Bus Operators Association president Datuk Mohamad Ashfar Ali was left despondent with the budget as there was no aid and allocation for bus operators.', 'However, he applauded many initiatives for the public such as the Prasarana My50 unlimited travel pass and the extension of subsidised busses (SBST) programme to Melaka; Kuching, Sarawak; and Kota Kinabalu, Sabah; as well as the infrastructure development for MRT3.', '“There is nothing for the operators per say, although we have asked the government to provide free training for those who want to become bus and lorry drivers due to our yearly shortage of 5,000 drivers.', '“Nevertheless, we will still bring this matter up again — next month we will have a meeting with the transport minister,” he said to TMR.', 'On air services, Universiti Kuala Lumpur (UniKL) Malaysian Institute of Aviation Technology economist Assoc Prof Dr Mohd Harridon Mohamed Suffian said the favourable taxation scheme for aviation and aerospace manufacturers encourages international organisations and companies to establish footholds in Malaysia, which subsequently will create a ripple of employment within the sectors.', 'He also noted that the high-value sectors inadvertently require workers and individuals with capable technological dexterities. Thus, institutions of higher education and technical and vocational education training (TVET) institutes will gain an upper hand with perhaps an increase enrolment in their programmes.', '“The domino effect is apparent where these foreign or domestic manufacturers will also acquire raw materials for their operations and local suppliers will reap the benefits of being anointed as suppliers of the designated materials,” he told TMR.', 'Furthermore, he added that the extension of the allowances of the investment tax for the aerospace sector is a formidable approach to increase and expand the growth of aerospace companies in Malaysia.', 'Commenting on the expansion of the Subang Airport, he said it will establish a contextual mechanism for growth within numerous and myriad realms such as volume of passenger, upgrading of current physical infrastructure, introduction of high tech and updated equipment, and alleviation of trading hubs.', '“The rejuvenation plan will entail facelifts of physical structures of the terminals, equipment, electronic and piping systems, and others, which will attract and allure passengers, businesses and traders, and inevitably the airport will add more functionalities to its core services and subsequently transform into an international trading hub,” he further explained.', 'He also believed that the plan will alter the landscape of the surrounding area with a projected increase of economic activities not only within the aerospace or aviation sector, but there will be spillover to other general sectors such as transport, manufacturing, human resource, logistics and education.', 'Meanwhile, he also applauds the government’s initiative to enhance the Penang Airport as a catalyst to liberate the economic stature of the northern region where the expansion will complement the electrical and electronics (E&E) industry in Penang with cargo movements that are projected to appreciate within a defined period.', '“It is a winnable situation for the E&E industry and its counterparts as its end products could be transported and exported with increased efficiency and the revitalisation of the airport would see an increase of the volumes of trades,” he said.', 'Moreover, Mohd Harridon said the augmentation of Penang Airport will also monumentally serve the northern region with movements of goods and tangible entities concentrated upon Bayan Lepas — hence, transforming the area into an epicentre of business and trade.', '“This impetus is also viable in contrast to developing and establishing a new airport in Kulim, Kedah, which would depreciate the coffers of the government.', '“But it is also essential to mathematically measure and numerically calculate the economic sustenance to promulgate an effective fiscal policy in the future to sustain the economic vibrancy,” he concluded.']\n"
     ]
    }
   ],
   "source": [
    "contentElement = driver.find_elements('xpath', '//p[@class=\"p1\"]')\n",
    "content = []\n",
    "for _ in contentElement:\n",
    "  content.append(_.text)\n",
    "print(content)"
   ]
  },
  {
   "cell_type": "code",
   "execution_count": 20,
   "metadata": {},
   "outputs": [],
   "source": [
    "df = export(site_title.text, '\\n'.join(content), 'themalaysianreserve.txt', df)"
   ]
  },
  {
   "cell_type": "code",
   "execution_count": 21,
   "metadata": {},
   "outputs": [],
   "source": [
    "df = export_to_csv(df)"
   ]
  }
 ],
 "metadata": {
  "kernelspec": {
   "display_name": "DACenv",
   "language": "python",
   "name": "python3"
  },
  "language_info": {
   "codemirror_mode": {
    "name": "ipython",
    "version": 3
   },
   "file_extension": ".py",
   "mimetype": "text/x-python",
   "name": "python",
   "nbconvert_exporter": "python",
   "pygments_lexer": "ipython3",
   "version": "3.11.5"
  }
 },
 "nbformat": 4,
 "nbformat_minor": 2
}
