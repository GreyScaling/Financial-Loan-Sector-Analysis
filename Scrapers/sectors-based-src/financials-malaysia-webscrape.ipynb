{
 "cells": [
  {
   "cell_type": "code",
   "execution_count": 24,
   "metadata": {},
   "outputs": [],
   "source": [
    "from selenium import webdriver\n",
    "from selenium.webdriver.common.keys import Keys\n",
    "from selenium.webdriver.support.ui import WebDriverWait\n",
    "from selenium.webdriver.support import expected_conditions as EC\n",
    "from selenium.webdriver.common.by import By\n",
    "import pandas as pd"
   ]
  },
  {
   "cell_type": "code",
   "execution_count": 25,
   "metadata": {},
   "outputs": [],
   "source": [
    "def export(title:str, content:str, fileName:str, DataFrame:pd.DataFrame): \n",
    "  path = f'../sectors-based-txt/financials-malaysia/{fileName}'\n",
    "  \n",
    "  siteName = fileName.replace('.txt', '')\n",
    "  siteName = ''.join([i for i in siteName if not i.isdigit()])\n",
    "  \n",
    "  content = content.split('\\n')\n",
    "  for _ in content:\n",
    "    if _.strip() == '':\n",
    "      content.remove(_)\n",
    "  \n",
    "  content = '\\n'.join(content)\n",
    "  \n",
    "  with open(path, 'w') as f:\n",
    "    f.write(title + '\\n\\n')\n",
    "    f.write(content)\n",
    "    \n",
    "  new_data = pd.DataFrame({\n",
    "    'Title': [title],\n",
    "    'Content': [content],\n",
    "    'Site-Name': [siteName]\n",
    "  })\n",
    "\n",
    "  DataFrame = pd.concat([DataFrame, new_data], ignore_index=True)\n",
    "  \n",
    "  return DataFrame\n",
    "\n",
    "def export_to_csv(df:pd.DataFrame):\n",
    "  df[\"Sector\"] = \"Financials\"\n",
    "  df[\"Country\"] = \"Malaysia\"\n",
    "  df.to_csv('../../csvs/financials-malaysia.csv', index=False)  "
   ]
  },
  {
   "cell_type": "code",
   "execution_count": 26,
   "metadata": {},
   "outputs": [],
   "source": [
    "df = pd.DataFrame(columns=['Title', 'Content', 'Site-Name'])"
   ]
  },
  {
   "cell_type": "code",
   "execution_count": 27,
   "metadata": {},
   "outputs": [],
   "source": [
    "options = webdriver.ChromeOptions()\n",
    "\n",
    "user_agent = 'Mozilla/5.0 (Windows NT 10.0; Win64; x64) AppleWebKit/537.36 (KHTML, like Gecko) Chrome/83.0.4103.116 Safari/537.36'\n",
    "options.add_argument('--headless')\n",
    "options.add_argument(f'user-agent={user_agent}')\n",
    "\n",
    "driver = webdriver.Chrome(options=options)"
   ]
  },
  {
   "cell_type": "markdown",
   "metadata": {},
   "source": [
    "<h1>Article # 1</h1>\n",
    "Title : Malaysia: A Flourishing Fintech Ecosystem <br>\n",
    "<a href=\"https://www.imf.org/en/News/Articles/2020/02/27/na022820-malaysia-a-flourishing-fintech-ecosystem\">link</a>"
   ]
  },
  {
   "cell_type": "code",
   "execution_count": 28,
   "metadata": {},
   "outputs": [],
   "source": [
    "path = 'https://www.imf.org/en/News/Articles/2020/02/27/na022820-malaysia-a-flourishing-fintech-ecosystem'\n",
    "driver.get(path)"
   ]
  },
  {
   "cell_type": "code",
   "execution_count": 29,
   "metadata": {},
   "outputs": [
    {
     "name": "stdout",
     "output_type": "stream",
     "text": [
      "Malaysia: A Flourishing Fintech Ecosystem\n"
     ]
    }
   ],
   "source": [
    "site_title = driver.find_element('xpath', '//div[@class=\" column-padding\"]//h2')\n",
    "print(site_title.text)"
   ]
  },
  {
   "cell_type": "code",
   "execution_count": 30,
   "metadata": {},
   "outputs": [
    {
     "name": "stdout",
     "output_type": "stream",
     "text": [
      "['Malaysians have embraced financial technology; commonly used forms of fintech in the country include digital payments and mobile wallets (photo: iStock/Jimmy Fam)', 'February 28, 2020', 'Financial technology, or fintech as it has come to be known, gets a lot of attention for its extraordinary potential to change lives and change economies. Fintech can help ordinary people access financial products securely and efficiently, while boosting countries’ economic growth.', 'In Malaysia, where annual economic growth has averaged just under 5 percent over the past five years, fintech is a part of everyday life. It is rapidly becoming a central part of the country’s financial sector, with considerable promise for expansion, according to new IMF analysis.', 'With its growing middle class, high mobile phone penetration rates, and strong government support for the digital economy, Malaysia is well situated to take advantage of fintech innovation. From mobile wallets and electronic payments, to crowdfunding and “insurtech” (the combination of insurance and technology), Malaysian businesses and consumers appear ready to embrace the technology.', 'Internet banking in Malaysia has quadrupled in the last decade, topping a 90 percent usage rate in 2018. Mobile banking is also booming, supported by near-universal 4G network coverage, affordable data, and 5G is in the works. It’s no coincidence the World Economic Forum’s 2019 Network Readiness Index ranked Malaysia high among the 139 countries surveyed—ahead of Italy, China, and Chile—and first among countries in emerging and developing Asia.', 'Where’s the money?', 'The most commonly used forms of fintech in the country are digital payments and mobile wallets, followed by “insurtech,” lending, digital remittances, blockchain, crowdfunding, electronic Know-Your-Customer processes, and other forms of financial technology.', ' ', 'Developments in Malaysian fintech are altering the country’s financial sector landscape. For example, while fintech products offered by traditional financial institutions expand, the number of physical commercial bank branches is declining, and the number of automated teller machines has fallen over the last two years. Traditional Malaysian banks continue to dominate in deposits, lending, and raising capital while, at the same time, adopting new technologies and either competing or collaborating with new tech startups. As of April 2019, there were close to 200 startups in Malaysia in a range of fintech areas, including payments, lending, and blockchain.', 'Road ahead', 'Of course, the rapidly evolving technology—alongside new consumer habits—is not without risk or challenges. Malaysia has been a leader on regulations to ensure that the financial system remains safe amid the possibility of cybersecurity incidents. Well aware that cyberattacks can undercut customer confidence and inflict widespread damage, Malaysian banks and regulators list cybersecurity among their issues of top concern. ', 'Additional challenges to future fintech growth in Malaysia, for both financial institutions and new fintech businesses, include a shortage of talent in key tech areas like data analytics and machine learning, regulatory burdens, and access to funding.', 'As a leader in Islamic finance, Malaysia has a unique position within Islamic fintech, according to IMF analysis. Islamic bank loan growth in the country expanded by 8.9 percent in 2018, compared to 2.5 percent for conventional banks. While Islamic fintech is still in its infancy in Malaysia, the central bank supports efforts to promote the sector. Islamic financial institutions can benefit from fintech in many of the same ways that conventional finance does. Some fintech tools could be particularly useful in Islamic finance, since improved transparency—a core principle of Islamic finance—could be a result.']\n"
     ]
    }
   ],
   "source": [
    "contentElement = driver.find_elements('xpath', '//div[@class=\" column-padding\"]//p')\n",
    "content = []\n",
    "for _ in contentElement:\n",
    "  content.append(_.text)\n",
    "\n",
    "print(content)"
   ]
  },
  {
   "cell_type": "code",
   "execution_count": 31,
   "metadata": {},
   "outputs": [],
   "source": [
    "df = export(site_title.text, '\\n'.join(content), 'imf.txt', df)"
   ]
  },
  {
   "cell_type": "markdown",
   "metadata": {},
   "source": [
    "<h1>Article # 2</h1>\n",
    "Title : Fintech Report 2022: Malaysia Charts a New Path for Fintech Growth <br>\n",
    "\n",
    "<a href=\"https://fintechnews.my/31945/malaysia/fintech-report-malaysia-2022/\">Link</a>"
   ]
  },
  {
   "cell_type": "code",
   "execution_count": 32,
   "metadata": {},
   "outputs": [],
   "source": [
    "path = 'https://fintechnews.my/31945/malaysia/fintech-report-malaysia-2022/'\n",
    "driver.get(path)"
   ]
  },
  {
   "cell_type": "code",
   "execution_count": 33,
   "metadata": {},
   "outputs": [
    {
     "name": "stdout",
     "output_type": "stream",
     "text": [
      "Fintech Report 2022: Malaysia Charts a New Path for Fintech Growth\n"
     ]
    }
   ],
   "source": [
    "site_title = driver.find_element('xpath', '//*[@id=\"dat-menu\"]/div/div[2]/div[3]/section/div/div/div/div[2]/div[1]/h1')\n",
    "print(site_title.text)"
   ]
  },
  {
   "cell_type": "code",
   "execution_count": 34,
   "metadata": {},
   "outputs": [
    {
     "name": "stdout",
     "output_type": "stream",
     "text": [
      "['In Malaysia, regulators and policymakers are actively supporting the fintech industry by establishing a conducive regulatory environment, and through public–private partnerships.', 'This past year has seen Malaysia unveiling a number of regulatory developments and initiatives, paving the way for greater progress and growth in the fintech space.', 'The Fintech Report Malaysia 2022, produced by Fintech News Malaysia and sponsored by Merchantrade Money, VSure.life, GHL and pitchIN, gives an overview of the domestic fintech ecosystem, delving into the local fintech startup scene, the key developments observed over the past year, and the main trends emerging from the sector.', '2022 has so far been an exciting year for the Malaysian fintech industry, building on booming customer adoption, favorable new regulations, and a five-year national digitalisation plan.', 'Bank Negara Malaysia (BNM) issued the Financial Sector Blueprint 2022-2026 in January, setting out the central bank’s development priorities for the financial sector over the next years and shared ambitions for an open data ecosystem, a national digital identity scheme, and real-time payment linkages.', 'The central bank also said it will finalise a regulatory framework for digital insurers and digital takaful operators in 2022, with an aim to license new digital players in 2023.', 'Malaysia has been exploring the merits of CBDCs since 2021, joining Project Dunbar last year to test the use of digital currencies for international settlements.', 'Besides an ambitious five-year development plan, 2022 also saw the announcement of Malaysia’s first digital banks. All five digital banking licensees are consortia comprising of at least one technology company. These new market entrants are expected to bring about a wave of innovation in the banking sector and help improve financial inclusion.', 'Malaysia’s five digital banks are currently undergoing a period of operational readiness that will be validated by BNM through an audit before being permitted to commence operations. This process may take between 12 to 24 months.', 'Overview of Malaysia’s Fintech Scene in 2022', 'These recent developments build on the successful year 2021 during which fintech innovation accelerated significantly amid increased demand for better and more inclusive financial services, an expanding startup scene, and rising funding levels.', 'In the first three quarters of 2021, fintech companies in Malaysia raised a record US$117 million in funding, surpassing 2020’s total of US$77 million by 52%, according to the Fintech in ASEAN 2021: Digital Takes Flight report by United Overseas Bank (UOB), released in November 2021.', 'BigPay’s US$ 100 million funding round accounted for a large chunk of Malaysia’s 2021 total funding. Despite setting a high record, Malaysia still lags behind its neighbours like Singapore, the Philippines, Vietnam, and Indonesia.', 'Data from BNM show that transactions through electronic payment channels increased by 30% in 2021, reaching over 7.2 billion transactions. Looking deeper at payment trends over the years, it is clear that the adoption of Internet banking and mobile banks has grown sharply since 2019, with Internet banking transactions rising from less than 500 million to more than 2 billion transactions in 2021, and mobile banking transactions rising from 489 million to 1.4 billion.', 'Buy now, pay later (BNPL) is another segment that witnessed strong traction in 2021. Singapore-headquartered hoolah, which provides BNPL arrangements in Malaysia, Hong Kong and the city-state, said growth was tremendous in 2021 with more than 400% user expansion and a doubling of repeat usage.', 'Similarly, its rival Atome, which operates in nine markets across Asia Pacific (APAC) including Malaysia, Indonesia and Vietnam, indicated seeing order volume grow by 100 times, while its merchant network grew by five times in the first half of 2021. Atome’s consumers are also soaring on a 20% monthly basis in terms of new application downloads and usage.', 'Research and Market, which studies retail trends, estimates that BNPL’s gross merchandise value reached US$287 million in 2021. That number is projected to grow by 109.5% on an annual basis to reach US$601.2 million this year.', 'Growing demand for BNPL arrangements in Malaysia has led to the entry of a handful of players in the market. Since 2021, at least 11 companies have launched BNPL offerings in Malaysia, our report shows. Six were introduced by homegrown Malaysian companies (Du-it, FavePay Later, Mr Pay Later, PaySlowSlow, myIOU and Paylater), four by Singaporean companies (SPayLater, Atome, PayLater by Grab and Ablr), and one by an Indian company (Pine Labs).', 'The exponential growth of BNPL arrangements and growing concerns over the potential risks to consumers have prompted regulators and policy makers in Malaysia to introduce new rules for the practice.', 'The Consumer Credit Act, which BNM, the Ministry of Finance and the Securities Commission Malaysia hope to have enacted this year, will seek to regulate all consumer credit activities, including BNPL arrangements, and mitigate the risks brought about by new schemes.', 'Malaysia Fintech Map 2022', 'Malaysia’s fintech sector grew by 27% in 2021 to 294 fintech companies. Payments still dominate the industry, with 60 companies, followed by lending (55), e-wallets (43), and insurtech (31).', '', ' ', 'Download the full Fintech Malaysia Report 2022 here']\n"
     ]
    }
   ],
   "source": [
    "contentElement = driver.find_elements('xpath', '//*[@id=\"dat-menu\"]/div/div[2]/div[3]/section/div/div/div/div[2]/p | //*[@id=\"dat-menu\"]/div/div[2]/div[3]/section/div/div/div/div[2]/h3')\n",
    "\n",
    "content = []\n",
    "for _ in contentElement:\n",
    "  content.append(_.text)\n",
    "print(content)"
   ]
  },
  {
   "cell_type": "code",
   "execution_count": 35,
   "metadata": {},
   "outputs": [],
   "source": [
    "df = export(site_title.text, '\\n'.join(content), 'fintechnews.txt', df)"
   ]
  },
  {
   "cell_type": "markdown",
   "metadata": {},
   "source": [
    "<h1>Article # 3</h1>\n",
    "Title : Strong fundamentals ensure growth, resilience of banks in Malaysia\n",
    "<a href=\"https://themalaysianreserve.com/2023/11/28/strong-fundamentals-ensure-growth-resilience-of-banks-in-malaysia/\">Link</a>"
   ]
  },
  {
   "cell_type": "code",
   "execution_count": 36,
   "metadata": {},
   "outputs": [],
   "source": [
    "path = 'https://themalaysianreserve.com/2023/11/28/strong-fundamentals-ensure-growth-resilience-of-banks-in-malaysia/'\n",
    "driver.get(path)"
   ]
  },
  {
   "cell_type": "code",
   "execution_count": 37,
   "metadata": {},
   "outputs": [
    {
     "name": "stdout",
     "output_type": "stream",
     "text": [
      "Strong fundamentals ensure growth, resilience of banks in Malaysia\n"
     ]
    }
   ],
   "source": [
    "site_title = driver.find_element('xpath', '//div[@class=\"single-post\"]//h2')\n",
    "print(site_title.text)"
   ]
  },
  {
   "cell_type": "code",
   "execution_count": 38,
   "metadata": {},
   "outputs": [
    {
     "name": "stdout",
     "output_type": "stream",
     "text": [
      "[]\n"
     ]
    }
   ],
   "source": [
    "contentElement = driver.find_elements('xpath', '//p[@class=\"p1\"]')\n",
    "content = []\n",
    "for _ in contentElement:\n",
    "  content.append(_.text)\n",
    "print(content)"
   ]
  },
  {
   "cell_type": "code",
   "execution_count": 39,
   "metadata": {},
   "outputs": [],
   "source": [
    "df = export(site_title.text, '\\n'.join(content), 'themalaysianreserve.txt', df)"
   ]
  },
  {
   "cell_type": "markdown",
   "metadata": {},
   "source": [
    "<h1>Article # 4</h1>\n",
    "Title : Loan growth to closely track GDP\n",
    "\n",
    "<a href=\"https://www.thestar.com.my/business/business-news/2023/10/02/loan-growth-to-closely-track-gdp\">Link</a>"
   ]
  },
  {
   "cell_type": "code",
   "execution_count": 40,
   "metadata": {},
   "outputs": [],
   "source": [
    "path = 'https://www.thestar.com.my/business/business-news/2023/10/02/loan-growth-to-closely-track-gdp'\n",
    "driver.get(path)"
   ]
  },
  {
   "cell_type": "code",
   "execution_count": 41,
   "metadata": {},
   "outputs": [
    {
     "name": "stdout",
     "output_type": "stream",
     "text": [
      "Loan growth to closely track GDP\n"
     ]
    }
   ],
   "source": [
    "site_title = driver.find_element('xpath', '//div[@class=\"headline story-pg\"]')\n",
    "print(site_title.text)"
   ]
  },
  {
   "cell_type": "code",
   "execution_count": 42,
   "metadata": {},
   "outputs": [
    {
     "name": "stdout",
     "output_type": "stream",
     "text": [
      "['PETALING JAYA: The Malaysian banking sector as a bellwether of the economy is expected to see improvement in loan growth of between 4% and 5% in 2024, with consumer loans outpacing business loans amid external uncertainties.', 'Industry experts said in spite of lingering uncertainties next year due to the anticipated slower global economic growth, China’s economy losing steam and higher interest rates impacting business activities and consumption, the local banking sector is poised to weather these challenges and register a relatively healthy loan growth.', 'Their prognosis is based on the growth of the local economy, robust labour market, strong domestic demand, government’s initiatives a well capitalised banking system and healthy provisioning reserves.', 'Most analysts are forecasting the banking system’s loan growth for this year to be around 4% compared with 5.7% growth in 2022.', 'AMMB Holdings Bhd group chief executive officer Datuk Sulaiman Mohd Tahir is upbeat about the banking sector next year.', 'Speaking to StarBiz he said: “With the worst of the Covid-19 pandemic behind us as of late 2021, the economic momentum gained in 2022 is set to propel us beyond 2023. As for the remainder of the year, we are optimistic of the sector’s growth. “', 'Key growth drivers for the sector for the remainder of the year and in 2024 include strong domestic demand, an uptick in employment rates and wage growth, he noted.', 'Moreover, Sulaiman said the tourism sector and multi-year infrastructure projects, underpinned by initiatives like the New Industrial Master Plan 2030, are set to be significant boosters.', 'While challenges inevitably exist, he said Malaysia is well-equipped to tackle them, even with the external demand fluctuations.', 'Sulaiman is encouraged by the prospect of loan growth closely tracking gross domestic product (GDP) growth.', 'With slower external demand, economists are forecasting the economy to grow closer to the lower-end of Bank Negara’s official guidance of 4% to 5% this year, as well as expect 3% to 4% growth for 2024.', '“As we move into the second half of 2023, we are particularly optimistic about a robust upswing in business loans.', '“We also foresee a steady and reliable pace of growth in consumer or retail loans, contributing to a well-rounded, positive outlook for the industry as a whole,” he added.', 'RAM co-head of Financial Institution Ratings Wong Yin Ching.', 'RAM Ratings co-head of financial institution ratings Wong Yin Ching said that for next year, she expected loan expansion of about 4%, underscored by the GDP growth expectation of 4.5% to 5.5% against 4% to 5% for this year.', 'She said household loans would likely remain as the key driver, supported by robust labour market conditions.', '“RAM Ratings believe the domestic banking system’s strong fundamentals will continue to anchor its resilience although downside risks to growth have heightened,” Wong said.', 'For the first seven months of 2023, the industry charted a tepid 2.7% annualised loan expansion amid softer global trade, tighter monetary policy conditions and cost pressures.', 'Credit demand was also affected by high base effects and dissipating post-pandemic pent-up spending.', 'Wong expected the local banking system’s sturdy asset quality to stay intact. As at end-July 2023, gross impaired loan (GIL) ratio stood at 1.76%.', '“While we envisage loan delinquencies to creep up in the coming quarters, they are unlikely to nudge the GIL ratio beyond 2% this year and next.”', 'He said banks are also well capitalised and boast healthy provisioning reserves, having built up strong buffers during the pandemic.', '“Some of these provisions may be released but most will likely be retained due to prevailing uncertainties.', '“Average credit cost ratio is projected to close the year at 25 basis points (bps) and slightly lower at 20 to 25 bps in 2024,” Wong said.', 'UCSI University Malaysia assistant professor of finance Liew Chee Yoong\\nv', 'Spelling out the banking sector’s outlook for next year, UCSI University Malaysia assistant professor of finance Liew Chee Yoong said the sector’s prospects for 2024 would largely depend on various factors.', 'These include the overall economic environment, external demand and how well the banks adapt to potential economic challenges due to the spillover effects from a possible slowdown of the global economy.', 'Besides this, he said the possibility of a major recession in China as a result of the financial distress suffered by the country’s property sector would have an impact on the local banking sector.', 'Liew, who is also a research fellow at the Centre for Market Education, anticipated SME loans to grow at a faster rate this year and consumer loans to grow faster in 2024.', 'In terms of net interest margin (NIM), he expected compression in NIM in the banking sector to continue in 2024.', '“This is due to stiff competition for deposits which exert pressure on NIM as well as the expectations that interest rates may remain unchanged or it may increase if the US Federal Reserve decides to increase the federal fund rate next year, “ Liew said.', 'NIM is a measure of the difference between the interest income generated by banks and interest paid out to depositors. A wider NIM indicates higher earnings for banks.', 'Sulaiman, however, said there are signs of moderation in NIM compression across the banking sector and anticipated this positive trend to persist next year.', 'As for the overnight policy rate (OPR), he anticipated a stable environment moving forward.', '“AmBank is also proactively prepared for any increase in deposit competition, which traditionally tends to peak towards the end of the year,” he added.', 'At its latest monetary policy committee meeting, Bank Negara left the OPR unchanged at 3%.', 'Meanwhile, Wong foresees banks to record a modest improvement in profit performance next year on account of marginally better loan growth and potentially lower provisions.', 'She said NIM may stay pressured, given ongoing deposit competition although this had eased somewhat.', 'Strong emphasis would be placed on boosting non-interest income (NII), which is capital-light, particularly wealth management and bancassurance products and services.', 'Wong said: “We expect banks to continue their efforts in enhancing cost efficiency through disciplined cost control and at the same time, aggressively pursuing their digitalisation agenda.', '“While the upcoming new digital banks are not expected to pose immediate threat to incumbents, existing players are rapidly enhancing their digital offerings and investing in new capabilities to meet evolving customer needs and enhance productivity.”', 'As to whether NII would be a growth driver for banks in 2024, Liew said some large local banks have been focusing on increasing NII and this indicated a growing focus for some banks.', '“Potential areas for strong growth in NII could include fees from digital banking services, wealth management, foreign exchange transactions and investment advisory services,” Liew noted.', 'Sulaiman said banks, including AmBank, are placing more emphasis on diversifying revenue streams.', '“We are actively expanding our portfolio in NII, which not only offers capital-efficient avenues but also presents excellent growth prospects.', '“In terms of specific areas, we are bullish on trading, investments, fee-based income and foreign exchange trading.', '“As investor sentiment shows encouraging signs of improvement, we see a bright future in these areas,” he said.', 'CGS-CIMB Research in its recent report said banks’ loan growth would end 2023 at a rate closer to the lower end of the 4% to 5% range it had projected, and improve to growth around 5% in 2024.', 'This will be achieved on the back of brighter economic outlook arising from various initiatives by the government to improve Malaysia’s economic growth, it said.', 'Gross impaired loan ratio would peak at between 1.8% and 2% and hover around these levels in 2024, it added.', 'The research house said capital management by several banks could also lead to an increase in dividend payout ratios and expansion in return on equity over the longer term.']\n"
     ]
    }
   ],
   "source": [
    "contentElement = driver.find_elements('xpath', '//div[@id=\"story-body\"]/p')\n",
    "\n",
    "content = []\n",
    "for _ in contentElement:\n",
    "  content.append(_.text)\n",
    "print(content)"
   ]
  },
  {
   "cell_type": "code",
   "execution_count": 43,
   "metadata": {},
   "outputs": [],
   "source": [
    "df = export(site_title.text, '\\n'.join(content), 'thestar.txt', df)"
   ]
  },
  {
   "cell_type": "code",
   "execution_count": 44,
   "metadata": {},
   "outputs": [],
   "source": [
    "site_title = driver.find_element('xpath', '//div[@class=\"headline story-pg\"]')"
   ]
  },
  {
   "cell_type": "markdown",
   "metadata": {},
   "source": [
    "<h1>Article # 5</h1>\n",
    "Title : Upbeat outlook for banking sector\n",
    "<a href=\"https://www.thestar.com.my/business/business-news/2023/07/05/upbeat-outlook-for-banking-sector\">Link</a>"
   ]
  },
  {
   "cell_type": "code",
   "execution_count": 45,
   "metadata": {},
   "outputs": [
    {
     "ename": "TimeoutException",
     "evalue": "Message: timeout: Timed out receiving message from renderer: 283.417\n  (Session info: chrome-headless-shell=122.0.6261.94)\nStacktrace:\n0   chromedriver                        0x00000001009cc53c chromedriver + 3966268\n1   chromedriver                        0x00000001009c4ac8 chromedriver + 3934920\n2   chromedriver                        0x0000000100647da0 chromedriver + 277920\n3   chromedriver                        0x00000001006314f4 chromedriver + 185588\n4   chromedriver                        0x0000000100631390 chromedriver + 185232\n5   chromedriver                        0x000000010062fcf4 chromedriver + 179444\n6   chromedriver                        0x000000010063082c chromedriver + 182316\n7   chromedriver                        0x000000010063ef84 chromedriver + 241540\n8   chromedriver                        0x00000001006520bc chromedriver + 319676\n9   chromedriver                        0x0000000100630dbc chromedriver + 183740\n10  chromedriver                        0x0000000100651e74 chromedriver + 319092\n11  chromedriver                        0x00000001006c2ddc chromedriver + 781788\n12  chromedriver                        0x000000010067efb0 chromedriver + 503728\n13  chromedriver                        0x000000010067fa28 chromedriver + 506408\n14  chromedriver                        0x0000000100991724 chromedriver + 3725092\n15  chromedriver                        0x0000000100995c18 chromedriver + 3742744\n16  chromedriver                        0x000000010097a20c chromedriver + 3629580\n17  chromedriver                        0x0000000100996714 chromedriver + 3745556\n18  chromedriver                        0x000000010096d584 chromedriver + 3577220\n19  chromedriver                        0x00000001009b4f74 chromedriver + 3870580\n20  chromedriver                        0x00000001009b5118 chromedriver + 3871000\n21  chromedriver                        0x00000001009c4738 chromedriver + 3934008\n22  libsystem_pthread.dylib             0x0000000184072034 _pthread_start + 136\n23  libsystem_pthread.dylib             0x000000018406ce3c thread_start + 8\n",
     "output_type": "error",
     "traceback": [
      "\u001b[0;31m---------------------------------------------------------------------------\u001b[0m",
      "\u001b[0;31mTimeoutException\u001b[0m                          Traceback (most recent call last)",
      "Cell \u001b[0;32mIn[45], line 2\u001b[0m\n\u001b[1;32m      1\u001b[0m path \u001b[38;5;241m=\u001b[39m \u001b[38;5;124m'\u001b[39m\u001b[38;5;124mhttps://www.thestar.com.my/business/business-news/2023/07/05/upbeat-outlook-for-banking-sector\u001b[39m\u001b[38;5;124m'\u001b[39m\n\u001b[0;32m----> 2\u001b[0m \u001b[43mdriver\u001b[49m\u001b[38;5;241;43m.\u001b[39;49m\u001b[43mget\u001b[49m\u001b[43m(\u001b[49m\u001b[43mpath\u001b[49m\u001b[43m)\u001b[49m\n",
      "File \u001b[0;32m~/miniconda3/envs/MLenv/lib/python3.10/site-packages/selenium/webdriver/remote/webdriver.py:356\u001b[0m, in \u001b[0;36mWebDriver.get\u001b[0;34m(self, url)\u001b[0m\n\u001b[1;32m    354\u001b[0m \u001b[38;5;28;01mdef\u001b[39;00m \u001b[38;5;21mget\u001b[39m(\u001b[38;5;28mself\u001b[39m, url: \u001b[38;5;28mstr\u001b[39m) \u001b[38;5;241m-\u001b[39m\u001b[38;5;241m>\u001b[39m \u001b[38;5;28;01mNone\u001b[39;00m:\n\u001b[1;32m    355\u001b[0m \u001b[38;5;250m    \u001b[39m\u001b[38;5;124;03m\"\"\"Loads a web page in the current browser session.\"\"\"\u001b[39;00m\n\u001b[0;32m--> 356\u001b[0m     \u001b[38;5;28;43mself\u001b[39;49m\u001b[38;5;241;43m.\u001b[39;49m\u001b[43mexecute\u001b[49m\u001b[43m(\u001b[49m\u001b[43mCommand\u001b[49m\u001b[38;5;241;43m.\u001b[39;49m\u001b[43mGET\u001b[49m\u001b[43m,\u001b[49m\u001b[43m \u001b[49m\u001b[43m{\u001b[49m\u001b[38;5;124;43m\"\u001b[39;49m\u001b[38;5;124;43murl\u001b[39;49m\u001b[38;5;124;43m\"\u001b[39;49m\u001b[43m:\u001b[49m\u001b[43m \u001b[49m\u001b[43murl\u001b[49m\u001b[43m}\u001b[49m\u001b[43m)\u001b[49m\n",
      "File \u001b[0;32m~/miniconda3/envs/MLenv/lib/python3.10/site-packages/selenium/webdriver/remote/webdriver.py:347\u001b[0m, in \u001b[0;36mWebDriver.execute\u001b[0;34m(self, driver_command, params)\u001b[0m\n\u001b[1;32m    345\u001b[0m response \u001b[38;5;241m=\u001b[39m \u001b[38;5;28mself\u001b[39m\u001b[38;5;241m.\u001b[39mcommand_executor\u001b[38;5;241m.\u001b[39mexecute(driver_command, params)\n\u001b[1;32m    346\u001b[0m \u001b[38;5;28;01mif\u001b[39;00m response:\n\u001b[0;32m--> 347\u001b[0m     \u001b[38;5;28;43mself\u001b[39;49m\u001b[38;5;241;43m.\u001b[39;49m\u001b[43merror_handler\u001b[49m\u001b[38;5;241;43m.\u001b[39;49m\u001b[43mcheck_response\u001b[49m\u001b[43m(\u001b[49m\u001b[43mresponse\u001b[49m\u001b[43m)\u001b[49m\n\u001b[1;32m    348\u001b[0m     response[\u001b[38;5;124m\"\u001b[39m\u001b[38;5;124mvalue\u001b[39m\u001b[38;5;124m\"\u001b[39m] \u001b[38;5;241m=\u001b[39m \u001b[38;5;28mself\u001b[39m\u001b[38;5;241m.\u001b[39m_unwrap_value(response\u001b[38;5;241m.\u001b[39mget(\u001b[38;5;124m\"\u001b[39m\u001b[38;5;124mvalue\u001b[39m\u001b[38;5;124m\"\u001b[39m, \u001b[38;5;28;01mNone\u001b[39;00m))\n\u001b[1;32m    349\u001b[0m     \u001b[38;5;28;01mreturn\u001b[39;00m response\n",
      "File \u001b[0;32m~/miniconda3/envs/MLenv/lib/python3.10/site-packages/selenium/webdriver/remote/errorhandler.py:229\u001b[0m, in \u001b[0;36mErrorHandler.check_response\u001b[0;34m(self, response)\u001b[0m\n\u001b[1;32m    227\u001b[0m         alert_text \u001b[38;5;241m=\u001b[39m value[\u001b[38;5;124m\"\u001b[39m\u001b[38;5;124malert\u001b[39m\u001b[38;5;124m\"\u001b[39m]\u001b[38;5;241m.\u001b[39mget(\u001b[38;5;124m\"\u001b[39m\u001b[38;5;124mtext\u001b[39m\u001b[38;5;124m\"\u001b[39m)\n\u001b[1;32m    228\u001b[0m     \u001b[38;5;28;01mraise\u001b[39;00m exception_class(message, screen, stacktrace, alert_text)  \u001b[38;5;66;03m# type: ignore[call-arg]  # mypy is not smart enough here\u001b[39;00m\n\u001b[0;32m--> 229\u001b[0m \u001b[38;5;28;01mraise\u001b[39;00m exception_class(message, screen, stacktrace)\n",
      "\u001b[0;31mTimeoutException\u001b[0m: Message: timeout: Timed out receiving message from renderer: 283.417\n  (Session info: chrome-headless-shell=122.0.6261.94)\nStacktrace:\n0   chromedriver                        0x00000001009cc53c chromedriver + 3966268\n1   chromedriver                        0x00000001009c4ac8 chromedriver + 3934920\n2   chromedriver                        0x0000000100647da0 chromedriver + 277920\n3   chromedriver                        0x00000001006314f4 chromedriver + 185588\n4   chromedriver                        0x0000000100631390 chromedriver + 185232\n5   chromedriver                        0x000000010062fcf4 chromedriver + 179444\n6   chromedriver                        0x000000010063082c chromedriver + 182316\n7   chromedriver                        0x000000010063ef84 chromedriver + 241540\n8   chromedriver                        0x00000001006520bc chromedriver + 319676\n9   chromedriver                        0x0000000100630dbc chromedriver + 183740\n10  chromedriver                        0x0000000100651e74 chromedriver + 319092\n11  chromedriver                        0x00000001006c2ddc chromedriver + 781788\n12  chromedriver                        0x000000010067efb0 chromedriver + 503728\n13  chromedriver                        0x000000010067fa28 chromedriver + 506408\n14  chromedriver                        0x0000000100991724 chromedriver + 3725092\n15  chromedriver                        0x0000000100995c18 chromedriver + 3742744\n16  chromedriver                        0x000000010097a20c chromedriver + 3629580\n17  chromedriver                        0x0000000100996714 chromedriver + 3745556\n18  chromedriver                        0x000000010096d584 chromedriver + 3577220\n19  chromedriver                        0x00000001009b4f74 chromedriver + 3870580\n20  chromedriver                        0x00000001009b5118 chromedriver + 3871000\n21  chromedriver                        0x00000001009c4738 chromedriver + 3934008\n22  libsystem_pthread.dylib             0x0000000184072034 _pthread_start + 136\n23  libsystem_pthread.dylib             0x000000018406ce3c thread_start + 8\n"
     ]
    }
   ],
   "source": [
    "path = 'https://www.thestar.com.my/business/business-news/2023/07/05/upbeat-outlook-for-banking-sector'\n",
    "driver.get(path)"
   ]
  },
  {
   "cell_type": "code",
   "execution_count": null,
   "metadata": {},
   "outputs": [
    {
     "name": "stdout",
     "output_type": "stream",
     "text": [
      "Upbeat outlook for banking sector\n"
     ]
    }
   ],
   "source": [
    "site_title = driver.find_element('xpath', '//div[@class=\"headline story-pg\"]')\n",
    "print(site_title.text)"
   ]
  },
  {
   "cell_type": "code",
   "execution_count": null,
   "metadata": {},
   "outputs": [
    {
     "name": "stdout",
     "output_type": "stream",
     "text": [
      "['PETALING JAYA: With loan growth bouncing and bank stock valuations look compelling, CGS-CIMB Research reiterates its “overweight” call on the banking sector.', 'It said there could potentially be write-back of management overlay and estimates that every 10% write-back in management overlay would enhance banks’ net profit for financial years 2023-2024 by about 1.7%.', '“Sector valuations are also attractive with a price-to-earnings of 9.6 times for 2023 and 8.9 times for 2024, while the forecast dividend yield is compelling at 5.3% for 2023, in our view,” said the research firm, whose sector pick is RHB Bank Bhd due to its attractive valuation and dividend yield.', 'CGS-CIMB Research said it is positive on the recovery in the banking industry’s loan growth in May 2023, following the moderation in the preceding two months.', '“Loan growth improved to 4.8% year-on-year (y-o-y) at end-May 2023, primarily lifted by a stronger growth of 1.6% y-o-y for business loans versus an increase of 1% y-o-y at end-April 2023.', '“Bank Negara stated that the higher business loan growth reflected improvement in loans for both working capital and investments extended to small and medium enterprises (SMEs) and non-SME borrowers.”', 'According to the research firm, May’s leading loan indicators also exhibited a turnaround in growth with an expansion of 27% to 28% y-o-y in both loan applications and approvals.', 'This is opposed to declines of 12% to 13% in April 2023.', '“This would help support banks’ loan growth in the next two to three months and reduce the downside risks to our projected loan growth of 4% to 5% for 2023,” said CGS-CIMB Research.', 'Meanwhile, it noted that the industry’s gross impaired loan (GIL) ratio continued to climb, up by two basis points (bps) month-on month to 1.8% at end-May 2023.', '“In the five-month period, the GIL ratio rose by eight bps, which was in line with our expectation, given selective credit risks from the economic slowdown.', '“In addition, most banks have been gradually winding down the repayment assistance extended to their borrowers since the third quarter of 2021 (3Q21),” said CGS-CIMB Research, which forecasts the GIL ratio to rise from 1.72% at end-December 2022 to 2% at end-December 2023.', 'It said the total provision for the banking industry rose by only RM254.6mil in the two-month period of end March to end May. This signified that banks’ 2Q23 loan loss provisioning would be lower y-o-y, it added.', 'The research firm said banks had raised their lending rates and fixed deposit (FD) rates following the 25-bps hike in the overnight policy rate (OPR) on May 3.', 'The lending rates for the banking industry, meanwhile, increased by 25 bps to 26 bps in May, in line with the 25-bps rise in the OPR.', 'Meanwhile, the FD rates were raised by 18 bps to 21 bps for the tenors of one month to 12 months.', 'CGS-CIMB Research said it is positive on the repricing gap as this could lead to an expansion in banks’ net interest margins in 2Q23 compared to 1Q23 levels.']\n"
     ]
    }
   ],
   "source": [
    "contentElement = driver.find_elements('xpath', '//div[@id=\"story-body\"]/p')\n",
    "\n",
    "content = []\n",
    "for _ in contentElement:\n",
    "  content.append(_.text)\n",
    "print(content)"
   ]
  },
  {
   "cell_type": "markdown",
   "metadata": {},
   "source": [
    "<h1>Article # 6</h1>\n",
    "Title : Analysts mixed on banking sector’s valuations and outlook, Public Bank, CIMB, AMMB, Alliance Bank the top picks<br>\n",
    "<a href=\"https://theedgemalaysia.com/node/695771\">Link</a>"
   ]
  },
  {
   "cell_type": "code",
   "execution_count": 46,
   "metadata": {},
   "outputs": [],
   "source": [
    "path = 'https://theedgemalaysia.com/node/695771'\n",
    "driver.get(path)"
   ]
  },
  {
   "cell_type": "code",
   "execution_count": 47,
   "metadata": {},
   "outputs": [
    {
     "name": "stdout",
     "output_type": "stream",
     "text": [
      "Analysts mixed on banking sector’s valuations and outlook, Public Bank, CIMB, AMMB, Alliance Bank the top picks\n"
     ]
    }
   ],
   "source": [
    "site_title = driver.find_element('xpath', '//div[@class=\"news-detail_newsdetailsItemHead__zb6Ed\"]/span')\n",
    "print(site_title.text)"
   ]
  },
  {
   "cell_type": "code",
   "execution_count": 48,
   "metadata": {},
   "outputs": [
    {
     "name": "stdout",
     "output_type": "stream",
     "text": [
      "[\"KUALA LUMPUR (Jan 2): Investment analysts have shared mixed views on the Malaysian banking sector's valuations and outlook, while naming Public Bank Bhd, CIMB Group Holdings Bhd, AMMB Holdings Bhd and Alliance Bank Malaysia Bhd as their top picks.\", 'Hong Leong Investment Bank (HLIB) Bhd expects the banking sector profit to grow at a slower rate of 5%/4% in FY2024/FY2025 compared to estimates of 14% in FY2023, no thanks to the limited recovery in the net interest margin (NIM), a slowdown in non-interest income growth, and the absence of non-credit cost (NCC) write-backs.', 'This puts the sector at a relative lag behind the broader market, where the FBM KLCI is anticipated to surge by a swifter 8% throughout the year. ', 'At Tuesday’s closing bell, the Bursa Malaysia Financial Services Index was 16.31 points or 0.10% lower at 16,286.73. The FBM KLCI, meanwhile, slipped 0.11% or 1.56 points to 1,453.10.', '“In our view, the risk-reward now is more balanced as there are no new positive catalysts to spur share prices significantly higher,” said the research house, which maintained its ‘neutral’ rating for the sector. ', '“Valuations are not excessive and hence, we feel it is too premature to turn full-on bearish,” it said in a note on Tuesday. ', 'HLIB named Public Bank Bhd, AMMB Holdings Bhd and Alliance Bank Malaysia Bhd as its top picks, all receiving \"buy\" recommendations and target prices (TPs) of RM4.80, RM4.20, and RM3.95, respectively.', 'Public Bank is endorsed by HLIB due to its defensive qualities and multi-year low in foreign shareholding. It favoured AMMB for its dividend payout bandwidth in the near future and Alliance Bank due to its inexpensive valuation. ', 'In contrast, MIDF Investment Bank Bhd said valuations in the sector remain attractive and it advises investors to be more selective in their choices as not all banks have optimal outlooks. ', 'The research house reiterated its \"positive\" call for the banking sector due to strong valuations and dividend outlook. “We feel that upside rerating drivers should provide a boost to sector valuations, especially since the worst seems over for now”. ', '“Further asset quality and NCC improvement expected — with high writeback possibility. Post-CNY [Chinese New Year] FD [fixed deposit] rate testing by banks — there is a possibility for further normalisation in rates, and subsequently upside to NIMs [and] Industry dividend outlook is still excellent,” said MIDF which favoured CIMB Group Holdings Bhd (buy, TP: RM6.62) and AMMB (buy,TP: RM4.23). ', 'Meanwhile, Kenanga Investment Bank Bhd expressed a more bullish stance on the sector, by maintaining its “overweight\" rating as the research house expects loan growth of 4.5-5% in CY2024, slightly higher than its CY2023 assumption of 4-4.5%, premised upon a greener economic landscape.', 'It said the banking sector’s resilience will continue to be relevant to investors, especially with more prominent recessionary concerns seen in key regional markets.', '“Domestically, we see asset quality controls to remain tight, governed by BNM’s [Bank Negara Malaysia] strict requirements and prudent management by the banks which most still maintain some level of management overlays. Meanwhile, liquidity is expected to be sufficient as the focus on building their respective loans book and deposits book appear to be equal,” said Kenanga which kept its \"overweight\" rating. ', '“At current price points, banking dividend yields still lead with 6-7% possibly being offered. For top picks, we opted to focus on high growth merit names which could see both near-term and long-term interest for investors, being CIMB, AMMB and Alliance Bank,” it added. ', 'Shares of Public Bank dropped one sen or 0.23% to RM4.28, giving it a market capitalisation of RM83.08 billion. CIMB was down one sen or 0.17% to RM5.84, valuing the group at RM62.28 billion.', 'AMMB rose 0.50% or two sen to RM4.03, with a market value of RM13.36 billion, while Alliance Bank slipped 0.59% or two sen to RM3.37, translating into a market capitalisation of RM5.22 billion.']\n"
     ]
    }
   ],
   "source": [
    "contentElements = driver.find_elements('xpath', '//div[@class=\"news-detail_newsTextDataWrap__PkAu5\"]/div/div[@class=\"newsTextDataWrapInner\"]//p')\n",
    "content = []\n",
    "\n",
    "for i in range (0, len(contentElements)):\n",
    "  content.append(contentElements[i].text)\n",
    "print(content)"
   ]
  },
  {
   "cell_type": "markdown",
   "metadata": {},
   "source": [
    "<h1>Article # 7</h1>\n",
    "Title : Malaysia central bank maintains 2023 growth forecast amid global slowdown<br>\n",
    "<a href='https://www.channelnewsasia.com/business/malaysia-central-bank-maintains-2023-growth-forecast-amid-global-slowdown-3381446'>Link</a>"
   ]
  },
  {
   "cell_type": "code",
   "execution_count": 49,
   "metadata": {},
   "outputs": [],
   "source": [
    "df = export(site_title.text, '\\n'.join(content), 'theedgemalaysia.txt', df)"
   ]
  },
  {
   "cell_type": "code",
   "execution_count": 50,
   "metadata": {},
   "outputs": [],
   "source": [
    "path = 'https://www.channelnewsasia.com/business/malaysia-central-bank-maintains-2023-growth-forecast-amid-global-slowdown-3381446'\n",
    "driver.get(path)"
   ]
  },
  {
   "cell_type": "code",
   "execution_count": 51,
   "metadata": {},
   "outputs": [
    {
     "name": "stdout",
     "output_type": "stream",
     "text": [
      "Malaysia central bank maintains 2023 growth forecast amid global slowdown\n"
     ]
    }
   ],
   "source": [
    "site_title = driver.find_element('xpath', '//h1[@class=\"h1 h1--page-title\"]')\n",
    "print(site_title.text)"
   ]
  },
  {
   "cell_type": "code",
   "execution_count": 52,
   "metadata": {},
   "outputs": [
    {
     "name": "stdout",
     "output_type": "stream",
     "text": [
      "[\"KUALA LUMPUR: Malaysia's central bank on Wednesday (Mar 29) maintained its economic growth forecast for 2023 at 4 per cent to 5 per cent, saying that improved domestic conditions will likely offset risks stemming from a global slowdown and persistent inflation.\", \"The Southeast Asian country's economy has bounced back strongly from a pandemic slump, expanding at a 22-year high of 8.7 per cent in 2022, but its outlook for this year has been clouded by cooling global demand.\", 'IKLAN', 'In documents released with its annual report on Wednesday, Bank Negara Malaysia (BNM) said risks to Malaysia\\'s economy remain \"fairly balanced\", with the country expected to benefit from firm domestic demand, China\\'s reopening, resilient labour markets, and a recovery in tourism.', \"Malaysia's banks remain well-capitalised, BNM said, adding that recent volatility in the global banking sector has had minimal impact on the country's financial markets.\", '\"(BNM) remains vigilant of potential spillover risks from the global banking sector to the domestic financial markets,\" it said.', 'Headline and core inflation were projected to average between 2.8 per cent and 3.8 per cent in 2023, BNM said.', 'It warned that the inflation outlook remained uncertain and tilted to the upside from higher commodity prices and changes in government subsidy policies, as well as price control measures.', 'IKLAN', 'The central bank left its key interest rate unchanged at its two previous meetings this year, citing a need to assess the impact of four consecutive rate hikes in 2022 on the economy.', 'Going forward, BNM said its monetary policy considerations will continue to focus on managing inflation risks while supporting sustainable growth.', '\"Given the lingering uncertainties, any potential adjustments to the degree of monetary accommodation will be guided by the impact of evolving developments on balance of risk to inflation and growth.\"']\n"
     ]
    }
   ],
   "source": [
    "contentElement = driver.find_elements('xpath', '//div[@class=\"text-long\"]//p | //div[@class=\"text-long\"]//h2')\n",
    "\n",
    "content = []\n",
    "for i in range(len(contentElement)):\n",
    "  content.append(contentElement[i].text)\n",
    "  \n",
    "content = [item for item in content if \"ADVERTISEMENT\" not in item]\n",
    "print(content)"
   ]
  },
  {
   "cell_type": "code",
   "execution_count": 53,
   "metadata": {},
   "outputs": [],
   "source": [
    "df = export(site_title.text, '\\n'.join(content), 'channelnewsasia.txt', df)"
   ]
  },
  {
   "cell_type": "markdown",
   "metadata": {},
   "source": [
    "<h1>Article # 8</h1>\n",
    "Title : Analysts remain upbeat on banking sector in 2H2023<br>\n",
    "<a href='https://theedgemalaysia.com/node/677154'>Link</a>"
   ]
  },
  {
   "cell_type": "code",
   "execution_count": 54,
   "metadata": {},
   "outputs": [],
   "source": [
    "path = 'https://theedgemalaysia.com/node/677154'\n",
    "driver.get(path)"
   ]
  },
  {
   "cell_type": "code",
   "execution_count": 55,
   "metadata": {},
   "outputs": [
    {
     "name": "stdout",
     "output_type": "stream",
     "text": [
      "Analysts remain upbeat on banking sector in 2H2023\n"
     ]
    }
   ],
   "source": [
    "site_title = driver.find_element('xpath', '//div[@class=\"news-detail_newsdetailsItemHead__zb6Ed\"]/span')\n",
    "print(site_title.text)"
   ]
  },
  {
   "cell_type": "code",
   "execution_count": 56,
   "metadata": {},
   "outputs": [
    {
     "name": "stdout",
     "output_type": "stream",
     "text": [
      "['KUALA LUMPUR (Aug 2): Analysts anticipate that the banking sector will stay in a positive trajectory in the second half of the year despite a slower growth in business loans reported.', \"According to the Bank Negara Malaysia (BNM) Monthly Highlights report for June 2023, Malaysia's credit to the private non-financial sector was broadly sustained at 3.9%, compared with 4% in May 2023, although credit to businesses grew at a slower pace of 2.6%, versus 2.8% previously.\", \"In a note on Wednesday (Aug 2), Maybank Investment Bank Bhd analyst Desmond Ch'ng maintained a “positive” rating on banks, even though loan growth of 4.4% in June 2023 currently trails its full-year loan growth forecast of 5% for the year.\", '“Nevertheless, we expect a pick-up in loan growth in the second half (2H) [of 2023] amid easing inflationary pressures, stable interest rates and a stronger ringgit,” said Ch’ng.', 'Moreover, as margin pressure is abating, he expects it should contribute to better interest margins in the 2HFY2023.', 'The analyst noted that the current account savings account (CASA) ratio contracted for the sixth consecutive month, but by a lower 4.2% year-on-year (y-o-y) compared to 4.9% y-o-y in May 2023.', '“The industry’s CASA ratio nevertheless improved to 29.3% end-June 2023 from 28.9% end-May 2023 and compares against a pre-Covid CASA ratio of 26.5% end-Dec 2019,” he said.', 'He observed that headline inflation eased further to 2.4% in June 2023 from 2.8% in May 2023, and as a result, opined that the return on deposits turned positive for the first time since Feb 2021, and this relieves pressure on interest rate hikes.', 'Maybank Investment\\'s preferred bank stocks are CIMB Group Holdings Bhd with a \"buy\" call and a target price (TP) of RM6.15, AMMB Holdings Bhd (Buy, TP: RM4.15), Alliance Bank Malaysia Bhd (Buy, TP: RM4), Hong Leong Bank Bhd (Buy, TP: RM22.70), Hong Leong Financial Group Bhd (Buy, TP: RM22.20) and RHB Bank Bhd (Buy, TP: RM6.40).', 'CGS-CIMB Research analyst Winson Ng, who also reiterated his “overweight” call on banks, said that the research house is “not overly concerned about the moderation in loan growth”.', '“We are not overly concerned about the weakening of the loan growth as even if loan growth disappoints, we do not expect loan growth in 2023 to be far below our projected 4% to 5%, and every 1% point cut in our loan growth projection would only lower our calendar year of 2024 (CY2024) forecast net profit by 0.8%, based on our estimate,” said Ng.', \"He viewed June's month-on-month (m-o-m) drop of RM796.5 million in gross impaired loans (GIL) positively, as it was the largest m-o-m decline in 1H2023.\", '“This lowered the banking industry’s GIL ratio from 1.8% at end-May 23 to 1.76% at end-Jun 23. Based on the latest trends, we think that GIL ratio should peak soon. Hence, we see minimal risk of GIL ratio surpassing our end-2023 projection of 2%,” he said.', 'The analyst is also positive on the banking sector following the potential further quarter-on-quarter (q-o-q) decline in the second quarter of 2023 (2QFY2023) in loan loss provisioning (LLP).', '“We were positive on the 35.7% q-o-q fall in the sector’s LLP to RM937.6 million in 1Q2023.  It is even more encouraging that the LLP would decline further in 2QFY2023, deduced from the massive RM1 billion reduction in the banking industry’s total provision (the cumulative provision provided by banks over time) in 2Q2FY2023, compared to a decrease of RM134.1 million in 1Q2023.', 'Thus, CGS-CIMB reaffirmed its \"overweight\" call on banks, predicated on potential re-rating catalysts of sequential improvement in net interest margin in 2QFY2023 to 4QFY2023, and potential write-back of management overlay.', '\"We estimate every 10% write-back in management overlay would enhance our projected FY2023 to FY2024 forecast net profits by 1.7%. Sector valuations are also attractive at 9.5 times CYFY2024 forecast price-earnings, while the dividend yield looks compelling to us at 5% in CY2023,\" he added.', \"CGS-CIMB's top pick is RHB Bank (Add, TP: RM7.62) due to its attractive valuation and dividend yield as well as a potential increase in dividend payout, while the potential downside risks for its sector rating would be a deterioration in loan growth and asset quality.\", 'Read also:\\nBNM: Sustained credit growth in June despite slower business loan growth\\n ']\n"
     ]
    }
   ],
   "source": [
    "contentElements = driver.find_elements('xpath', '//div[@class=\"news-detail_newsTextDataWrap__PkAu5\"]/div/div[@class=\"newsTextDataWrapInner\"]//p')\n",
    "\n",
    "content = []\n",
    "for i in range (0, len(contentElements)):\n",
    "  content.append(contentElements[i].text)\n",
    "print(content)"
   ]
  },
  {
   "cell_type": "markdown",
   "metadata": {},
   "source": [
    "<h1>Article # 9</h1>\n",
    "Title : Islamic banking assets up 8.1% to RM1.3 bil at end July, says MOF<br>\n",
    "<a href='https://theedgemalaysia.com/node/686005'>Link</a>"
   ]
  },
  {
   "cell_type": "code",
   "execution_count": 57,
   "metadata": {},
   "outputs": [],
   "source": [
    "path = 'https://theedgemalaysia.com/node/686005'\n",
    "driver.get(path)"
   ]
  },
  {
   "cell_type": "code",
   "execution_count": 58,
   "metadata": {},
   "outputs": [
    {
     "name": "stdout",
     "output_type": "stream",
     "text": [
      "Islamic banking assets up 8.1% to RM1.3 bil at end July, says MOF\n"
     ]
    }
   ],
   "source": [
    "site_title = driver.find_element('xpath', '//div[@class=\"news-detail_newsdetailsItemHead__zb6Ed\"]/span')\n",
    "print(site_title.text)"
   ]
  },
  {
   "cell_type": "code",
   "execution_count": 59,
   "metadata": {},
   "outputs": [
    {
     "name": "stdout",
     "output_type": "stream",
     "text": [
      "['KUALA LUMPUR (Oct 13): The total assets of Islamic banking expanded by 8.1% to RM1.29 billion as at end of July this year, accounting for 36.4% of the market share, according to the Ministry of Finance’s (MOF) 2024 Economic Outlook report.', 'The ministry said the total Islamic financing outstanding grew by 9.1% to RM884.1 billion as at end July, which outpaced the growth trend in the conventional banking sector.', 'The ministry also noted that the Islamic Capital Market (ICM) continues to lead Malaysia’s capital market in fundraising and investing.', '“As at end July, the domestic size of ICM was valued at RM2.40 billion, accounting for 64.4% of total capital market size.', '“Furthermore, the size of ICM increased further by 7.9%, with the sukuk market becoming more attractive to investors,” it said.', 'The MOF said that during the first seven months of this year, sukuk issuances amounted to RM178.2 billion or 61.7% of total issuances.', 'The increasing demand from the private sector for shariah-compliant instruments continues to fuel the issuances of sukuk, the ministry said, adding that Malaysia continued to record the largest share of global sukuk outstanding at 38.8% as at end July.', '“Malaysian sukuk have often been considered attractive, attributed to competitive yields and a reputation for strong regulatory oversight.', '“Additionally, Malaysia’s efforts to become a hub for Islamic finance have garnered interest from foreign institutional investors in diversifying investment portfolios.', '“However, global sukuk issuances are likely to rise slowly for the year, amid slower growth and market volatility but will remain a key funding source in core Islamic finance markets,” said the MOF.', 'The MOF also noted that as at end July, a total of 807 or 81.8% out of a total of 987 companies listed on Bursa Malaysia were shariah-compliant.', 'The market capitalisation of shariah-compliant securities stood at RM1.15 billion or 65.1% of the total market capitalisation of listed companies on Bursa Malaysia.', 'Click here to read more about the Economic Report 2023/2024.']\n"
     ]
    }
   ],
   "source": [
    "contentElements = driver.find_elements('xpath', '//div[@class=\"news-detail_newsTextDataWrap__PkAu5\"]/div/div[@class=\"newsTextDataWrapInner\"]//p')\n",
    "\n",
    "content = []\n",
    "for i in range (0, len(contentElements)):\n",
    "  content.append(contentElements[i].text)\n",
    "print(content)"
   ]
  },
  {
   "cell_type": "markdown",
   "metadata": {},
   "source": [
    "<h1>Article # 10</h1>\n",
    "Title : Stable outlook for Malaysian banking system, says Moody’s<br>\n",
    "<a href='https://themalaysianreserve.com/2023/03/01/stable-outlook-for-malaysian-banking-system-says-moodys/'>Link</a>"
   ]
  },
  {
   "cell_type": "code",
   "execution_count": 60,
   "metadata": {},
   "outputs": [],
   "source": [
    "path = 'https://themalaysianreserve.com/2023/03/01/stable-outlook-for-malaysian-banking-system-says-moodys/'\n",
    "driver.get(path)"
   ]
  },
  {
   "cell_type": "code",
   "execution_count": 61,
   "metadata": {},
   "outputs": [
    {
     "name": "stdout",
     "output_type": "stream",
     "text": [
      "Stable outlook for Malaysian banking system, says Moody’s\n"
     ]
    }
   ],
   "source": [
    "site_title = driver.find_element('xpath', '//div[@class=\"single-post\"]//h2')\n",
    "print(site_title.text)"
   ]
  },
  {
   "cell_type": "code",
   "execution_count": 62,
   "metadata": {},
   "outputs": [
    {
     "name": "stdout",
     "output_type": "stream",
     "text": [
      "['Moody’s Investors Service said Malaysia’s banking system outlook remained stable underpinned by strong economic growth and robust credit metrics across the system.\\n“While weakening exports will weigh on Malaysia’s economic growth, strong domestic demand will support it as the country’s labour conditions improve and inflation will remain lower than regional peers.\\n“Banks’ ample loan-loss buffers and the ongoing forbearance measures will mitigate asset risks from weak borrowers,” it said.\\nThe international credit rating agency said stable net interest margins (NIMs) and loan-loss provisions will help keep banks’ pretax profitability broadly steady, while the absence of a one-off prosperity tax will give a boost to their bottom-line profitability in 2023.\\nIt said banks’ capitalisation and liquidity would remain strong as credit growth slowed moderately given the expectation of further policy rate hikes this year.\\n“We expect Malaysia’s real gross domestic product growth to moderate to 4.5% in 2023 from 8.7% in 2022 due to the weakening of export demand, partly mitigated by strong domestic demand amid improving labour conditions.\\nADVERTISING\\n“We expect system-wide credit growth to decline modestly to about 5% in 2023 from 5.5%  in 2022 as high-interest rates will dampen credit demand. In addition, we expect further policy rate hikes in 2023 as inflation remains elevated compared to pre-pandemic levels,” it said.\\nIt said the bank’s asset quality would be stable as rate hikes last year have increased the debt burdens of borrowers with low-income individuals being particularly vulnerable.\\nAdditionally, it said a supply glut in the property market would continue to weigh on the repayment capacity of developers and construction companies.\\n“The asset quality of loans to the real estate and construction sectors has deteriorated over the past two years (but) banks’ repayment assistance programmes will help limit asset risks and strong loan-loss reserves will provide buffers against future loan losses.\\n“The asset-weighted average loan-loss reserves as a percentage of gross impaired loans for Moody’s rated banks decreased to 156% at the end of September 2022 from 163 % at the end of 2021 but they still are above pre-pandemic levels,” it said.\\nADVERTISING\\nMoody’s also expects capital ratios of local banks to remain stable in 2023 as internal capital generation will offset declines in the fair values of securities caused by policy rate hikes.\\nIn addition, it said, banks’ dividend reinvestment plans and slow risk weighted assets (RWA) growth will also support their capital ratios.\\nAt the end of September 2022, the asset-weighted average ratio of tangible common equity to RWAs for rated banks was 16.6%, a high level, it noted.\\nOn another point, Moody said that increases in funding costs amid competition for deposits will erode most of the benefits of higher loan yields driven by policy rate hikes.\\n“Loan-loss provisioning expenses will remain stable because banks have set aside sufficient loan loss buffers against future loan losses. As such, banks’ pretax profitability will broadly stay at 2022 levels, while their bottom-line profitability will improve in 2023, aided by the absence of a one-off prosperity tax,” it said.\\nMoody’s said it also foresaw that Malaysian banks would maintain strong funding and liquidity facilitated by moderate loan growth, allowing banks to reduce their use of market funds.\\n“Although current account and savings account (CASA) deposits will decrease as depositors shift to higher-yielding term deposits, we expect CASA deposits to remain above pre-pandemic levels.\\n“The system wide liquidity coverage ratio remained strong at 147% at the end of November 2022, although it declined from 153% at the end of 2021,” it concluded. – TMR']\n"
     ]
    }
   ],
   "source": [
    "contentElement = driver.find_elements('xpath', '//div[@class=\"dable-content-wrapper\"]')\n",
    "content = []\n",
    "for _ in contentElement:\n",
    "  content.append(_.text)\n",
    "print(content)"
   ]
  },
  {
   "cell_type": "code",
   "execution_count": 63,
   "metadata": {},
   "outputs": [],
   "source": [
    "df = export(site_title.text, '\\n'.join(content), 'themalaysianreserve2.txt', df)"
   ]
  },
  {
   "cell_type": "markdown",
   "metadata": {},
   "source": [
    "<h1>Article # 11</h1>\n",
    "Title : Malaysia central bank maintains 2023 growth forecast amid global slowdown<br>\n",
    "<a href='https://www.channelnewsasia.com/business/malaysia-central-bank-maintains-2023-growth-forecast-amid-global-slowdown-3381446'>Link</a>"
   ]
  },
  {
   "cell_type": "code",
   "execution_count": 64,
   "metadata": {},
   "outputs": [],
   "source": [
    "path = 'https://www.channelnewsasia.com/business/malaysia-central-bank-maintains-2023-growth-forecast-amid-global-slowdown-3381446'\n",
    "driver.get(path)"
   ]
  },
  {
   "cell_type": "code",
   "execution_count": 65,
   "metadata": {},
   "outputs": [
    {
     "name": "stdout",
     "output_type": "stream",
     "text": [
      "Malaysia central bank maintains 2023 growth forecast amid global slowdown\n"
     ]
    }
   ],
   "source": [
    "site_title = driver.find_element('xpath', '//h1[@class=\"h1 h1--page-title\"]')\n",
    "print(site_title.text)\n"
   ]
  },
  {
   "cell_type": "code",
   "execution_count": 66,
   "metadata": {},
   "outputs": [
    {
     "name": "stdout",
     "output_type": "stream",
     "text": [
      "[\"KUALA LUMPUR: Malaysia's central bank on Wednesday (Mar 29) maintained its economic growth forecast for 2023 at 4 per cent to 5 per cent, saying that improved domestic conditions will likely offset risks stemming from a global slowdown and persistent inflation.\", \"The Southeast Asian country's economy has bounced back strongly from a pandemic slump, expanding at a 22-year high of 8.7 per cent in 2022, but its outlook for this year has been clouded by cooling global demand.\", '', 'In documents released with its annual report on Wednesday, Bank Negara Malaysia (BNM) said risks to Malaysia\\'s economy remain \"fairly balanced\", with the country expected to benefit from firm domestic demand, China\\'s reopening, resilient labour markets, and a recovery in tourism.', \"Malaysia's banks remain well-capitalised, BNM said, adding that recent volatility in the global banking sector has had minimal impact on the country's financial markets.\", '\"(BNM) remains vigilant of potential spillover risks from the global banking sector to the domestic financial markets,\" it said.', 'Headline and core inflation were projected to average between 2.8 per cent and 3.8 per cent in 2023, BNM said.', 'It warned that the inflation outlook remained uncertain and tilted to the upside from higher commodity prices and changes in government subsidy policies, as well as price control measures.', '', 'The central bank left its key interest rate unchanged at its two previous meetings this year, citing a need to assess the impact of four consecutive rate hikes in 2022 on the economy.', 'Going forward, BNM said its monetary policy considerations will continue to focus on managing inflation risks while supporting sustainable growth.', '\"Given the lingering uncertainties, any potential adjustments to the degree of monetary accommodation will be guided by the impact of evolving developments on balance of risk to inflation and growth.\"']\n"
     ]
    }
   ],
   "source": [
    "contentElement = driver.find_elements('xpath', '//div[@class=\"text-long\"]//p | //div[@class=\"text-long\"]//h2')\n",
    "\n",
    "content = []\n",
    "for i in range(len(contentElement)):\n",
    "  content.append(contentElement[i].text)\n",
    "  \n",
    "content = [item for item in content if \"ADVERTISEMENT\" not in item]\n",
    "print(content)"
   ]
  },
  {
   "cell_type": "code",
   "execution_count": 67,
   "metadata": {},
   "outputs": [],
   "source": [
    "df = export(site_title.text, '\\n'.join(content), 'channelnewsasia2.txt', df)"
   ]
  },
  {
   "cell_type": "code",
   "execution_count": 68,
   "metadata": {},
   "outputs": [],
   "source": [
    "export_to_csv(df)"
   ]
  }
 ],
 "metadata": {
  "kernelspec": {
   "display_name": "DACenv",
   "language": "python",
   "name": "python3"
  },
  "language_info": {
   "codemirror_mode": {
    "name": "ipython",
    "version": 3
   },
   "file_extension": ".py",
   "mimetype": "text/x-python",
   "name": "python",
   "nbconvert_exporter": "python",
   "pygments_lexer": "ipython3",
   "version": "3.10.13"
  }
 },
 "nbformat": 4,
 "nbformat_minor": 2
}
