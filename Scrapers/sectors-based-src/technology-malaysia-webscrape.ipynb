{
 "cells": [
  {
   "cell_type": "markdown",
   "metadata": {},
   "source": [
    "<h1>Import Statement & Function</h1>"
   ]
  },
  {
   "cell_type": "code",
   "execution_count": 1,
   "metadata": {},
   "outputs": [],
   "source": [
    "from selenium import webdriver\n",
    "from selenium.webdriver.common.keys import Keys\n",
    "from selenium.webdriver.common.by import By\n",
    "import pandas as pd"
   ]
  },
  {
   "cell_type": "code",
   "execution_count": 2,
   "metadata": {},
   "outputs": [],
   "source": [
    "def export(title:str, content:str, fileName:str, DataFrame:pd.DataFrame): \n",
    "  path = f'../sectors-based-txt/technology-malaysia/{fileName}'\n",
    "  siteName = fileName.replace('.txt', '')\n",
    "  siteName = ''.join([i for i in siteName if not i.isdigit()])\n",
    "  \n",
    "  with open(path, 'w') as f:\n",
    "    f.write(title + '\\n\\n')\n",
    "    f.write(content)\n",
    "    \n",
    "  new_data = pd.DataFrame({\n",
    "    'Title': [title],\n",
    "    'Content': [content],\n",
    "    'Site-Name': [siteName]\n",
    "  })\n",
    "  \n",
    "\n",
    "  DataFrame = pd.concat([DataFrame, new_data], ignore_index=True)\n",
    " \n",
    "  return DataFrame\n",
    "\n",
    "def export_to_csv(df:pd.DataFrame):\n",
    "  df.to_csv('../../csvs/technology-malaysia.csv', index=False)  "
   ]
  },
  {
   "cell_type": "code",
   "execution_count": 3,
   "metadata": {},
   "outputs": [],
   "source": [
    "df = pd.DataFrame(columns=['Title', 'Content', 'Site-Name'])"
   ]
  },
  {
   "cell_type": "code",
   "execution_count": 4,
   "metadata": {},
   "outputs": [],
   "source": [
    "options = webdriver.ChromeOptions()\n",
    "\n",
    "user_agent = 'Mozilla/5.0 (Windows NT 10.0; Win64; x64) AppleWebKit/537.36 (KHTML, like Gecko) Chrome/83.0.4103.116 Safari/537.36'\n",
    "options.add_argument('--headless')\n",
    "options.add_argument(f'user-agent={user_agent}')\n",
    "\n",
    "driver = webdriver.Chrome(options=options)\n"
   ]
  },
  {
   "cell_type": "markdown",
   "metadata": {},
   "source": [
    "<h2>Article # 0</h2>\n",
    "\n",
    "Title : RHB IB says tech-sector earnings may have bottomed, CTOS Digital, Inari and Datasonic top picks <br>\n",
    "<a href='https://theedgemalaysia.com/node/682326'> Link </a>"
   ]
  },
  {
   "cell_type": "code",
   "execution_count": 5,
   "metadata": {},
   "outputs": [],
   "source": [
    "path = \"https://theedgemalaysia.com/node/682326\"\n",
    "driver.get(path)"
   ]
  },
  {
   "cell_type": "code",
   "execution_count": 6,
   "metadata": {},
   "outputs": [
    {
     "name": "stdout",
     "output_type": "stream",
     "text": [
      "RHB IB says tech-sector earnings may have bottomed, CTOS Digital, Inari and Datasonic top picks\n"
     ]
    }
   ],
   "source": [
    "site_title = driver.find_element('xpath', '//div[@class=\"news-detail_newsdetailsItemHead__zb6Ed\"]/span')\n",
    "print(site_title.text)"
   ]
  },
  {
   "cell_type": "code",
   "execution_count": 7,
   "metadata": {},
   "outputs": [
    {
     "name": "stdout",
     "output_type": "stream",
     "text": [
      "['KUALA LUMPUR (Sept 13): RHB Investment Bank Research (RHB IB) has maintained its “neutral” rating of the technology sector, and said news of the iPhone ban in China and the lack of novelty excitement for the iPhone 15 may spell headwinds for sales volumes, especially in China (likely exacerbated by patriotic sensibilities and Huawei’s comeback).', 'In a sector update on Wednesday, the research house said it stays cautious about the overall chip sector, on a protracted slowdown and high valuations.', '“We prefer domestic-focused names, given the relatively stable demand, and advocate a beta play to track the global chip sector run-up.', '“Also, look out for thematic play of potential beneficiaries of Huawei’s supply chain,” it said.', 'RHB IB said the second-quarter results for the sector were mostly in line, following some pre-emptive earnings estimate cuts earlier.', 'Nonetheless, it said three out of nine companies missed expectations — Unisem (M) Bhd, JHM Consolidation Bhd, and Coraza Integrated Technology Bhd — due to slower demand and the loss of economies of scale, coupled with higher input cost.', 'Meanwhile, it said Malaysian Pacific Industries Bhd came in above expectations on better margins, boosted by a strong US dollar.', \"The research house said the market is now aggressively pricing in high growth prospects for 2024 and potential new customer wins, with Bursa Malaysia's Technology Index trading at 25 times price-earnings versus an estimated 27.1% growth in 2024, after the recent round of cuts in consensus earnings forecasts.\", 'However, it said investor sentiment had improved on potential new opportunities and clientele, amid expectations that US tightening of monetary policy is close to peaking.', '“We note the sector’s unappealing valuations, as a full-blown recovery remains some way off, and some stocks’ valuations are still well above pre-pandemic levels.', '“Solid balance sheets and the sturdy US dollar should help provide some level of cushion,” it said.', 'RHB IB said it likes CTOS Digital Bhd for its domestic-focused business, leading position, and growth prospects for its digital solutions and financial technology.', '“Among smaller caps, we like Datasonic Group Bhd, as we expect sustained strong demand for its solutions in national security projects and potential new project wins.', '“For semiconductor exposure, we recommend a beta play in Inari Amertron Bhd as a proxy to the industry, given its strong liquidity and relatively large market capitalisation.', '“Sector upside/downside risks: i) stronger/softer consumer demand; ii) favourable/unfavourable foreign exchange rates; iii) obsolescence of technology; iv) new customer wins/loss of clients; and v) improving/intensifying geopolitical tensions,” it said.']\n"
     ]
    }
   ],
   "source": [
    "contentElements = driver.find_elements('xpath', '//div[@class=\"news-detail_newsTextDataWrap__PkAu5\"]/div/div[@class=\"newsTextDataWrapInner\"]//p')\n",
    "content = []\n",
    "\n",
    "for i in range (0, len(contentElements)):\n",
    "  content.append(contentElements[i].text)\n",
    "print(content)"
   ]
  },
  {
   "cell_type": "code",
   "execution_count": 8,
   "metadata": {},
   "outputs": [],
   "source": [
    "df = export(site_title.text, '\\n'.join(content), 'theedgemalaysia.txt', df)"
   ]
  },
  {
   "cell_type": "markdown",
   "metadata": {},
   "source": [
    "<h2> Article # 2 </h2>\n",
    "Title : Blueprint to help Malaysia achieve digital economy aspirations<br>\n",
    "<a href=\"https://www.mida.gov.my/mida-news/blueprint-to-help-malaysia-achieve-digital-economy-aspirations/#:~:text=As%20to%20the%20impact%20of,to%20increase%20to%2025%25%20by\">Link </a>"
   ]
  },
  {
   "cell_type": "code",
   "execution_count": 9,
   "metadata": {},
   "outputs": [],
   "source": [
    "path = \"https://www.mida.gov.my/mida-news/blueprint-to-help-malaysia-achieve-digital-economy-aspirations/#:~:text=As%20to%20the%20impact%20of,to%20increase%20to%2025%25%20by\"\n",
    "driver.get(path)"
   ]
  },
  {
   "cell_type": "code",
   "execution_count": 10,
   "metadata": {},
   "outputs": [
    {
     "name": "stdout",
     "output_type": "stream",
     "text": [
      "Blueprint to help Malaysia achieve digital economy aspirations\n"
     ]
    }
   ],
   "source": [
    "site_title = driver.find_element('xpath', '//div[@class=\"financity-single-article-content animateDiv\"]/p[@class=\"subtitle-red\"]')\n",
    "print(site_title.text)"
   ]
  },
  {
   "cell_type": "code",
   "execution_count": 11,
   "metadata": {},
   "outputs": [
    {
     "name": "stdout",
     "output_type": "stream",
     "text": [
      "14 Nov 2023\n",
      "Technology continues to drive advances throughout the economies of many countries and Malaysia is no exception.\n",
      "The government has introduced MyDIGITAL, a national initiative to transform Malaysia into a country with high-income status that is focused on digitalisation and a regional pioneer in digital economy.\n",
      "The Malaysian Digital Economy Blueprint outlines the efforts and initiatives taken to fulfil MyDIGITAL’s aspirations. The blueprint will determine the trajectory of the digital economy’s contributions to the Malaysian economy and builds the foundation to drive digitalisation nationwide, including to bridge the digital divide.\n",
      "According to Professor Dr Vinesh Thiruchelvam, chief innovation & enterprise officer at APIIT Education Group and Asia Pacific University of Technology & Innovation, Malaysia’s digital transformation is anchored in artificial intelligence (AI), data analytics, cloud computing, Internet of Things (IoT), cybersecurity, and robotics.\n",
      "“Malaysia’s technology sector has accelerated into the Fourth Industrial Revolution with the National 4IR Policy from July 2021,” he said.\n",
      "As for the role of government policies in supporting the growth of the technology sector, Vinesh said the policies outlined in the Malaysia Digital Economy Blueprint and MyDIGITAL play a pivotal role in fostering Malaysia’s technology sector.\n",
      "“With a bottom-up approach, the government instils a digital-first mindset among Malaysians, followed by widespread digital technology adoption across the government.\n",
      "“By means of efficient digital administration, this unique strategy seeks to create a competitive digital economy,” he remarked.\n",
      "As for the tech industry facilitating job creation and skill development, Vinesh said the tech industry in Malaysia has been a catalyst for job creation and skill development.\n",
      "“By identifying emerging technologies and actively involving all stakeholders, Malaysia has bridged digital divides across income, gender, and age groups.\n",
      "“The workforce has adapted to higher-value jobs, extending beyond 4IR core areas to encompass emerging fields such as blockchain technology, digital forensics, and robotic process automation.\n",
      "“This strategic approach ensures a future-ready talent pool aligning with evolving industry demands,” he said.\n",
      "To stay at the forefront of the digital era, Vinesh said, Malaysia should prioritise key technology areas.\n",
      "“The ability of the economy to grow depends on efficient data use and regulation, which calls for increased understanding of cybersecurity. As we progress towards a higher-income society, rapid adoption and comprehensive understanding of AI is crucial.\n",
      "“Malaysia should also assert influence in shaping regional enterprise strategy, particularly in cloud engineering, AI, chip design, system design, and software development. This strategic focus ensures technological leadership and regional impact,” he emphasised.\n",
      "As to the impact of the growing technology industry on Malaysia’s economy, Universiti Teknologi Mara senior economics lecturer Dr Mohamad Idham Md Razak said Malaysia’s technology sector significantly propels its economy, contributing 22.6% to gross domestic product (GDP) in 2021 and is expected to increase to 25% by 2023.\n",
      "“In terms of exports, the technology sector plays a pivotal role, with information technology (IT) goods valued at RM110 billion in 2021, expected to reach RM120 billion by 2023.\n",
      "“Moreover, the sector attracted substantial investment, with Malaysia receiving RM30 billion in IT investment in 2021, a figure which is expected to grow to RM40 billion by 2023,” he added.\n",
      "Mohamad Idham said Malaysia’s tech industry has flourished with significant foreign direct investment from multinational enterprises, bringing in advanced technologies and international best practices.\n",
      "“Companies such as Intel, Dell and Western Digital have spurred the growth of semiconductor manufacturing. This influx has not only diversified Malaysia’s economy beyond traditional sectors but also reduced reliance on a few industries, enhancing economic resilience,” he added.\n",
      "The IT sector, he said, has been a catalyst for employment generation and skill development, fostering a skilled labour force. Additionally, international collaborations have facilitated technology transfer, enabling local technology enterprises to enhance their capabilities.\n",
      "“The tech sector’s partnerships with overseas entities have driven a surge in research and innovation, leading to breakthroughs in biotechnology, renewable technology, and AI, positioning Malaysia at the forefront of technological advancement,” said Mohamad Idham.\n",
      "He also noted that the technology sector is not exempt from global financial crises and economic downturns.\n",
      "“Rapid technological progress is a double-edged sword, as failure to stay current with emerging trends and technologies can render older products and services obsolete, risking market share loss.\n",
      "“Given that the technology sector is particularly vulnerable to ransomware attacks and data breaches, which can jeopardise operations, reputations, and finances, cybersecurity is still a major worry,” he pointed out.\n",
      "Mohamad Idham said regulatory obstacles also loom, as the dynamic nature of the tech sector may outpace legal frameworks, presenting challenges for businesses to comply with new laws and potentially impeding innovation.\n",
      "Source: The Sun Daily\n"
     ]
    }
   ],
   "source": [
    "contentElement = driver.find_elements('xpath', '//div[@class=\"singleContainerContent animateDiv\"]/div[@class=\"financity-single-article-content animateDiv\"]/p')\n",
    "\n",
    "content = []\n",
    "\n",
    "for i in range (1, len(contentElement)):\n",
    "  content.append(contentElement[i].text)\n",
    "  print(contentElement[i].text)"
   ]
  },
  {
   "cell_type": "code",
   "execution_count": 12,
   "metadata": {},
   "outputs": [],
   "source": [
    "df = export(site_title.text, '\\n'.join(content), 'mida.txt', df)"
   ]
  },
  {
   "cell_type": "markdown",
   "metadata": {},
   "source": [
    "<h2>Article # 3 </h2>\n",
    "Title : Malaysia’s Thriving Tech Sector in 2023 <br>\n",
    "<a href=\"https://theenterpriseworld.com/malaysias-thriving-tech-sector-in-2023/\"> Link </a>"
   ]
  },
  {
   "cell_type": "code",
   "execution_count": 13,
   "metadata": {},
   "outputs": [],
   "source": [
    "path = 'https://theenterpriseworld.com/malaysias-thriving-tech-sector-in-2023/'\n",
    "driver.get(path)"
   ]
  },
  {
   "cell_type": "code",
   "execution_count": 14,
   "metadata": {},
   "outputs": [
    {
     "name": "stdout",
     "output_type": "stream",
     "text": [
      "Malaysia’s Thriving Tech Sector in 2023\n"
     ]
    }
   ],
   "source": [
    "site_title = driver.find_element('xpath', '//h1[@class=\"elementor-heading-title elementor-size-default\"]')\n",
    "print(site_title.text)"
   ]
  },
  {
   "cell_type": "code",
   "execution_count": 15,
   "metadata": {},
   "outputs": [
    {
     "name": "stdout",
     "output_type": "stream",
     "text": [
      "66\n"
     ]
    }
   ],
   "source": [
    "contentElements = driver.find_elements('xpath', '//div[@class=\"elementor-widget-container\"]/div[@id=\"bsf_rt_marker\"]//p | //div[@class=\"elementor-widget-container\"]/div[@id=\"bsf_rt_marker\"]/ul/li/strong | //div[@class=\"elementor-widget-container\"]/div[@id=\"bsf_rt_marker\"]//h2[@class=\"wp-block-heading\"]')\n",
    "\n",
    "content = []\n",
    "for i in range (0, len(contentElements)):\n",
    "  content.append(contentElements[i].text)\n",
    "\n",
    "print(len(content))"
   ]
  },
  {
   "cell_type": "code",
   "execution_count": 16,
   "metadata": {},
   "outputs": [],
   "source": [
    "df = export(site_title.text, '\\n'.join(content), 'theenterpriseworld.txt', df)"
   ]
  },
  {
   "cell_type": "markdown",
   "metadata": {},
   "source": [
    "<h2>Article # 4 </h2>\n",
    "Title : HIGHEST GROWTH IN PROFIT AFTER TAX OVER THREE YEARS: TELECOMMUNICATIONS & MEDIA: Telekom Malaysia Bhd - Delivering profits while accelerating the Digital Malaysia aspiration <br>\n",
    "<a href=\"https://theedgemalaysia.com/node/689632\"> Link </a>"
   ]
  },
  {
   "cell_type": "code",
   "execution_count": 17,
   "metadata": {},
   "outputs": [],
   "source": [
    "path = 'https://theedgemalaysia.com/node/689632'\n",
    "driver.get(path)"
   ]
  },
  {
   "cell_type": "code",
   "execution_count": 18,
   "metadata": {},
   "outputs": [
    {
     "name": "stdout",
     "output_type": "stream",
     "text": [
      "HIGHEST GROWTH IN PROFIT AFTER TAX OVER THREE YEARS: TELECOMMUNICATIONS & MEDIA: Telekom Malaysia Bhd - Delivering profits while accelerating the Digital Malaysia aspiration\n"
     ]
    }
   ],
   "source": [
    "site_title = driver.find_element('xpath', '//div[@class=\"news-detail_newsdetailsItemHead__zb6Ed\"]/span')\n",
    "print(site_title.text)"
   ]
  },
  {
   "cell_type": "code",
   "execution_count": 19,
   "metadata": {},
   "outputs": [
    {
     "name": "stdout",
     "output_type": "stream",
     "text": [
      "['This article first appeared in The Edge Malaysia Weekly on November 13, 2023 - November 19, 2023', 'It is a constant balancing act for Telekom Malaysia Bhd, which supports nation building and advances the country’s digital transformation agenda as a government-linked corporation (GLC) while also needing to deliver good returns as a public-listed company (PLC).', 'For the financial year ended Dec 31, 2022 (FY2022), at least, its top line reached an all-time high since 2008, the year it floated its mobile and international operations under Axiata Group Bhd to focus on delivering high-speed broadband services. Net profit rose 27.7% to RM1.14 billion year on year.', 'That helped TM chalk up a 21.8% risk-weighted three-year profit after tax (PAT) compound annual growth rate between FY2019 and FY2022 — beating sectoral peers to clinch The Edge Billion Ringgit Club (BRC) award for highest growth in PAT over three years in the telecommunication and media sector. TM won the same BRC award last year.', 'TM’s RM1.14 billion PAT in FY2022 came on the back of a robust revenue growth of 5% to RM12.1 billion. With effective cost management, its earnings before interest and tax (EBIT) increased 15% year on year to RM2.07 billion, while core earnings jumped 35% y-o-y to RM1.56 billion, despite a higher effective tax rate due to the Prosperity Tax.', 'Things are getting trickier this year, though. The direction from Minister of Communications and Digital Fahmi Fadzil that internet prices had to be reduced by September was one of the challenges in TM’s way to hit another record high in its earnings. The recent revision on the Mandatory Standards on Access Pricing (MSAP) would also have an impact on the company’s profitability.', 'In the first half of financial year 2023 (1HFY2023), however, TM’s net profit is still up 25.2% y-o-y to RM898.8 million, from RM717.9 million, despite an increase in operational and depreciation costs. Its net profit for 2QFY2023 ended June 30 jumped 50.4% y-o-y to RM568.7 million, owing mainly to the recognition of tax credits from unutilised tax losses.', 'Nonetheless, there is no doubt that TM’s operating landscape is getting more challenging.', 'Its average revenue per user (ARPU) for the fixed broadband Unifi business was flat in 2QFY2023, resulting in the segment — the group’s largest — reporting flat growth during the quarter, despite growth in the number of subscribers.', 'Meanwhile, TM One continues to be affected by higher costs and lower margins, as its customers, including governments, are demanding better contract value. TM One’s revenue fell 11.4% y-o-y in 2QFY2023 to RM732 million, while its Ebit fell 22.67% y-o-y to RM205.1 million.', 'Still, management remains optimistic on prospects for FY2023. For the year, it has guided for a stable y-o-y revenue growth, Ebit of RM1.8 billion to RM2 billion and between 18% and 20% capital expenditure intensity.', '“The Ebit guidance appears conservative, in our view, and possibly reflects higher mobile-related costs and some degree of MSAP impact,” states Maybank Investment Bank Research in an Aug 28 report.', '“We raise our FY2023/24/25 net profit forecasts by 21%/23%/14% respectively, as we incorporate the tax credits (to be recognised over two to 2½ years) and lower Ebit,” the research firm states.', 'If FY2023 proves to be another record year for TM, its shareholders will be smiling all the way to the bank. Management is committed to distributing yearly dividends of between 40% and 60% of its net profit every year, to ensure growth for long-term shareholder value. In FY2022, TM declared 16.5 sen per share in dividends, with a total payout of RM627.5 million.', 'At the time of writing, 18 of 21 analysts tracking TM have either a “buy” or “strong buy” call, indicating confidence in potential returns to investors. The consensus target price is RM6.24, with the highest being RM7.15.', '“We continue to like TM on account of positive tailwinds in the digital space as economies recover; the enhanced network coverage nationwide boosting internet demand from both the public and business sectors; [and] competitive offerings, with added 5G availability. [TM’s] subscriber base [is also] expected to improve further, given the expected lower broadband prices coming from the revised MSAP,” Kenanga Research wrote in a report dated Aug 28.', 'Commenting on the outlook for 2023 in its 2022 annual report, TM had informed shareholders about the likelihood of an increase in the cost of doing business, but said it “remains confident in our ability to navigate challenges by focusing on greater efficiency and productivity”.', 'TM’s evolution from the country’s incumbent telecommunications company (telco) to a technology company (techco) is being spearheaded by new leaders, with a change in its chairman and group managing director and CEO from Aug 1 this year.', 'To borrow the words of TM’s former chairman Tan Sri Mohammed Azlan Hashim — who retired on July 31 this year following a two-year term, and was succeeded by Financial Reporting Foundation chairman Datuk Zainal Abidin Putih — TM’s “ability to evolve and adapt has been instrumental in our success thus far and we remain committed to exploring new opportunities and staying ahead of the curve”.', 'Amar Huzaimi Md Deris, who succeeded Datuk Imri Mokhtar as managing director and group CEO, said in a statement in July that Imri “has set the right path for TM”, noting that its 2021 to 2023 transformation programme had strengthened the group’s foundation and allowed it to better pursue new growth areas.', 'In an Aug 25 statement following the release of 2QFY2022 numbers, Amar, who headed TM’s domestic and global wholesale business previously, said the group “expects to face a more challenging marketplace but remains confident in our overall positive financial performance”.', 'The group, he says, will continue strengthening its core business to be commercially sustainable while contributing to the nation’s growth.', '“TM is excited by the huge potential of fixed, mobile and lifestyle convergence in the digital market, as well as digital infrastructure and solutions for MSME (micro, small and medium enterprises), enterprise and government sectors, while pursuing opportunities with international partners, including hyperscalers,” Amar said in the statement, reiterating TM’s commitment to continuously invest in its network to enable the nation’s progress towards a Digital Malaysia.', '“TM will continue to collaborate closely with the government to serve as the nation’s trusted partner to grow Malaysia’s overall connectivity and digital ecosystem, including 5G.”', 'Save by subscribing to us for your print and/or digital copy.', \"P/S: The Edge is also available on Apple's App Store and Android's Google Play.\"]\n"
     ]
    }
   ],
   "source": [
    "contentElements = driver.find_elements('xpath', '//div[@class=\"news-detail_newsTextDataWrap__PkAu5\"]/div/div[@class=\"newsTextDataWrapInner\"]//p')\n",
    "content = []\n",
    "\n",
    "for i in range (0, len(contentElements)):\n",
    "  content.append(contentElements[i].text)\n",
    "print(content)"
   ]
  },
  {
   "cell_type": "code",
   "execution_count": 20,
   "metadata": {},
   "outputs": [],
   "source": [
    "df = export(site_title.text, '\\n'.join(content), 'theedgemalaysia2.txt', df)"
   ]
  },
  {
   "cell_type": "markdown",
   "metadata": {},
   "source": [
    "<h2>Article # 5 </h2>\n",
    "Title : Behind the Knock-Down Sale of Iskandar Malaysia Studios<br>\n",
    "<a href=\"https://variety.com/2023/film/news/sale-of-iskandar-malaysia-studios-1235575477/\"> Link </a>"
   ]
  },
  {
   "cell_type": "code",
   "execution_count": 21,
   "metadata": {},
   "outputs": [],
   "source": [
    "path = 'https://variety.com/2023/film/news/sale-of-iskandar-malaysia-studios-1235575477/'\n",
    "driver.get(path)"
   ]
  },
  {
   "cell_type": "code",
   "execution_count": 22,
   "metadata": {},
   "outputs": [
    {
     "name": "stdout",
     "output_type": "stream",
     "text": [
      "Behind the Knock-Down Sale of Iskandar Malaysia Studios\n"
     ]
    }
   ],
   "source": [
    "site_title = driver.find_element('xpath', '//h1[@id=\"section-heading\"]')\n",
    "print(site_title.text)"
   ]
  },
  {
   "cell_type": "code",
   "execution_count": 23,
   "metadata": {},
   "outputs": [
    {
     "name": "stdout",
     "output_type": "stream",
     "text": [
      "['As recently as last month, government officials in the Malaysian state of Serawak, Borneo, told local media that their state needs to build a new film production facility like the Iskandar Malaysia Studios in the south of peninsular Malaysia. Serawak officials said that their state Premier had visited the studios and plans had been discussed with FINAS, Malaysia’s national film regulatory and financing body.', 'The illusion of glittering success was shattered last week by an undramatic regulatory filing across the border in Singapore.', 'IMS had been sold to a foreign TV company for a tiny fraction of its construction cost. The sale appears to crystallize more than $100 million of losses.', '', 'GHY Culture & Media, a Singaporean company specializing in Chinese-language content, announced that it had bought an 80% stake in SMS, an intermediary company, for $2 million (RM8.84 million). GHY and SMS must then spend a further $6 million (RM26.5 million) to buy 100% of IMS from state-backed investment vehicle Granatum Ventures. Total $8 million.', 'Among the usual verbiage and deflection associated with a deal announcement, GHY’s filing revealed that, “based on the audited accounts of IMS for the financial year ended 31 December 2022, the net asset value of IMS is approximately RM 32,000,000,” or $7.3 million.', 'The facility is scarcely insignificant: “IMS owns and operates integrated film and television facilities in Johor Bahru, Malaysia, which includes film stages, television studios, water filming tanks and production support facilities. These include five state-of-the-art stages which are versatile working spaces, which also have stage pits for water filming and dry use, as well as two 12,000 square feet television studios which are fully equipped and can accommodate large audience television shows. IMS also offers procurement and design services for feature films and television projects, in addition to technical equipment rentals,” GHY explains.', 'The end of December valuation compares very badly with the cost to the Malaysian taxpayer. When IMS opened in 2014, local and trade reports announced that the facility had required an investment of $120-$170 million. Even using the lower construction cost figure, the devaluation of an asset from $120 million to $7.3 million represents a more than 90% destruction of shareholders’ value in the eight years since IMS opened. IMS’s annual profit and loss accounts are not public information.', '', 'Variety contacted GHY and IMS for comment. They each declined to add anything to GHY’s regulatory filing. FINAS had not replied by press time.', 'Although it is 330 km from Malaysia’s film capital and biggest city Kuala Lumpur, IMS was promoted as both part of a larger infrastructure initiative and as a new creative hub for the Asia-Pacific region.', 'Built on the site of a former palm oil plantation and within eyesight of Singapore, the IMS project was spearheaded by the Malaysian government’s sovereign wealth fund, Khazanah Nasional Berhad. It was a key part of plans to form a creative industries ecosystem within Johor’s Iskandar development corridor which more widely sought to emulate China’s Shenzhen tech megalopolis and achieve GDP per capita of $31,000 by 2025. Granatum is a wholly-owned Khazanah subsidiary.', 'Even before opening, the studio initiative seemed to be endowed with two significant advantages. The first, was the signing in 2009 of a partnership with the U.K.’s Pinewood Studios group. With roles officially spanning consultancy, brand and marketing services, Pinewood was involved in the architectural design, construction and initial management of the Malaysian facility. Pinewood appeared to bring credibility and a network effect by presenting the new studio as part of its mesh of global filming facilities that stretched from the U.K. to the Caribbean.', 'By the time the facility opened in June 2014 – then branded as Pinewood Iskandar Malaysia Studios – inbound films and TV shows were told they would be able to take advantage of a new 30% production rebate scheme that was administered by FINAS and had backing from another branch of Khasanah. Having a location incentive is essential in the globally competitive studios market. This would put IMS on the map.', 'At the time of launch, IMS’s Australian CEO Mike Lake admitted that production costs in Malaysia were higher than those in neighboring Thailand and Indonesia. (And lower than immediately adjacent Singapore). He was also transparent about the Johor region’s lack of movie-making crew and infrastructure outside IMS’s perimeter fence.', 'Lake was, however, able to suggest that the location incentive would make IMS competitive in terms of price, and able to claim that, given the range of facilities within IMS, it would be possible to walk in with a script and walk out with a finished product ready for broadcast or theatrical release. The local skills would increase over time as more movies and series shot there, Lake suggested.', 'The headline-grabbing launch customer was The Weinstein Company, shooting its “Marco Polo” TV series for Netflix. The show had a second season, but it was canceled amid talk of difficult relations between the production partners.', 'Since then, the studios attracted water tank work on the Simon West-directed Chinese disaster action film “Skyfire,” which was a box office flop, and a portion of the work on SK Global’s “Crazy Rich Asians,” which was distributed by Warner Bros. and became a $238 million global hit.', '', 'TV shows using the facilities have included “Asia’s Got Talent,” the Singapore and Malaysia edition of “The Voice” and “Hi-5.” GHY has shot at least three shows there: “The Little Nyonya – New Edition,” “The Ferryman – Legends of Nanyang,” and “Sisterhood.”', 'So far, however, the studios have failed to persuade any major Hollywood film to use IMS as its core facility.', '“Nobody in Hollywood wants to shoot in Malaysia,” an experienced location manager told Variety. The country may have developed a negative, intolerant image after banning U.S. movies including “Hustlers,” “Thor: Love and Thunder” and “Lightyear.”', 'Other reasons put forward by Asian industry sources include the studios’ location, which is perceived as isolated from major film production hubs, and its still underdeveloped local crews. Bringing crews in from Singapore may increase production costs, while importing Thai staff begs the question, why not shoot in well-equipped Bangkok.', 'Thailand has recently hosted Netflix’s “Extraction,” Apple TV+’s “Shantaram,” Spike Lee’s “Da 5 Bloods,” and Disney’s “Miss Marvel” and it succeeded in operating production facilities through much of the COVID pandemic.', 'The separation of the Iskandar studios from the Pinewood group in 2019 was both a setback and a surprise. Whether Pinewood failed to bring in as much business as Johor officials and Khazanah investors had hoped or whether the facilities giant, which itself had a change of management, encountered specific local issues is cloaked in omerta. Their jointly agreed statement at the end of their ten-year deal was terse.', '“Effective July 10, Pinewood Iskandar Malaysia Studios will be known as Iskandar Malaysia Studios (IMS),” the statement said. “With the initial objectives of the collaboration achieved — including the development of the studios in Malaysia — both parties will now focus on the next phase of their respective businesses.”', 'Other sources have pointed to the Film In Malaysia Incentive (FIMI) as a weakness. The rebate scheme was slow to get going smoothly, though a change in Malaysia’s federal government seemed to help. And it has been criticized as too small.', 'The minimum total qualifying Malaysian production expenditure is MYR 5 million ($1.13 million) for production (inclusive of post-production), or MYR 1.5 million ($341,000) for post-production activity in Malaysia. (In 2020, Michael Bay action thriller “6 Underground” for Netflix became the first foreign production to earn the post-production rebate.) For television the amount offered is RM385,000, or about $87,500, per hour of TV.', 'In 2022, FIMI was enhanced with 5% bonus rebate, potentially making 35%, if projects also pass a cultural test.', 'Whether the boosted rebate, the end of COVID and an ownership change will combine to improve IMS’s prospects are all unknown. Several questions remain.', '', 'These include whether GHY wants to use the facility predominantly for its own productions or continue to pursue the regional hub approach. And whether the Malaysian finance ministry will be so keen to plow money into subsidy when IMS is foreign-owned.', '']\n"
     ]
    }
   ],
   "source": [
    "contentElements = driver.find_elements('xpath', '//div[@class=\"pmc-paywall\"]/p')\n",
    "content = []\n",
    "\n",
    "for i in range (0, len(contentElements)):\n",
    "  content.append(contentElements[i].text)\n",
    "print(content)"
   ]
  },
  {
   "cell_type": "code",
   "execution_count": 24,
   "metadata": {},
   "outputs": [],
   "source": [
    "df = export(site_title.text, '\\n'.join(content), 'variety.txt', df)"
   ]
  },
  {
   "cell_type": "markdown",
   "metadata": {},
   "source": [
    "<h2>Article # 6</h2>\n",
    "Title : Maybank IB still 'neutral' on telco sector as uncertain outlook drags on <br>\n",
    "<a href=\"https://theedgemalaysia.com/node/696147\"> Link </a>"
   ]
  },
  {
   "cell_type": "code",
   "execution_count": 25,
   "metadata": {},
   "outputs": [],
   "source": [
    "path = 'https://theedgemalaysia.com/node/696147'\n",
    "driver.get(path)"
   ]
  },
  {
   "cell_type": "code",
   "execution_count": 26,
   "metadata": {},
   "outputs": [
    {
     "name": "stdout",
     "output_type": "stream",
     "text": [
      "Maybank IB still 'neutral' on telco sector as uncertain outlook drags on\n"
     ]
    }
   ],
   "source": [
    "site_title = driver.find_element('xpath', '//div[@class=\"news-detail_newsdetailsItemHead__zb6Ed\"]/span')\n",
    "print(site_title.text)"
   ]
  },
  {
   "cell_type": "code",
   "execution_count": 27,
   "metadata": {},
   "outputs": [
    {
     "name": "stdout",
     "output_type": "stream",
     "text": [
      "['KUALA LUMPUR (Jan 4): Maybank Investment Bank Bhd (Maybank IB) has maintained its “neutral” call on the telecommunications sector over its challenging outlook for 2024, as the sector is plagued by uncertainty over the phased transition to dual fifth-generation (5G) networks.', \"The research house said the “possible step-up in Digital Nasional Bhd (DNB) lease payments could adversely impact telecommunications companies' (telcos) earnings”.\", '\"Telcos are currently paying a nominal amount to use DNB’s 5G services. When the required conditions (such as DNB achieving 80% coverage) are fulfilled, the minimum annual fee would rise to RM360 million for Maxis Bhd and RM288 million per telco for the rest.', '\"Assuming telcos maintain their current level of network investment (thus discounted cash flow-neutral), the higher proportion of operational expenditure (which is not depreciated) would theoretically be earnings dilutive to telcos,\" Maybank IB said in a research note.', 'The research house noted that concerns over access price reduction for fixed broadband had somewhat dissipated, after Maxis finalised its commercial agreement with Telekom Malaysia Bhd (TM).', 'It added that “the telecommunication industry increasingly depicts a long-drawn race to the bottom, as competition hampers monetisation and regulatory demands intensify”.', '\"As revenue stagnates, we believe telcos can only rely on optimising costs (including engaging in mergers) to preserve earnings.', '\"In Malaysia, telcos with headroom to address costs, in our view, are TM, Axiata Group Bhd and CelcomDigi Bhd,\" said Maybank IB.']\n"
     ]
    }
   ],
   "source": [
    "contentElements = driver.find_elements('xpath', '//div[@class=\"news-detail_newsTextDataWrap__PkAu5\"]/div/div[@class=\"newsTextDataWrapInner\"]//p')\n",
    "content = []\n",
    "\n",
    "for i in range (0, len(contentElements)):\n",
    "  content.append(contentElements[i].text)\n",
    "print(content)"
   ]
  },
  {
   "cell_type": "code",
   "execution_count": 28,
   "metadata": {},
   "outputs": [],
   "source": [
    "df = export(site_title.text, '\\n'.join(content), 'theedgemalaysia3.txt', df)"
   ]
  },
  {
   "cell_type": "markdown",
   "metadata": {},
   "source": [
    "<h2>Article # 7</h2>\n",
    "Title : Kenanga stays optimistic with telco sector following Jendela 1’s success <br>\n",
    "<a href=\"https://www.freemalaysiatoday.com/category/business/2023/06/08/kenanga-stays-optimistic-with-telco-sector-following-jendela-1s-success/\"> Link </a>"
   ]
  },
  {
   "cell_type": "code",
   "execution_count": 29,
   "metadata": {},
   "outputs": [],
   "source": [
    "path = 'https://www.freemalaysiatoday.com/category/business/2023/06/08/kenanga-stays-optimistic-with-telco-sector-following-jendela-1s-success/'\n",
    "driver.get(path)"
   ]
  },
  {
   "cell_type": "code",
   "execution_count": 30,
   "metadata": {},
   "outputs": [
    {
     "name": "stdout",
     "output_type": "stream",
     "text": [
      "Kenanga stays optimistic with telco sector following Jendela 1’s success\n"
     ]
    }
   ],
   "source": [
    "site_title = driver.find_element('xpath', '//*[@id=\"__next\"]/main/div[2]/div/div/div[1]/section/h1')\n",
    "# <h1 class=\"sc-fPXMVe iWDaXK pb-4 mb-0 fw-bold\">Kenanga stays optimistic with telco sector following Jendela 1’s success</h1>\n",
    "print(site_title.text)"
   ]
  },
  {
   "cell_type": "code",
   "execution_count": 31,
   "metadata": {},
   "outputs": [
    {
     "name": "stdout",
     "output_type": "stream",
     "text": [
      "['PETALING JAYA: Kenanga Investment Bank Bhd has maintained its positive outlook on the telecommunications industry, reaffirming its “overweight” recommendation on the sector.', 'The call was made following a recent briefing on the Jalinan Digital Negara (Jendela) plan by the Malaysian Communications and Multimedia Commission (MCMC).', 'According to analyst Ramzani Ramli, the recent briefing highlighted Jendela Phase 1’s achievements, surpassing its initial targets and setting the stage for an expedited deployment of the 5G network.', 'These developments also pave the way for the upcoming Jendela Phase 2 initiative, he said in a research note today.', '“Most of the telcos surpassed their original targets in terms of upgrading, fiberisation and building new towers, but some missed their marks due to issues with local authorities,” he said.', 'Jendela was formulated to enhance broadband coverage and improve the overall quality of internet services for the people, while simultaneously preparing the country for the implementation of 5G technology.', 'Phase 1, which was completed in December 2022, aimed to expand 4G coverage to 96.9%, increase mobile broadband speed to 35Mbps, and provide gigabit-speed fixed broadband access to 83% of premises nationwide.', 'Phase 2 envisions the expansion of network coverage to the remaining 3% of the population which would include communities living in inland and remote areas.', '“Jendela Phase 1 cost RM28 billion, of which 40% was borne by the government, while Phase 2 is expected to be launched by the end of 2023, but so far there has been no mention of how much the expenditure will be,” added Ramzani.', 'Ramzani remarked that the implementation of new 4G towers during Phase 1 also contributed to a decline in complaints, particularly from rural areas.', '“The efforts made by MCMC have proven successful, resulting in a significant reduction of complaints by 63% by December 2022 compared to the highest recorded number of 8,616 complaints in January 2022,” Ramzani noted.', 'As of April, the 5G coverage of populated areas stood at 57.9%, and MCMC is confident that the percentage will reach 80% within the next six months.']\n"
     ]
    }
   ],
   "source": [
    "contentElement = driver.find_elements('xpath', '//div[@itemprop=\"articleBody\"]/p')\n",
    "\n",
    "content = []\n",
    "for i in range (0, len(contentElement)):\n",
    "  content.append(contentElement[i].text)\n",
    "print(content)\n"
   ]
  },
  {
   "cell_type": "code",
   "execution_count": 32,
   "metadata": {},
   "outputs": [],
   "source": [
    "df = export(site_title.text, '\\n'.join(content), 'freemalaysiatoday.txt', df)"
   ]
  },
  {
   "cell_type": "markdown",
   "metadata": {},
   "source": [
    "<h2>Article # 8</h2>\n",
    "Title : TIPPING POINT FOR MALAYSIA AND TELCO INDUSTRY (TELCO)<br>\n",
    "Link : <a>https://www.thestar.com.my/news/nation/2023/01/17/tipping-point-for-malaysia-and-telco-industry</a>\n",
    "\n"
   ]
  },
  {
   "cell_type": "code",
   "execution_count": 33,
   "metadata": {},
   "outputs": [],
   "source": [
    "path = 'https://www.thestar.com.my/news/nation/2023/01/17/tipping-point-for-malaysia-and-telco-industry'\n",
    "driver.get(path)"
   ]
  },
  {
   "cell_type": "code",
   "execution_count": 34,
   "metadata": {},
   "outputs": [
    {
     "name": "stdout",
     "output_type": "stream",
     "text": [
      "TIPPING POINT FOR MALAYSIA AND TELCO INDUSTRY\n"
     ]
    }
   ],
   "source": [
    "site_title = driver.find_element('xpath', '//div[@class=\"headline story-pg\"]/h1')\n",
    "print(site_title.text)"
   ]
  },
  {
   "cell_type": "code",
   "execution_count": 35,
   "metadata": {},
   "outputs": [
    {
     "name": "stdout",
     "output_type": "stream",
     "text": [
      "['BEYOND the promise of 5G bringing faster home broadband speeds and mobile Internet connections, it’s the 5th gen technology’s low network latency and power consumption that will open up fresh opportunities for both businesses and consumers.', 'Clocking in with speeds almost 200 times faster than the previous generation in some cases, 5G has given us a glimpse into verything from instant high-definition movie streaming to cloud-enabled gaming, now that 5G is commercially available in the country.', '', 'At the same time, businesses and entrepreneurs can gain more value from the Internet of Things (IoT) applications, artificial intelligence (AI), advanced robotics and a myriad of other applications.', 'Looking beyond the commercial hype, 5G is a transformative accelerator and enabler. Greater potential exists in industrial-use cases, with applications in a wide range of industry verticals – including manufacturing, oil and gas, healthcare, education, utilities, media and broadcast, and government services amongst others.', 'On a national level, there will be significant gains from 5G according to a new Analysys Mason and Ericsson study of 5G rollout covering 15 countries, including Malaysia. The study highlights that “with regulatory and government support, all 15 countries could benefit from GDP growth between 0.3% and 0.46% through 2035, with an estimated three-to-seven-fold cost-to-benefit ratio.”', 'Furthermore, the study notes that using 5G as an enabler of industrial use cases will help all sectors reduce greenhouse gas emissions by enhancing air quality monitoring, improving utilisation of time and materials, reducing unnecessary travel and transport congestion, reducing waste, and improving energy use.', 'Why 5G is a big deal', 'In the near future, 5G will enable and enhance different industries.', 'The healthcare vertical stands to benefit from 5G-enabled telesurgery, telemedicine and remote medical learning and can improve a surgeon’s experience with real-time haptics and tactility.', 'Use cases include real-time remote monitoring of manufacturing assets, advances in healthcare, more efficient tracking of livestock, heightened production in agriculture and much more.', 'Aside from speed, 5G’s hyper connectivity equates to significant connectivity gains with bandwidth offering virtually no lag. This has the potential to transform the ways in which industrial solutions are delivered.', 'On the other hand, remote robotics and assistive robots in manufacturing, healthcare, or even retail and autonomous drones in the service and logistics industries, are just some examples of more sophisticated uses in the medium to long term.', 'Organisations will be able to use this enhanced generation of networks to harness data at the edge and take their operations and business agility to the next level.', 'As 5G is expected to accelerate transformation at many levels, companies – like Telekom Malaysia (TM) – are capitalising on the expanded capabilities unlocked by 5G.', 'TM’s enterprise and government sector business arm, TM One, has built up an extensive track record of 5G use cases, with more to come.', 'On a broader level, TM One is looking into speeding up innovation in verticals such as smart cities, healthcare, education, manufacturing, logistics and transportation, oil and gas, and many more, by working collaboratively with leading technology and smart solutions partners in an innovation ecosystem.', 'This initiative will see further acceleration through the recently released TM One 5G Sphere, which is part of TM One’s role to bring together leading partners, and spearhead the co-creation of many more industry use cases from ideation to realisation.', 'The successful implementation of these use cases will be counterbalanced by managing issues such as cybersecurity, device and equipment integrity and IoT networks comprising multiple interconnected devices.', 'Real-life, real-time solutions', 'Today, it may be a little difficult for the average consumer to envisage the full range of possibilities that 5G will bring – beyond just the speed and reliability of their Internet connection.', 'This points to a need for telcos to centre their innovative solutions and offerings around the “human experience”.', 'As the enabler of a digital Malaysia, TM is evolving towards becoming a human-centred tech company, providing digital technologies focused on improving the quality of life for all Malaysians.', 'With its track record in next-generation digital services and smart solutions across multiple verticals, TM One has a unique role in continuing to unlock benefits and opportunities for the country’s public and enterprise sectors.', 'TM One has already chalked up experiences in implementing 5G-enabled solutions such as smart safety and security via smart surveillance at Putrajaya, Ipoh and Kulai (Johor).', 'These new solutions are able to both monitor public areas through high-definition videos, and also deliver analytics to help provide predictive insights. This empowers a city or town to rapidly rectify or trigger incident reports in real-time.', 'Another vertical that is expected to immediately gain from 5G is healthcare. Every second counts when it comes to healthcare and life-or-death situations.', 'Real-time data enabled by 5G will help first responders like paramedics monitor a patient’s health condition inside an ambulance and send real-time info to the respective hospital, saving precious seconds.', '5G is already supporting effective real-time medical consultations similar to the experience a patient would receive when speaking with a physician face-to-face.', 'In cases where a physical setting may not be possible, 5G is helping to remotely monitor patients through wearable devices that effectively collect and transmit medical information to the medical team on-call.', 'In other use cases, robot-assisted telesurgery is gaining traction. These precise and small-scale movements require tech like 5G to ensure that the connectivity between the robot and doctor remains as seamless, smooth and responsive as possible.', 'In tandem with this, TM One is well-equipped to revolutionise industries and reshape businesses and cities to bring new possibilities to Malaysians.', 'TM One has multiple advantages compared to other providers with its extensive portfolio comprising:', '> Smart solutions', '> Data centres and cloud services', '> Cybersecurity', '> Business services', '> Connectivity', 'TM One is already working with several organisations to deploy smart solutions powered by 5G.', 'All of this is powered by TM One’s human-centred technology approach, serving as an experienced dependable and highly skilled partner to Malaysia’s business and government sectors.', 'For more information, scan the QR code or visit https://www.tmone.link/5g_thestar', '', '', '']\n"
     ]
    }
   ],
   "source": [
    "contentElement = driver.find_elements('xpath', '//div[@id=\"story-body\"]/p')\n",
    "content = []\n",
    "\n",
    "for i in range (0, len(contentElement)):\n",
    "  content.append(contentElement[i].text)\n",
    "print(content)"
   ]
  },
  {
   "cell_type": "code",
   "execution_count": 36,
   "metadata": {},
   "outputs": [],
   "source": [
    "df = export(site_title.text, '\\n'.join(content), 'thestar.txt', df)"
   ]
  },
  {
   "cell_type": "markdown",
   "metadata": {},
   "source": [
    "<h2>Article # 9</h2>\n",
    "Title : Tech sector outlook remains uncertain<br>\n",
    "<a href=\"https://www.thestar.com.my/business/business-news/2022/10/25/tech-sector-outlook-remains-uncertain\"> Link</a>\n"
   ]
  },
  {
   "cell_type": "code",
   "execution_count": 37,
   "metadata": {},
   "outputs": [],
   "source": [
    "path = 'https://www.thestar.com.my/business/business-news/2022/10/25/tech-sector-outlook-remains-uncertain'\n",
    "driver.get(path)"
   ]
  },
  {
   "cell_type": "code",
   "execution_count": 38,
   "metadata": {},
   "outputs": [
    {
     "name": "stdout",
     "output_type": "stream",
     "text": [
      "Tech sector outlook remains uncertain\n"
     ]
    }
   ],
   "source": [
    "site_title = driver.find_element('xpath', '//div[@class=\"headline story-pg\"]/h1')\n",
    "print(site_title.text)"
   ]
  },
  {
   "cell_type": "code",
   "execution_count": 39,
   "metadata": {},
   "outputs": [
    {
     "name": "stdout",
     "output_type": "stream",
     "text": [
      "['CLICK TO ENLARGE', 'KUALA LUMPUR: A significant rebound in Malaysian tech share prices is unlikely to occur in near term such as seen in glove counters recently, according to MIDF Research.', 'This is due to numerous short-term headwinds such as the rising interest-rate environment, inflation, geopolitical tensions and the recent US sanction on chip export to China, it said.', 'However, the research unit told StarBiz in a emailed response that despite the tech sell-off this year, it believes the sector remains attractive in the mid to long-term horizon.', 'This is due to the underlying demand for technology products and services such as 5G, Internet of Things, artificial intelligence, personal computers, cloud computing and electric vehicles stay solid in the digitalisation era, MIDF Research said.', '“Also, the strong US dollar could cushion the current downward pressure on our tech stocks, whereby they are mostly the net beneficiaries.', '“Valuation wise, tech companies under our radar such as Inari Amertron Bhd, Unisem (M) Bhd, Globetronics Technology Bhd and My EG Services Bhd, which at current price-earnings (PEs) of 22.2 times, 17.3 times, 12.7 times and 18.4 times, respectively, are reasonably cheap and attractive compared to the industry average, which is trading at PE valuation of 28.1 times,” it said.', 'The research unit also said any rally in Malaysian tech stocks as a result of cross-market spillover effect from Wall Street would be short term.', '“We maintain our opinion that the outlook of tech stocks remain uncertain in near term,” said MIDF Research.', 'Tradeview Capital chief investment officer Nixon Wong noted that the fall in share prices of tech stocks in Malaysia was driven by factors such as growth sector de-rating led by the US interest rate hike cycle, rhetoric on global recession, United States-China trade war with more trade restrictions, weaker forward capital expenditure guidance and cost-cutting measures from major tech companies in the United States and Europe, as well as continuous Covid-19 lockdowns in China.', '“These factors will have a direct and indirect impact on local tech companies’ earnings, going forward,” said Wong.', 'Year-to-date, tech-related stocks on Bursa Malaysia such as Unisem, Malaysian Pacific Industries Bhd, Inari Amertron, Pentamaster Corp Bhd, MI Technovation Bhd and Aemulus Holdings Bhd have seen steep declines of 30% to 70%, while the technology index has dropped close to 40%.', 'The second week of October saw a sell-off in chip-related stocks in Japan, South Korea and Taiwan after further moves by the United States to curb China’s access to semiconductor technology.', 'Malaysian semiconductor-related stocks also saw accelerated selling pressure.', 'Fund managers contacted by StarBiz opined that the sell-off in tech-related stocks on Bursa Malaysia this year may have been overdone and a rebound might be on the cards soon.', 'Wong said the sector may have been oversold and most of the negatives have been priced in. Meanwhile, Rakuten Trade head of equity sales Vincent Lau believed it is a matter of time before sentiment turns positive as stock PEs have dropped to more realistic levels.']\n"
     ]
    }
   ],
   "source": [
    "contentElement = driver.find_elements('xpath', '//div[@id=\"story-body\"]/p')\n",
    "content = []\n",
    "\n",
    "for i in range (0, len(contentElement)):\n",
    "  content.append(contentElement[i].text)\n",
    "print(content)"
   ]
  },
  {
   "cell_type": "code",
   "execution_count": 40,
   "metadata": {},
   "outputs": [],
   "source": [
    "df = export(site_title.text, '\\n'.join(content), 'thestar.txt', df)"
   ]
  },
  {
   "cell_type": "code",
   "execution_count": 41,
   "metadata": {},
   "outputs": [],
   "source": [
    "export_to_csv(df)"
   ]
  }
 ],
 "metadata": {
  "kernelspec": {
   "display_name": "DACenv",
   "language": "python",
   "name": "python3"
  },
  "language_info": {
   "codemirror_mode": {
    "name": "ipython",
    "version": 3
   },
   "file_extension": ".py",
   "mimetype": "text/x-python",
   "name": "python",
   "nbconvert_exporter": "python",
   "pygments_lexer": "ipython3",
   "version": "3.11.5"
  }
 },
 "nbformat": 4,
 "nbformat_minor": 2
}
