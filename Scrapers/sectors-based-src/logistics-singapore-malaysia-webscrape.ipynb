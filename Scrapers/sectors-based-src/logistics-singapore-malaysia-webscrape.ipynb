{
 "cells": [
  {
   "cell_type": "code",
   "execution_count": 2,
   "metadata": {},
   "outputs": [],
   "source": [
    "from selenium import webdriver\n",
    "from selenium.webdriver.common.keys import Keys\n",
    "from selenium.webdriver.common.by import By\n",
    "import pandas as pd"
   ]
  },
  {
   "cell_type": "code",
   "execution_count": 4,
   "metadata": {},
   "outputs": [],
   "source": [
    "def export(title:str, content:str, fileName:str, DataFrame:pd.DataFrame, country:str): \n",
    "  path = f'../sectors-based-txt/technology-malaysia/{fileName}'\n",
    "  siteName = fileName.replace('.txt', '')\n",
    "  siteName = ''.join([i for i in siteName if not i.isdigit()])\n",
    "  \n",
    "  with open(path, 'w') as f:\n",
    "    f.write(title + '\\n\\n')\n",
    "    f.write(content)\n",
    "    \n",
    "  new_data = pd.DataFrame({\n",
    "    'Title': [title],\n",
    "    'Content': [content],\n",
    "    'Site-Name': [siteName],\n",
    "    'Sector' : 'Logistics',\n",
    "    'Country' : [country]\n",
    "  })\n",
    "  \n",
    "\n",
    "  DataFrame = pd.concat([DataFrame, new_data], ignore_index=True)\n",
    " \n",
    "  return DataFrame\n",
    "\n",
    "def export_to_csv(df:pd.DataFrame):\n",
    "  df[\"Sector\"] = \"Technology\"\n",
    "  df.to_csv('../../csvs/technology-malaysia.csv', index=False)  "
   ]
  },
  {
   "cell_type": "code",
   "execution_count": 3,
   "metadata": {},
   "outputs": [],
   "source": [
    "df = pd.DataFrame(columns=['Title', 'Content', 'Site-Name', 'Sector', 'Country'])"
   ]
  },
  {
   "cell_type": "code",
   "execution_count": 5,
   "metadata": {},
   "outputs": [],
   "source": [
    "options = webdriver.ChromeOptions()\n",
    "\n",
    "user_agent = 'Mozilla/5.0 (Windows NT 10.0; Win64; x64) AppleWebKit/537.36 (KHTML, like Gecko) Chrome/83.0.4103.116 Safari/537.36'\n",
    "options.add_argument('--headless')\n",
    "options.add_argument(f'user-agent={user_agent}')\n",
    "\n",
    "driver = webdriver.Chrome(options=options)\n"
   ]
  },
  {
   "cell_type": "markdown",
   "metadata": {},
   "source": [
    "<h2>Article # 0</h2>\n",
    "\n"
   ]
  },
  {
   "cell_type": "code",
   "execution_count": 6,
   "metadata": {},
   "outputs": [],
   "source": [
    "link = 'https://www.indsights.sg/industry-perspective/singapore_logistics_2022/#:~:text=Focusing%20on%20strategies%20that%20benefit,hub%20for%20years%20to%20come'\n",
    "driver.get(link)"
   ]
  },
  {
   "cell_type": "code",
   "execution_count": null,
   "metadata": {},
   "outputs": [],
   "source": [
    "site_title = driver.find_element('xpath', '//div[@class=\"text-center\"]/h1')\n"
   ]
  }
 ],
 "metadata": {
  "kernelspec": {
   "display_name": "UOB-Project",
   "language": "python",
   "name": "python3"
  },
  "language_info": {
   "codemirror_mode": {
    "name": "ipython",
    "version": 3
   },
   "file_extension": ".py",
   "mimetype": "text/x-python",
   "name": "python",
   "nbconvert_exporter": "python",
   "pygments_lexer": "ipython3",
   "version": "3.12.2"
  }
 },
 "nbformat": 4,
 "nbformat_minor": 2
}
