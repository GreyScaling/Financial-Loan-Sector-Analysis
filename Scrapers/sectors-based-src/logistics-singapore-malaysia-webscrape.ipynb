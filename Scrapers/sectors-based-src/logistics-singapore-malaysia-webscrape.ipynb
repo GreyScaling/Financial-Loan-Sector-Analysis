{
 "cells": [
  {
   "cell_type": "code",
   "execution_count": 2,
   "metadata": {},
   "outputs": [],
   "source": [
    "from selenium import webdriver\n",
    "from selenium.webdriver.common.keys import Keys\n",
    "from selenium.webdriver.common.by import By\n",
    "import pandas as pd"
   ]
  },
  {
   "cell_type": "code",
   "execution_count": 67,
   "metadata": {},
   "outputs": [],
   "source": [
    "def export(title:str, content:str, fileName:str, DataFrame:pd.DataFrame, country:str): \n",
    "  path = f'../sectors-based-txt/technology-malaysia/{fileName}'\n",
    "  siteName = fileName.replace('.txt', '')\n",
    "  siteName = ''.join([i for i in siteName if not i.isdigit()])\n",
    "  \n",
    "  with open(path, 'w') as f:\n",
    "    f.write(title + '\\n\\n')\n",
    "    f.write(content)\n",
    "    \n",
    "  new_data = pd.DataFrame({\n",
    "    'Title': [title],\n",
    "    'Content': [content],\n",
    "    'Site-Name': [siteName],\n",
    "    'Sector' : 'Logistics',\n",
    "    'Country' : [country]\n",
    "  })\n",
    "  \n",
    "\n",
    "  DataFrame = pd.concat([DataFrame, new_data], ignore_index=True)\n",
    " \n",
    "  return DataFrame\n",
    "\n",
    "def export_to_csv(df:pd.DataFrame):\n",
    "  df[\"Sector\"] = \"Technology\"\n",
    "  df.to_csv('../../csvs/logistics-singapore.csv', index=False)  "
   ]
  },
  {
   "cell_type": "code",
   "execution_count": 3,
   "metadata": {},
   "outputs": [],
   "source": [
    "df = pd.DataFrame(columns=['Title', 'Content', 'Site-Name', 'Sector', 'Country'])"
   ]
  },
  {
   "cell_type": "code",
   "execution_count": 5,
   "metadata": {},
   "outputs": [],
   "source": [
    "options = webdriver.ChromeOptions()\n",
    "\n",
    "user_agent = 'Mozilla/5.0 (Windows NT 10.0; Win64; x64) AppleWebKit/537.36 (KHTML, like Gecko) Chrome/83.0.4103.116 Safari/537.36'\n",
    "options.add_argument('--headless')\n",
    "options.add_argument(f'user-agent={user_agent}')\n",
    "\n",
    "driver = webdriver.Chrome(options=options)\n"
   ]
  },
  {
   "cell_type": "markdown",
   "metadata": {},
   "source": [
    "<h2>Article # 1</h2>\n",
    "\n"
   ]
  },
  {
   "cell_type": "code",
   "execution_count": 6,
   "metadata": {},
   "outputs": [],
   "source": [
    "link = 'https://www.indsights.sg/industry-perspective/singapore_logistics_2022/#:~:text=Focusing%20on%20strategies%20that%20benefit,hub%20for%20years%20to%20come'\n",
    "driver.get(link)"
   ]
  },
  {
   "cell_type": "code",
   "execution_count": 7,
   "metadata": {},
   "outputs": [
    {
     "name": "stdout",
     "output_type": "stream",
     "text": [
      "Singapore’s logistics industry is changing to build long-term resilience\n"
     ]
    }
   ],
   "source": [
    "site_title = driver.find_element('xpath', '//div[@class=\"text-center\"]/h1')\n",
    "print(site_title.text)\n"
   ]
  },
  {
   "cell_type": "code",
   "execution_count": 9,
   "metadata": {},
   "outputs": [
    {
     "name": "stdout",
     "output_type": "stream",
     "text": [
      "Singapore’s logistics industry confronts unprecedented challenges\n"
     ]
    }
   ],
   "source": [
    "content = []\n",
    "\n",
    "heading = driver.find_element('xpath', '//p[@style=\"text-align: center;\"]/strong/em')\n",
    "content.append(heading.text)\n",
    "\n",
    "h2 = driver.find_element('xpath', '//div[@class=\"elementor-widget-container\"]/h2')\n",
    "content.append(h2.text)"
   ]
  },
  {
   "cell_type": "code",
   "execution_count": 10,
   "metadata": {},
   "outputs": [
    {
     "name": "stdout",
     "output_type": "stream",
     "text": [
      "['Singapore’s logistics industry is facing significant change led by heterogeneous forces due to the interconnectedness of global supply chains and vast number of players. Focusing on strategies that benefit the long-term such as digitalisation and workplace transformation will propel the logistics industry into future growth and secure Singapore’s competitive advantage as world-class logistics hub for years to come.', ' ', 'As a high frequency supply chain node linked to more than 600 ports worldwide, Singapore’s logistics industry has been significantly tested during the past two pandemic years (years 2020 and 2021). Border closures and strict regulations that varied in time and severity across countries caused significant disruptions in trade flows. In addition, ongoing geopolitical tensions and rising fuel costs created more stressors on the supply chain process. On the home front, safe management protocols in Singapore led to a surge in supply chain demands which logistics operators struggled to fulfil due to manpower shortage – an issue that was already present pre-pandemic but now exacerbated by cross-border regulations.', 'Findings from IndSights Research’s quarterly Business Sentiment Survey (BSS) showed that Singapore logistics companies’ sentiments on their business situation over the last two years have fluctuated in tandem with changes in pandemic and macroeconomic conditions. Still, overall, the logistics industry’s perception has been less negative compared to most other sectors.', '', 'The logistics industry also grapples with enduring business pressures to increase efficiencies in order to meet tight source-to-deliver cycles and maintain dock-to-stock process accuracies, all while managing operational resources. Still, local logistics companies appear to have fared better than most. Our BSS data shows that the logistics industry experienced more positive changes in revenues overall compared to their industry peers throughout the pandemic years. Revenue dips (possibly in reaction to sudden COVID-19 restrictions) rebounded in the subsequent quarters as logistics operators likely managed to adapt to the unabating demands for supply chain services.', ' ', 'The pandemic has accelerated the need for digitalisation across the business landscape. As the logistics industry provides key support to a wide range of sectors from infrastructure and construction, healthcare and pharmaceutical, to retail and food services, the rate of digital disruption to traditional supply chain processes will intensify alongside other sectors’ progress.  Further, digitalisation has also facilitated new entrants into the sectors, hence creating increased competition. For example, digital adoption in the retail and food sector spurred the rise of e-commerce and in turn, created a needs-gap in the last-mile delivery market. An example of new entrants to the last-mile delivery market, is Grab, which saw the opportunity to launch GrabExpress, offering agile pricing for on-demand, same-day parcel and courier delivery services for home-based businesses and online retailers.', 'Industry experts have long recommended that logistics companies adopt technological solutions to strip out inefficiencies throughout the supply chain functions to lift productivity. Findings from the BSS indicated that Singapore logistics players recognised the benefits of embracing new technologies as more are looking to invest in digitalisation in 2022 compared to 2021, and more so than other sectors.', ' ']\n"
     ]
    }
   ],
   "source": [
    "content_elements = driver.find_elements('xpath', '//div[@class=\"elementor-widget-container\"]/p')\n",
    "for element in content_elements:\n",
    "  content.append(element.text)\n",
    "  \n"
   ]
  },
  {
   "cell_type": "code",
   "execution_count": 11,
   "metadata": {},
   "outputs": [],
   "source": [
    "df = export(site_title.text, ' '.join(content), 'indsights.txt', df, 'Singapore')"
   ]
  },
  {
   "cell_type": "markdown",
   "metadata": {},
   "source": [
    "<h2>Article # 2</h2>"
   ]
  },
  {
   "cell_type": "code",
   "execution_count": 12,
   "metadata": {},
   "outputs": [],
   "source": [
    "path = 'https://www.logisticsbusiness.com/transport-distribution/air-cargo/fedex-logistics-moves-into-new-singapore-office/'\n",
    "driver.get(path)"
   ]
  },
  {
   "cell_type": "code",
   "execution_count": 13,
   "metadata": {},
   "outputs": [
    {
     "name": "stdout",
     "output_type": "stream",
     "text": [
      "FedEx Logistics Moves into new Singapore Office\n"
     ]
    }
   ],
   "source": [
    "site_title = driver.find_element('xpath', '//h1[@class=\"entry-title single-title red-title\"]')\n",
    "print(site_title.text)"
   ]
  },
  {
   "cell_type": "code",
   "execution_count": 14,
   "metadata": {},
   "outputs": [
    {
     "name": "stdout",
     "output_type": "stream",
     "text": [
      "['FedEx Logistics, a subsidiary of FedEx Corp. (NYSE: FDX) and provider of integrated solutions that facilitate global trade, announced the move of its office in Singapore to the city-state’s Changi Business Park, in the latest expansion of its Asia, Middle East, and Africa (AMEA) worldwide network.', '“This move enables us to better serve our customers not just in the AMEA region but around the world,” said Patrick Moebel, President of FedEx Trade Networks. “Our local, regional, and global customers who trade with Singapore benefit from our global reach and the many integrated services and solutions offered by FedEx Logistics. We are continuing to deliver for our customers by helping them navigate global commerce with the guidance of local expertise.”', 'The FedEx Logistics Singapore office expansion further elevates the company’s overall global portfolio, providing one-source, end-to-end logistics solutions and delivering best-in-class services. FedEx Logistics Singapore operates a robust suite of supply chain services including air freight, ocean freight, customs brokerage, air and ocean consolidation service, multimodal transportation services of sea/air, air/sea and truck/air, and cross-dock services. The company also operates as the air and ocean gateway with its road freight network for Southeast Asian countries, including Malaysia, Thailand, and Singapore.', 'The enhanced office demonstrates the company’s role in expanding global trade, building supply chain solutions, and facilitating the transportation of local products and services to customers around the world. FedEx Logistics AMEA region works within the global FedEx network to provide customers with logistics solutions to more than 220 countries and territories.', 'FedEx Logistics plays a key role within the FedEx portfolio with its comprehensive suite of integrated logistics solutions. The company provides air and ocean freight forwarding, supply chain solutions, customs brokerage, and trade management tools and data from a single trusted source.']\n"
     ]
    }
   ],
   "source": [
    "content_elements = driver.find_elements('xpath', '//section[@class=\"entry-content margin-top-15\"]/p')\n",
    "content = []\n",
    "\n",
    "for element in content_elements:\n",
    "  content.append(element.text)\n"
   ]
  },
  {
   "cell_type": "code",
   "execution_count": 15,
   "metadata": {},
   "outputs": [],
   "source": [
    "df = export(site_title.text, ' '.join(content), 'logisticsbusiness.txt', df, 'Singapore')"
   ]
  },
  {
   "cell_type": "markdown",
   "metadata": {},
   "source": [
    "<h2>Article # 3 (Need to fix) <h2>"
   ]
  },
  {
   "cell_type": "markdown",
   "metadata": {},
   "source": []
  },
  {
   "cell_type": "code",
   "execution_count": 34,
   "metadata": {},
   "outputs": [],
   "source": [
    "path = 'https://www.linkedin.com/pulse/singapore-logistics-market-currently-valued-25-bn-sgd-ashish-chauhan/'\n",
    "driver.get(path)"
   ]
  },
  {
   "cell_type": "code",
   "execution_count": 35,
   "metadata": {},
   "outputs": [
    {
     "name": "stdout",
     "output_type": "stream",
     "text": [
      "Singapore Logistics Market is currently valued at 25 Bn SGD in 2022. Will Singapore continue this growth trajectory in future? : Ken Research\n"
     ]
    }
   ],
   "source": [
    "site_title = driver.find_element('xpath', '/html/body/main/section[1]/div/article/header/section/h1')\n",
    "print(site_title.text)"
   ]
  },
  {
   "cell_type": "code",
   "execution_count": 39,
   "metadata": {},
   "outputs": [],
   "source": [
    "content_elements = driver.find_elements('xpath', '//div[@class=\"article-main__content\"]/p')"
   ]
  },
  {
   "cell_type": "code",
   "execution_count": 48,
   "metadata": {},
   "outputs": [
    {
     "name": "stdout",
     "output_type": "stream",
     "text": [
      "\n",
      "\n",
      "\n",
      "\n",
      "\n",
      "\n",
      "\n",
      "\n",
      "\n",
      "\n",
      "\n",
      "\n",
      "\n",
      "\n",
      "\n",
      "\n",
      "\n",
      "\n",
      "\n",
      "\n",
      "\n",
      "\n",
      "\n",
      "\n",
      "\n",
      "\n",
      "\n",
      "\n",
      "\n",
      "\n",
      "\n",
      "\n",
      "\n",
      "\n",
      "\n",
      "\n",
      "\n",
      "\n",
      "\n",
      "\n",
      "\n"
     ]
    }
   ],
   "source": [
    "article_main_content_blocks = driver.find_elements(By.CSS_SELECTOR, 'div.article-main__content p')\n",
    "\n",
    "# within each `article-main__content` block, find all `span` elements with the `font-[700]` class\n",
    "for block in article_main_content_blocks:\n",
    "    spans = block.find_elements('xpath', './/span')\n",
    "    for span in spans:\n",
    "        print(span.text)  "
   ]
  },
  {
   "cell_type": "code",
   "execution_count": 43,
   "metadata": {},
   "outputs": [
    {
     "name": "stdout",
     "output_type": "stream",
     "text": [
      "[]\n"
     ]
    }
   ],
   "source": [
    "print(content)"
   ]
  },
  {
   "cell_type": "markdown",
   "metadata": {},
   "source": [
    "<h2>Article # 4</h2>"
   ]
  },
  {
   "cell_type": "code",
   "execution_count": 49,
   "metadata": {},
   "outputs": [],
   "source": [
    "path = 'https://www.logisticsmanager.com/bh-worldwide-delivers-first-engine-shipment-for-singapore-airlines/'\n",
    "driver.get(path)"
   ]
  },
  {
   "cell_type": "code",
   "execution_count": 51,
   "metadata": {},
   "outputs": [
    {
     "name": "stdout",
     "output_type": "stream",
     "text": [
      "B&H Worldwide delivers first engine shipment for Singapore Airlines\n"
     ]
    }
   ],
   "source": [
    "site_title = driver.find_element('xpath', '//h1[@class=\"is-title post-title\"]')\n",
    "print(site_title.text)"
   ]
  },
  {
   "cell_type": "code",
   "execution_count": 53,
   "metadata": {},
   "outputs": [],
   "source": [
    "content = []\n",
    "header = driver.find_element('xpath', '/html/body/div[2]/div[6]/div/div/div[3]/article/div/div/p[1]/strong')\n",
    "content.append(header.text)"
   ]
  },
  {
   "cell_type": "code",
   "execution_count": 55,
   "metadata": {},
   "outputs": [
    {
     "name": "stdout",
     "output_type": "stream",
     "text": [
      "['Aerospace logistics company B&H Worldwide has completed its first engine transportation as well as storage on behalf of Singapore Airlines.', 'Aerospace logistics company B&H Worldwide has completed its first engine transportation as well as storage on behalf of Singapore Airlines.', 'B&H was recently commissioned by Singapore Airlines, to transport a GE90 engine from Paris Charles de Gaulle Airport to Singapore.', 'The company spent three days to complete the 10,700 kg engine delivery, and it is now stored within a climate-controlled environment of the B&H warehouse facility at Singapore Changi Airport. Mounted on a specialist engine stand, the engine will be stored until it is used, at a constant temperature of 23-24°C and at a humidity level of 64-65%.', 'David Wong, Station Manager of B&H Worldwide Singapore said: “B&H Worldwide has a strong track record in aircraft engine transport and storage for many airlines around the world. Combined with our company’s warehousing and FSL facilities located in strategic aviation hubs we offer a strong value proposition.”', 'Aerospace logistics company B&H Worldwide has completed its first engine transportation as well as storage on behalf of Singapore Airlines.', 'B&H was recently commissioned by Singapore Airlines, to transport a GE90 engine from Paris Charles de Gaulle Airport to Singapore.', 'The company spent three days to complete the 10,700 kg engine delivery, and it is now stored within a climate-controlled environment of the B&H warehouse facility at Singapore Changi Airport. Mounted on a specialist engine stand, the engine will be stored until it is used, at a constant temperature of 23-24°C and at a humidity level of 64-65%.', 'David Wong, Station Manager of B&H Worldwide Singapore said: “B&H Worldwide has a strong track record in aircraft engine transport and storage for many airlines around the world. Combined with our company’s warehousing and FSL facilities located in strategic aviation hubs we offer a strong value proposition.”']\n"
     ]
    }
   ],
   "source": [
    "content_elements = driver.find_elements('xpath', '/html/body/div[2]/div[6]/div/div/div[3]/article/div/div/p')\n",
    "\n",
    "for element in content_elements:\n",
    "  content.append(element.text)\n",
    "\n",
    "print(content)"
   ]
  },
  {
   "cell_type": "code",
   "execution_count": 56,
   "metadata": {},
   "outputs": [],
   "source": [
    "df = export(site_title.text, ' '.join(content), 'logisticsmanager.txt', df, 'Singapore')"
   ]
  },
  {
   "cell_type": "markdown",
   "metadata": {},
   "source": [
    "<h2>Article # 5</h2>"
   ]
  },
  {
   "cell_type": "code",
   "execution_count": 60,
   "metadata": {},
   "outputs": [],
   "source": [
    "link = 'https://tla.edu.sg/preparing-future-logistics-singapore-way/'\n",
    "driver.get(link)"
   ]
  },
  {
   "cell_type": "code",
   "execution_count": 62,
   "metadata": {},
   "outputs": [
    {
     "name": "stdout",
     "output_type": "stream",
     "text": [
      "Preparing for the future of logistics – the Singapore way\n"
     ]
    }
   ],
   "source": [
    "site_title = driver.find_element('xpath', '//h1[@class=\"article-h1\"]')\n",
    "print(site_title.text)"
   ]
  },
  {
   "cell_type": "code",
   "execution_count": 64,
   "metadata": {},
   "outputs": [],
   "source": [
    "content = []\n",
    "\n",
    "content_elements = driver.find_elements('xpath', '//div[@class=\"wpb_content_element vc_align_left\"]/p')\n",
    "\n",
    "for element in content_elements:\n",
    "  content.append(element.text)\n",
    "\n",
    "content = content[2:]"
   ]
  },
  {
   "cell_type": "code",
   "execution_count": 65,
   "metadata": {},
   "outputs": [],
   "source": [
    "df = export(site_title.text, ' '.join(content), 'tla.txt', df, 'Singapore')"
   ]
  },
  {
   "cell_type": "markdown",
   "metadata": {},
   "source": [
    "<h2>Article 6<h2>"
   ]
  },
  {
   "cell_type": "code",
   "execution_count": 66,
   "metadata": {},
   "outputs": [],
   "source": [
    "path = 'https://www.imda.gov.sg/-/media/imda/files/programme/smes-go-digital/industry-digital-plans/logistics-idp/logistics-idp.pdf'\n",
    "driver.get(path)"
   ]
  },
  {
   "cell_type": "code",
   "execution_count": 68,
   "metadata": {},
   "outputs": [
    {
     "data": {
      "text/html": [
       "<div>\n",
       "<style scoped>\n",
       "    .dataframe tbody tr th:only-of-type {\n",
       "        vertical-align: middle;\n",
       "    }\n",
       "\n",
       "    .dataframe tbody tr th {\n",
       "        vertical-align: top;\n",
       "    }\n",
       "\n",
       "    .dataframe thead th {\n",
       "        text-align: right;\n",
       "    }\n",
       "</style>\n",
       "<table border=\"1\" class=\"dataframe\">\n",
       "  <thead>\n",
       "    <tr style=\"text-align: right;\">\n",
       "      <th></th>\n",
       "      <th>Title</th>\n",
       "      <th>Content</th>\n",
       "      <th>Site-Name</th>\n",
       "      <th>Sector</th>\n",
       "      <th>Country</th>\n",
       "    </tr>\n",
       "  </thead>\n",
       "  <tbody>\n",
       "    <tr>\n",
       "      <th>0</th>\n",
       "      <td>Singapore’s logistics industry is changing to ...</td>\n",
       "      <td>Singapore’s logistics industry is facing signi...</td>\n",
       "      <td>indsights</td>\n",
       "      <td>Logistics</td>\n",
       "      <td>Singapore</td>\n",
       "    </tr>\n",
       "    <tr>\n",
       "      <th>1</th>\n",
       "      <td>FedEx Logistics Moves into new Singapore Office</td>\n",
       "      <td>FedEx Logistics, a subsidiary of FedEx Corp. (...</td>\n",
       "      <td>logisticsbusiness</td>\n",
       "      <td>Logistics</td>\n",
       "      <td>Singapore</td>\n",
       "    </tr>\n",
       "    <tr>\n",
       "      <th>2</th>\n",
       "      <td>B&amp;H Worldwide delivers first engine shipment f...</td>\n",
       "      <td>Aerospace logistics company B&amp;H Worldwide has ...</td>\n",
       "      <td>logisticsmanager</td>\n",
       "      <td>Logistics</td>\n",
       "      <td>Singapore</td>\n",
       "    </tr>\n",
       "    <tr>\n",
       "      <th>3</th>\n",
       "      <td>Preparing for the future of logistics – the Si...</td>\n",
       "      <td>The government of Singapore recently outlined ...</td>\n",
       "      <td>tla</td>\n",
       "      <td>Logistics</td>\n",
       "      <td>Singapore</td>\n",
       "    </tr>\n",
       "  </tbody>\n",
       "</table>\n",
       "</div>"
      ],
      "text/plain": [
       "                                               Title  \\\n",
       "0  Singapore’s logistics industry is changing to ...   \n",
       "1    FedEx Logistics Moves into new Singapore Office   \n",
       "2  B&H Worldwide delivers first engine shipment f...   \n",
       "3  Preparing for the future of logistics – the Si...   \n",
       "\n",
       "                                             Content          Site-Name  \\\n",
       "0  Singapore’s logistics industry is facing signi...          indsights   \n",
       "1  FedEx Logistics, a subsidiary of FedEx Corp. (...  logisticsbusiness   \n",
       "2  Aerospace logistics company B&H Worldwide has ...   logisticsmanager   \n",
       "3  The government of Singapore recently outlined ...                tla   \n",
       "\n",
       "      Sector    Country  \n",
       "0  Logistics  Singapore  \n",
       "1  Logistics  Singapore  \n",
       "2  Logistics  Singapore  \n",
       "3  Logistics  Singapore  "
      ]
     },
     "execution_count": 68,
     "metadata": {},
     "output_type": "execute_result"
    }
   ],
   "source": [
    "df"
   ]
  },
  {
   "cell_type": "code",
   "execution_count": 69,
   "metadata": {},
   "outputs": [],
   "source": [
    "export_to_csv(df)"
   ]
  },
  {
   "cell_type": "code",
   "execution_count": null,
   "metadata": {},
   "outputs": [],
   "source": []
  }
 ],
 "metadata": {
  "kernelspec": {
   "display_name": "UOB-Project",
   "language": "python",
   "name": "python3"
  },
  "language_info": {
   "codemirror_mode": {
    "name": "ipython",
    "version": 3
   },
   "file_extension": ".py",
   "mimetype": "text/x-python",
   "name": "python",
   "nbconvert_exporter": "python",
   "pygments_lexer": "ipython3",
   "version": "3.12.2"
  }
 },
 "nbformat": 4,
 "nbformat_minor": 2
}
