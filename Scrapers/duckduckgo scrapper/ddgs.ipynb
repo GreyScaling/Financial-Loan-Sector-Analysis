{
 "cells": [
  {
   "cell_type": "markdown",
   "metadata": {},
   "source": [
    "## Documentation\n",
    "This script scrapes news articles related to specific sectors in Singapore and Malaysia using DuckDuckGo Search.\n",
    "\n",
    "### Functionality\n",
    "1) Extracts news articles based on keywords, country, and sector.\n",
    "2) Includes title, content, source, sector, and country for each article.\n",
    "3) Saves the extracted articles in separate CSV files for each sector (e.g., ddgs_realestate.csv).\n",
    "\n",
    "### Code Breakdown\n",
    "##### Function extract_content\n",
    "\n",
    "This function takes three arguments:\n",
    "1) keywords: Keywords to search for in news articles (string).\n",
    "2) country: Country to filter news articles (string).\n",
    "3) sector: Sector to categorize news articles (string).\n",
    "It uses DDGS().news to search DuckDuckGo for news articles based on the provided keywords, country, and sets additional parameters:\n",
    "- region=\"wt-wt\": Specifies worldwide search.\n",
    "- safesearch=\"off\": Disables safe search.\n",
    "- timelimit=\"m\": Limits search to the past month.\n",
    "- max_results=200: Sets the maximum number of results to 200.<br>\n",
    "It iterates through the search results and extracts the title, body, and source of each article.<br>\n",
    "It creates a Pandas DataFrame with the extracted information and adds columns for sector and country.<br>\n",
    "It returns the DataFrame containing the scraped news articles.\n",
    "\n",
    "Script Execution<br>\n",
    "The script defines several sectors (Real Estate, Healthcare, Construction, etc.).<br>\n",
    "For each sector, it calls the extract_content function twice:\n",
    "- Once for news articles related to Singapore.\n",
    "- Once for news articles related to Malaysia.\n",
    "- It concatenates the results from both countries into a single DataFrame.\n",
    "- It saves the DataFrame to a CSV file named based on the sector (e.g., ddgs_realestate.csv).\n",
    "- There is a time.sleep(10) line between each sector scraping to avoid overwhelming DuckDuckGo's servers with too many requests at once."
   ]
  },
  {
   "cell_type": "markdown",
   "metadata": {},
   "source": []
  },
  {
   "cell_type": "code",
   "execution_count": 1,
   "metadata": {},
   "outputs": [],
   "source": [
    "from duckduckgo_search import DDGS\n",
    "import pandas as pd\n",
    "import time"
   ]
  },
  {
   "cell_type": "code",
   "execution_count": 2,
   "metadata": {},
   "outputs": [],
   "source": [
    "def extract_content(keywords, country, sector):\n",
    "    \"\"\"\n",
    "    Extracts news articles based on keywords, country, and sector.\n",
    "\n",
    "    Parameters:\n",
    "    - keywords (str): Keywords to search for in news articles.\n",
    "    - country (str): Country to filter news articles.\n",
    "    - sector (str): Sector to categorize news articles.\n",
    "\n",
    "    Returns:\n",
    "    - df (DataFrame): DataFrame containing extracted news articles with titles, content, source, sector, and country.\n",
    "    \"\"\"\n",
    "    results = DDGS().news(keywords=keywords, \n",
    "                      region=\"wt-wt\", \n",
    "                      safesearch=\"off\", \n",
    "                      timelimit=\"m\", \n",
    "                      max_results=200)\n",
    "\n",
    "    info = []\n",
    "    titles = []\n",
    "    source = []\n",
    "    for result in results:\n",
    "        body = result.get('body')\n",
    "        title = result.get('title')\n",
    "        info.append('\\n'.join([title, body]))  # Changed '.' to '\\n'\n",
    "        titles.append(title)\n",
    "        source.append(result.get('source'))\n",
    "\n",
    "    df = pd.DataFrame({'Title': titles, 'Content': info, 'Site-Name': source})\n",
    "    df['Sector'] = sector\n",
    "    df['Country'] = country\n",
    "\n",
    "    return df\n"
   ]
  },
  {
   "cell_type": "code",
   "execution_count": 3,
   "metadata": {},
   "outputs": [],
   "source": [
    "real_estate_sg = extract_content('real estate singapore sg earnings' , 'Singapore' , 'Real Estate')\n",
    "real_estate_my = extract_content('real estate singapore sg earnings' , 'Malaysia' , 'Real Estate')\n",
    "real_estate_df = pd.concat ([real_estate_sg,real_estate_my])\n",
    "real_estate_df.to_csv('ddgs_realestate.csv' , index=False)"
   ]
  },
  {
   "cell_type": "code",
   "execution_count": 5,
   "metadata": {},
   "outputs": [],
   "source": [
    "time.sleep(10)\n",
    "healthcare_my = extract_content(' healthcare healthcare malaysia ' , 'Malaysia' , 'Healthcare')\n",
    "healthcare_sg = extract_content(' healthcare finance singapore ' , 'Singapore' , 'Healthcare')\n",
    "healthcare_df = pd.concat ([healthcare_sg,healthcare_my])\n",
    "healthcare_df.to_csv('ddgs_healthcare.csv' , index=False)"
   ]
  },
  {
   "cell_type": "code",
   "execution_count": 6,
   "metadata": {},
   "outputs": [],
   "source": [
    "time.sleep(10)\n",
    "construction_sg = extract_content('construction earnings singapore' , 'Singapore' , 'Construction')\n",
    "construction_my = extract_content('construction earnings malaysia' , 'Malaysia' , 'Construction')\n",
    "healthcare_df = pd.concat ([construction_sg,construction_my])\n",
    "healthcare_df.to_csv('ddgs_construction.csv' , index=False)"
   ]
  },
  {
   "cell_type": "code",
   "execution_count": 7,
   "metadata": {},
   "outputs": [],
   "source": [
    "time.sleep(10)\n",
    "logistics_my = extract_content('Logistics earnings malaysia' , 'Malaysia' , 'Logistics')\n",
    "logistics_sg = extract_content('Logistics earnings Singapore' , 'Singapore' , 'Logistics')\n",
    "logistics_df = pd.concat ([logistics_sg,logistics_my])\n",
    "logistics_df.to_csv('ddgs_logistics.csv' , index=False)"
   ]
  },
  {
   "cell_type": "code",
   "execution_count": 8,
   "metadata": {},
   "outputs": [],
   "source": [
    "time.sleep(10)\n",
    "industrials_my = extract_content('industrials earnings malaysia' , 'Malaysia' , 'Industrials')\n",
    "industrials_sg = extract_content('industrials earnings Singapore' , 'Singapore' , 'Industrials')\n",
    "industrials_df = pd.concat ([industrials_sg,industrials_my])\n",
    "industrials_df.to_csv('ddgs_industrials.csv' , index=False)"
   ]
  },
  {
   "cell_type": "code",
   "execution_count": 9,
   "metadata": {},
   "outputs": [],
   "source": [
    "time.sleep(10)\n",
    "oilgas_my = extract_content('oil gas earnings malaysia' , 'Malaysia' , 'Oil and Gas')\n",
    "oilgas_sg = extract_content('oil gas earnings Singapore' , 'Singapore' , 'Oil and Gas')\n",
    "oilgas_df = pd.concat ([oilgas_sg,oilgas_my])\n",
    "oilgas_df.to_csv('ddgs_oilgas.csv' , index=False)"
   ]
  },
  {
   "cell_type": "code",
   "execution_count": 10,
   "metadata": {},
   "outputs": [],
   "source": [
    "time.sleep(10)\n",
    "financials_my = extract_content('Financials earnings bank insurance malaysia' , 'Malaysia' , 'Financials')\n",
    "financials_sg = extract_content('Financials earnings bank insurance Singapore' , 'Singapore' , 'Financials')\n",
    "financials_df = pd.concat ([financials_sg,financials_my])\n",
    "financials_df.to_csv('ddgs_financials.csv' , index=False)"
   ]
  },
  {
   "cell_type": "code",
   "execution_count": 11,
   "metadata": {},
   "outputs": [],
   "source": [
    "time.sleep(10)\n",
    "technology_my = extract_content('Financials earnings bank insurance malaysia' , 'Malaysia' , 'Technology')\n",
    "technology_sg = extract_content('Financials earnings bank insurance Singapore' , 'Singapore' , 'Technology')\n",
    "technology_df = pd.concat ([technology_sg,technology_my])\n",
    "technology_df.to_csv('ddgs_technology.csv' , index=False)"
   ]
  },
  {
   "cell_type": "code",
   "execution_count": 12,
   "metadata": {},
   "outputs": [],
   "source": [
    "time.sleep(10)\n",
    "cg_my = extract_content('Consumer goods earnings malaysia' , 'Malaysia' , 'Consumer Goods')\n",
    "cg_sg = extract_content('Consumer goods earnings Singapore' , 'Singapore' , 'Consumer Goods')\n",
    "time.sleep(10)\n",
    "cg_sg_1 = extract_content('retail earnings Singapore' , 'Singapore' , 'Consumer Goods')\n",
    "cg_my_1= extract_content('retail earnings malaysia' , 'Malaysia' , 'Consumer Goods')\n",
    "cg_df = pd.concat ([cg_sg, cg_sg_1 , cg_my , cg_my_1])\n",
    "cg_df.to_csv('ddgs_consumergoods.csv' , index=False)"
   ]
  }
 ],
 "metadata": {
  "kernelspec": {
   "display_name": "base",
   "language": "python",
   "name": "python3"
  },
  "language_info": {
   "codemirror_mode": {
    "name": "ipython",
    "version": 3
   },
   "file_extension": ".py",
   "mimetype": "text/x-python",
   "name": "python",
   "nbconvert_exporter": "python",
   "pygments_lexer": "ipython3",
   "version": "3.9.16"
  }
 },
 "nbformat": 4,
 "nbformat_minor": 2
}
