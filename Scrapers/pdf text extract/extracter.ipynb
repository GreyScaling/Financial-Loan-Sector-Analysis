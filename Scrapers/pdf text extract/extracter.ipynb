{
 "cells": [
  {
   "cell_type": "code",
   "execution_count": 9,
   "metadata": {},
   "outputs": [],
   "source": [
    "from PyPDF2 import PdfReader \n",
    "import pandas as pd\n",
    "import re"
   ]
  },
  {
   "cell_type": "code",
   "execution_count": 10,
   "metadata": {},
   "outputs": [],
   "source": [
    "def get_pdf(filepath):\n",
    "    return PdfReader(filepath)"
   ]
  },
  {
   "cell_type": "code",
   "execution_count": 11,
   "metadata": {},
   "outputs": [],
   "source": [
    "def get_text(pdf , regex):\n",
    "    pdf_text = \" \".join([pdf.pages[i].extract_text() for i in range(len(pdf.pages))])\n",
    "    pdf_text = re.sub(regex , ' ' , pdf_text , flags=re.DOTALL)\n",
    "    return pdf_text"
   ]
  },
  {
   "cell_type": "code",
   "execution_count": 12,
   "metadata": {},
   "outputs": [],
   "source": [
    "pdf1 = get_pdf('paper1.pdf')\n",
    "pdf2 = get_pdf('paper2.pdf')\n",
    "pdf5 = get_pdf('paper5.pdf')\n",
    "\n",
    "\n"
   ]
  },
  {
   "cell_type": "code",
   "execution_count": 13,
   "metadata": {},
   "outputs": [],
   "source": [
    "all_text = []"
   ]
  },
  {
   "cell_type": "code",
   "execution_count": 14,
   "metadata": {},
   "outputs": [],
   "source": [
    "all_text.append(get_text(pdf1 ,'Acknowledgements.*$' ))\n",
    "all_text.append(get_text(pdf2 ,'References.*$' ))\n",
    "all_text.append(get_text(pdf5 ,'Acknowledgements.*$' ))\n",
    "\n",
    "\n"
   ]
  },
  {
   "cell_type": "code",
   "execution_count": 15,
   "metadata": {},
   "outputs": [],
   "source": [
    "titles = ['Impact of the COVID-19 pandemic on a tertiary care public hospital in Singapore: resources and economic costs' ,\n",
    "          'The healthcare system in Singapore' , \n",
    "          'The political economy of health financing reform in Malaysia']\n",
    "site_names = ['sciencedirect','nus' , 'oxfordacademic']"
   ]
  },
  {
   "cell_type": "code",
   "execution_count": 16,
   "metadata": {},
   "outputs": [],
   "source": [
    "df = pd.DataFrame({'Title':titles , 'Content' : all_text , 'Site-Name': site_names})\n",
    "df['Sector'] = 'Healthcare'\n",
    "df['Country'] = ['Singapore' ,'Singapore' , 'Malaysia' ]"
   ]
  },
  {
   "cell_type": "code",
   "execution_count": 17,
   "metadata": {},
   "outputs": [],
   "source": [
    "df.to_csv('pdfs.csv')"
   ]
  }
 ],
 "metadata": {
  "kernelspec": {
   "display_name": "base",
   "language": "python",
   "name": "python3"
  },
  "language_info": {
   "codemirror_mode": {
    "name": "ipython",
    "version": 3
   },
   "file_extension": ".py",
   "mimetype": "text/x-python",
   "name": "python",
   "nbconvert_exporter": "python",
   "pygments_lexer": "ipython3",
   "version": "3.11.4"
  }
 },
 "nbformat": 4,
 "nbformat_minor": 2
}
